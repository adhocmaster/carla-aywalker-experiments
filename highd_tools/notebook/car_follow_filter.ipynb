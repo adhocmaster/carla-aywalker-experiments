{
 "cells": [
  {
   "cell_type": "code",
   "execution_count": 1,
   "metadata": {},
   "outputs": [
    {
     "name": "stdout",
     "output_type": "stream",
     "text": [
      "current working dirC:\\Users\\abjaw\\Documents\\GitHub\\CogMod-driver-behavior-model\\highd_tools\n"
     ]
    }
   ],
   "source": [
    "exec(open('init_notebook.py').read())\n",
    "import dill\n",
    "from highD.PlotHelper import Histogram\n",
    "import pandas as pd\n",
    "import matplotlib.pyplot as plt\n",
    "import seaborn as sns\n",
    "from highD.DataHandler import *\n",
    "\n",
    "from highD import DataHandler\n",
    "from highD.ManeuverFilter import FollowType"
   ]
  },
  {
   "cell_type": "code",
   "execution_count": 2,
   "metadata": {},
   "outputs": [],
   "source": [
    "import math\n",
    "import matplotlib.pyplot as plt\n",
    "\n",
    "def plot_grid(plots):\n",
    "    \"\"\"\n",
    "    Plots a list of matplotlib plots in a 4-column grid.\n",
    "\n",
    "    :param plots: List of matplotlib plots to be displayed\n",
    "    \"\"\"\n",
    "    n_plots = len(plots)\n",
    "    n_rows = math.ceil(n_plots / 4)\n",
    "\n",
    "    fig, axs = plt.subplots(n_rows, 4, figsize=(20, 5 * n_rows))\n",
    "    fig.tight_layout(pad=3.0)\n",
    "\n",
    "    for i, ax in enumerate(axs.flatten()):\n",
    "        if i < n_plots:\n",
    "            ax.axis('off')\n",
    "            ax.imshow(plots[i].get_array(), cmap=plots[i].get_cmap())\n",
    "        else:\n",
    "            fig.delaxes(ax)\n"
   ]
  },
  {
   "cell_type": "code",
   "execution_count": 3,
   "metadata": {},
   "outputs": [
    {
     "name": "stdout",
     "output_type": "stream",
     "text": [
      "dill not found for id:  1\n",
      "(395, 5)\n",
      "(289, 5)\n"
     ]
    }
   ],
   "source": [
    "\n",
    "dataset_list = [1]\n",
    "highD_list = DataHandler.read_dataset(dataset_list)\n",
    "highD = highD_list[0]\n",
    "\n",
    "thw_lower_bound=0\n",
    "thw_upper_bound=4\n",
    "time_duration=5\n",
    "distance_threshold=50\n",
    "follow_type=\"car-car\"\n",
    "\n",
    "follow_meta = highD.get_vehicle_follow_meta(thw_lower_bound=thw_lower_bound,\n",
    "                                            thw_upper_bound=thw_upper_bound,\n",
    "                                            time_duration=time_duration,\n",
    "                                            distance_threshold=distance_threshold)\n",
    "follow_meta.columns\n",
    "car_car = follow_meta[follow_meta['followType'] == FollowType.CAR_CAR]\n",
    "print(follow_meta.shape)\n",
    "print(car_car.shape)\n",
    "\n",
    "\n",
    "# follow_scenario_id = 0\n",
    "# scenario = car_car.iloc[follow_scenario_id]\n",
    "# highD.highD_stats.plot_agent_following_scenario(scenario)\n",
    "\n",
    "# highD.highD_stats.nFrames_vehicle_follow(car_car)\n",
    "# highD.highD_stats.follow_distance_distribution(car_car)\n",
    "# highD.highD_stats.follow_relative_speed_distribution(car_car)\n",
    "# highD.highD_stats.follow_speed_distance_ratio(car_car)\n",
    "\n",
    "\n",
    "# highD.highD_stats.min_velocity_distribution()\n",
    "# highD.highD_stats.max_velocity_distribution()\n",
    "# highD.highD_stats.mean_velocity_distribution()\n",
    "# highD.highD_stats.min_distance_headway()\n",
    "# highD.highD_stats.min_time_headway()\n",
    "# highD.highD_stats.min_ttc()"
   ]
  },
  {
   "attachments": {},
   "cell_type": "markdown",
   "metadata": {},
   "source": []
  },
  {
   "cell_type": "code",
   "execution_count": 6,
   "metadata": {},
   "outputs": [
    {
     "data": {
      "text/html": [
       "<div>\n",
       "<style scoped>\n",
       "    .dataframe tbody tr th:only-of-type {\n",
       "        vertical-align: middle;\n",
       "    }\n",
       "\n",
       "    .dataframe tbody tr th {\n",
       "        vertical-align: top;\n",
       "    }\n",
       "\n",
       "    .dataframe thead th {\n",
       "        text-align: right;\n",
       "    }\n",
       "</style>\n",
       "<table border=\"1\" class=\"dataframe\">\n",
       "  <thead>\n",
       "    <tr style=\"text-align: right;\">\n",
       "      <th></th>\n",
       "      <th>ego_id</th>\n",
       "      <th>preceding_id</th>\n",
       "      <th>start_frame</th>\n",
       "      <th>end_frame</th>\n",
       "      <th>followType</th>\n",
       "    </tr>\n",
       "  </thead>\n",
       "  <tbody>\n",
       "    <tr>\n",
       "      <th>4</th>\n",
       "      <td>733</td>\n",
       "      <td>725</td>\n",
       "      <td>15441</td>\n",
       "      <td>15777</td>\n",
       "      <td>FollowType.CAR_CAR</td>\n",
       "    </tr>\n",
       "    <tr>\n",
       "      <th>5</th>\n",
       "      <td>890</td>\n",
       "      <td>884</td>\n",
       "      <td>18741</td>\n",
       "      <td>19077</td>\n",
       "      <td>FollowType.CAR_CAR</td>\n",
       "    </tr>\n",
       "    <tr>\n",
       "      <th>6</th>\n",
       "      <td>914</td>\n",
       "      <td>912</td>\n",
       "      <td>19291</td>\n",
       "      <td>19650</td>\n",
       "      <td>FollowType.CAR_CAR</td>\n",
       "    </tr>\n",
       "    <tr>\n",
       "      <th>7</th>\n",
       "      <td>964</td>\n",
       "      <td>963</td>\n",
       "      <td>20723</td>\n",
       "      <td>21092</td>\n",
       "      <td>FollowType.CAR_CAR</td>\n",
       "    </tr>\n",
       "    <tr>\n",
       "      <th>8</th>\n",
       "      <td>973</td>\n",
       "      <td>970</td>\n",
       "      <td>21001</td>\n",
       "      <td>21362</td>\n",
       "      <td>FollowType.CAR_CAR</td>\n",
       "    </tr>\n",
       "  </tbody>\n",
       "</table>\n",
       "</div>"
      ],
      "text/plain": [
       "   ego_id  preceding_id  start_frame  end_frame          followType\n",
       "4     733           725        15441      15777  FollowType.CAR_CAR\n",
       "5     890           884        18741      19077  FollowType.CAR_CAR\n",
       "6     914           912        19291      19650  FollowType.CAR_CAR\n",
       "7     964           963        20723      21092  FollowType.CAR_CAR\n",
       "8     973           970        21001      21362  FollowType.CAR_CAR"
      ]
     },
     "execution_count": 6,
     "metadata": {},
     "output_type": "execute_result"
    }
   ],
   "source": [
    "car_car.tail()\n"
   ]
  },
  {
   "cell_type": "code",
   "execution_count": null,
   "metadata": {},
   "outputs": [],
   "source": []
  },
  {
   "cell_type": "code",
   "execution_count": null,
   "metadata": {},
   "outputs": [],
   "source": [
    "thw_lower_bound=0\n",
    "thw_upper_bound=100\n",
    "min_duration = 13 \n",
    "min_distance=30\n",
    "\n",
    "car_following_meta = filter_by_thw(df, 'Car', 'Car', \n",
    "                                   thw_lower_bound=thw_lower_bound, \n",
    "                                   thw_upper_bound=thw_upper_bound, \n",
    "                                   min_duration=min_duration, \n",
    "                                   distance_threshold=min_distance)\n",
    "print(car_following_meta.keys())\n",
    "print(len(car_following_meta['ego_id']))\n",
    "car_following_meta_df = pd.DataFrame(car_following_meta)\n",
    "car_following_meta_df.head()"
   ]
  },
  {
   "cell_type": "code",
   "execution_count": null,
   "metadata": {},
   "outputs": [],
   "source": []
  },
  {
   "cell_type": "code",
   "execution_count": null,
   "metadata": {},
   "outputs": [],
   "source": [
    "\n",
    "\n",
    "\n"
   ]
  },
  {
   "cell_type": "code",
   "execution_count": null,
   "metadata": {},
   "outputs": [],
   "source": []
  }
 ],
 "metadata": {
  "kernelspec": {
   "display_name": "carla-vehicle",
   "language": "python",
   "name": "python3"
  },
  "language_info": {
   "codemirror_mode": {
    "name": "ipython",
    "version": 3
   },
   "file_extension": ".py",
   "mimetype": "text/x-python",
   "name": "python",
   "nbconvert_exporter": "python",
   "pygments_lexer": "ipython3",
   "version": "3.7.11"
  },
  "orig_nbformat": 4,
  "vscode": {
   "interpreter": {
    "hash": "fa5f0ba12b2865ab3a23daa32f07998d8efd58032fc91693b4926503a96e5135"
   }
  }
 },
 "nbformat": 4,
 "nbformat_minor": 2
}
