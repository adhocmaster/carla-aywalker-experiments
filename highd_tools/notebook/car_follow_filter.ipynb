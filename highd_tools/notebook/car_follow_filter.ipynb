{
 "cells": [
  {
   "cell_type": "code",
   "execution_count": null,
   "metadata": {},
   "outputs": [],
   "source": [
    "%load_ext autoreload\n",
    "%autoreload 2\n",
    "exec(open('init_notebook.py').read())\n",
    "from matplotlib import pyplot as plt\n",
    "from highD.HighD import HighD\n",
    "from highD.Filter import Filter\n",
    "from highD.Plot import Plot\n",
    "from highD.Visualizer import GIF\n",
    "from highD.helper import *"
   ]
  },
  {
   "cell_type": "code",
   "execution_count": null,
   "metadata": {},
   "outputs": [],
   "source": [
    "ids = [\"01\", \"02\", \"03\", \"04\", \"05\", \"06\", \"07\", \"08\", \"09\", \"10\"]\n",
    "highD = HighD(ids, DATA_DIRECTORY)\n",
    "\n",
    "dataset_id = 0\n",
    "_, tMeta, tracks = highD.get_dataframe_tuple(dataset_id)\n",
    "df = highD.get_combined_dataframe(dataset_id)\n",
    "image = highD.get_image(dataset_id)"
   ]
  },
  {
   "cell_type": "code",
   "execution_count": 18,
   "metadata": {},
   "outputs": [
    {
     "ename": "TypeError",
     "evalue": "list indices must be integers or slices, not str",
     "output_type": "error",
     "traceback": [
      "\u001b[1;31m---------------------------------------------------------------------------\u001b[0m",
      "\u001b[1;31mTypeError\u001b[0m                                 Traceback (most recent call last)",
      "\u001b[1;32m<ipython-input-18-92a4166b6bf1>\u001b[0m in \u001b[0;36m<module>\u001b[1;34m\u001b[0m\n\u001b[1;32m----> 1\u001b[1;33m \u001b[0mdfs\u001b[0m \u001b[1;33m=\u001b[0m \u001b[0mhighD\u001b[0m\u001b[1;33m.\u001b[0m\u001b[0mget_images\u001b[0m\u001b[1;33m(\u001b[0m\u001b[0mids\u001b[0m\u001b[1;33m)\u001b[0m\u001b[1;33m\u001b[0m\u001b[1;33m\u001b[0m\u001b[0m\n\u001b[0m\u001b[0;32m      2\u001b[0m \u001b[0mimages\u001b[0m \u001b[1;33m=\u001b[0m \u001b[0mhighD\u001b[0m\u001b[1;33m.\u001b[0m\u001b[0mget_images\u001b[0m\u001b[1;33m(\u001b[0m\u001b[0mids\u001b[0m\u001b[1;33m)\u001b[0m\u001b[1;33m\u001b[0m\u001b[1;33m\u001b[0m\u001b[0m\n",
      "\u001b[1;32m~\\Documents\\GitHub\\CogMod-driver-behavior-model\\highd_tools\\highD\\HighD.py\u001b[0m in \u001b[0;36mget_images\u001b[1;34m(self, ids)\u001b[0m\n\u001b[0;32m     61\u001b[0m         \u001b[0mret\u001b[0m \u001b[1;33m=\u001b[0m \u001b[1;33m[\u001b[0m\u001b[1;33m]\u001b[0m\u001b[1;33m\u001b[0m\u001b[1;33m\u001b[0m\u001b[0m\n\u001b[0;32m     62\u001b[0m         \u001b[1;32mfor\u001b[0m \u001b[0mid\u001b[0m \u001b[1;32min\u001b[0m \u001b[0mids\u001b[0m\u001b[1;33m:\u001b[0m\u001b[1;33m\u001b[0m\u001b[1;33m\u001b[0m\u001b[0m\n\u001b[1;32m---> 63\u001b[1;33m             \u001b[0mret\u001b[0m\u001b[1;33m.\u001b[0m\u001b[0mappend\u001b[0m\u001b[1;33m(\u001b[0m\u001b[0mself\u001b[0m\u001b[1;33m.\u001b[0m\u001b[0mimages\u001b[0m\u001b[1;33m[\u001b[0m\u001b[0mid\u001b[0m\u001b[1;33m]\u001b[0m\u001b[1;33m)\u001b[0m\u001b[1;33m\u001b[0m\u001b[1;33m\u001b[0m\u001b[0m\n\u001b[0m\u001b[0;32m     64\u001b[0m         \u001b[1;32mreturn\u001b[0m \u001b[0mret\u001b[0m\u001b[1;33m\u001b[0m\u001b[1;33m\u001b[0m\u001b[0m\n\u001b[0;32m     65\u001b[0m \u001b[1;33m\u001b[0m\u001b[0m\n",
      "\u001b[1;31mTypeError\u001b[0m: list indices must be integers or slices, not str"
     ]
    }
   ],
   "source": [
    "dfs = highD.get_images(ids)\n",
    "images = highD.get_images(ids)"
   ]
  },
  {
   "cell_type": "code",
   "execution_count": null,
   "metadata": {},
   "outputs": [],
   "source": [
    "follow_meta = Filter.filter_vehicle_follow_scenario(df, \n",
    "                                      ego_type='Car', \n",
    "                                      preceding_type='Car',\n",
    "                                      minDuration=5, \n",
    "                                      startDistance=30)\n",
    "\n",
    "print(follow_meta.shape)\n",
    "follow_meta.head()"
   ]
  },
  {
   "cell_type": "code",
   "execution_count": null,
   "metadata": {},
   "outputs": [],
   "source": [
    "import pandas as pd\n",
    "import plotly.subplots as sp\n",
    "import plotly.graph_objs as go\n",
    "\n",
    "def plot_xAcceleration_heatmap_scatter(dataframes, zmin=None, zmax=None, plot_width=100, plot_height=500):\n",
    "    # Step 0: Concatenate all DataFrames in the list\n",
    "    df_all = pd.concat(dataframes, ignore_index=True)\n",
    "\n",
    "    # Step 1: Create xAcceleration_tplus1 column\n",
    "    df_all['xAcceleration_tplus1'] = df_all['xAcceleration'].shift(-1)\n",
    "\n",
    "    # Step 2: Drop rows with missing values\n",
    "    df_all.dropna(subset=['xAcceleration_tplus1'], inplace=True)\n",
    "\n",
    "    # Step 3: Create a heatmap and scatter plot using plotly\n",
    "    heatmap_data = pd.crosstab(df_all['xAcceleration'], df_all['xAcceleration_tplus1'])\n",
    "\n",
    "    # Create subplots: 1 row, 2 columns\n",
    "    fig = sp.make_subplots(rows=1, cols=2)\n",
    "\n",
    "    # Add scatter plot to the first column\n",
    "    fig.add_trace(go.Scatter(\n",
    "        x = df_all['xAcceleration'],\n",
    "        y = df_all['xAcceleration_tplus1'],\n",
    "        mode = 'markers'\n",
    "    ), row=1, col=1)\n",
    "\n",
    "    # Add heatmap to the second column\n",
    "    fig.add_trace(go.Heatmap(\n",
    "        x=heatmap_data.columns,\n",
    "        y=heatmap_data.index,\n",
    "        z=heatmap_data.values,\n",
    "        zmin=zmin,\n",
    "        zmax=zmax,\n",
    "        colorbar=dict(title='Frequency'),\n",
    "        colorscale='Viridis'\n",
    "    ), row=1, col=2)\n",
    "    \n",
    "    fig.update_layout(\n",
    "        title='Scatter plot and Heatmap of xAcceleration_t vs xAcceleration_t+1',\n",
    "        width=plot_width,\n",
    "        height=plot_height\n",
    "    )\n",
    "    \n",
    "    fig.show()\n",
    "\n",
    "# Example usage:\n",
    "# Assuming you have a list of DataFrames named 'dataframes'\n",
    "plot_xAcceleration_heatmap_scatter([df], zmin=0, zmax=100, plot_width=1000, plot_height=500)\n"
   ]
  },
  {
   "cell_type": "code",
   "execution_count": null,
   "metadata": {},
   "outputs": [],
   "source": [
    "# select a random scenario\n",
    "import numpy as np\n",
    "scenario_id = np.random.randint(0, len(follow_meta))\n",
    "print('scenario id ', scenario_id)\n",
    "scenario_follow_meta = follow_meta.iloc[scenario_id]\n",
    "ego_id = int(scenario_follow_meta['ego_id'])\n",
    "preceding_id = int(scenario_follow_meta['preceding_id'])\n",
    "start_frame = int(scenario_follow_meta['start_frame'])\n",
    "end_frame = int(scenario_follow_meta['end_frame'])\n",
    "print(ego_id, preceding_id, start_frame, end_frame)"
   ]
  },
  {
   "cell_type": "code",
   "execution_count": null,
   "metadata": {},
   "outputs": [],
   "source": [
    "gif_path = GIF.create_gif_for_agent_with_target(image=image,\n",
    "                                                tracks=df,\n",
    "                                                agent_id=ego_id,\n",
    "                                                target_id=preceding_id,\n",
    "                                                output_dir=OUTPUT_DIRECTORY,\n",
    "                                                showBufferScene=False)\n",
    "display_animated_gif(gif_path)\n",
    "Plot.plot_agent_following_scenario(df, scenario_follow_meta, -200, 200)\n"
   ]
  },
  {
   "cell_type": "code",
   "execution_count": null,
   "metadata": {},
   "outputs": [],
   "source": [
    "print(df.shape)\n",
    "filtered_df = df[df['id'] == ego_id]\n",
    "filtered_df = filtered_df[(filtered_df['frame'] >= start_frame) & (filtered_df['frame'] <= end_frame)]\n",
    "print(filtered_df.shape)\n",
    "plot_xAcceleration_heatmap([filtered_df], zmin=0, zmax=100, plot_width=900, plot_height=700)\n",
    "plot_xAcceleration_scatter([filtered_df], plot_width=900, plot_height=700)"
   ]
  }
 ],
 "metadata": {
  "kernelspec": {
   "display_name": "carla-vehicle",
   "language": "python",
   "name": "python3"
  },
  "language_info": {
   "codemirror_mode": {
    "name": "ipython",
    "version": 3
   },
   "file_extension": ".py",
   "mimetype": "text/x-python",
   "name": "python",
   "nbconvert_exporter": "python",
   "pygments_lexer": "ipython3",
   "version": "3.7.7"
  },
  "orig_nbformat": 4,
  "vscode": {
   "interpreter": {
    "hash": "fa5f0ba12b2865ab3a23daa32f07998d8efd58032fc91693b4926503a96e5135"
   }
  }
 },
 "nbformat": 4,
 "nbformat_minor": 2
}
