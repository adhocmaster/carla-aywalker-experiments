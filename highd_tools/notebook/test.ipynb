{
 "cells": [
  {
   "cell_type": "code",
   "execution_count": null,
   "metadata": {},
   "outputs": [],
   "source": [
    "import numpy as np\n",
    "# create 6 * 6 matrix\n",
    "Q = np.ones((6, 6))\n",
    "# create 3 * 3 patch\n",
    "p = 2\n",
    "patchesQ = np.array([Q[i:i+p,j:j+p] for i in range(0,6,p) for j in range(0,6,p)])\n",
    "patchesQ.shape\n",
    "K = np.ones((6, 6))\n",
    "K[0:3, 0:3] = 2\n",
    "# create 3 * 3 patch\n",
    "patchesK = np.array([K[i:i+3,j:j+p] for i in range(0,6,p) for j in range(0,6,p)])\n",
    "# multiply Q and K \n",
    "mul = patchesQ @ patchesK\n"
   ]
  },
  {
   "cell_type": "code",
   "execution_count": null,
   "metadata": {},
   "outputs": [],
   "source": [
    "import numpy as np\n",
    "\n",
    "# create 6 * 6 matrix\n",
    "Q = np.ones((6, 6))\n",
    "# create 3 * 3 patch\n",
    "p = 3\n",
    "patchesQ = np.array([Q[i:i+p, j:j+p] for i in range(0, 6-p+1) for j in range(0, 6-p+1)])\n",
    "\n",
    "K = np.ones((6, 6))\n",
    "K[0:3, 0:3] = 2\n",
    "\n",
    "# create 3 * 3 patch\n",
    "patchesK = np.array([K[i:i+p, j:j+p] for i in range(0, 6-p+1) for j in range(0, 6-p+1)])\n",
    "\n",
    "# multiply Q and K \n",
    "mul = [patchQ @ patchK for patchQ, patchK in zip(patchesQ, patchesK)]\n",
    "\n",
    "print(patchesQ.shape)\n",
    "print(patchesK.shape)\n",
    "print(mul)\n"
   ]
  },
  {
   "cell_type": "code",
   "execution_count": 29,
   "metadata": {},
   "outputs": [
    {
     "name": "stdout",
     "output_type": "stream",
     "text": [
      "(9, 2, 2)\n",
      "(9, 2, 2)\n",
      "[array([[4., 4.],\n",
      "       [4., 4.]]), array([[4., 2.],\n",
      "       [4., 2.]]), array([[2., 2.],\n",
      "       [2., 2.]]), array([[3., 3.],\n",
      "       [3., 3.]]), array([[3., 2.],\n",
      "       [3., 2.]]), array([[2., 2.],\n",
      "       [2., 2.]]), array([[2., 2.],\n",
      "       [2., 2.]]), array([[2., 2.],\n",
      "       [2., 2.]]), array([[2., 2.],\n",
      "       [2., 2.]])]\n"
     ]
    }
   ],
   "source": [
    "import numpy as np\n",
    "\n",
    "def create_non_overlapping_patches(matrix, patch_size):\n",
    "    patches = []\n",
    "    row, col = matrix.shape\n",
    "    for i in range(0, row, patch_size):\n",
    "        for j in range(0, col, patch_size):\n",
    "            patch = matrix[i:i + patch_size, j:j + patch_size]\n",
    "            patches.append(patch)\n",
    "    return np.array(patches)\n",
    "\n",
    "# create 6 * 6 matrix\n",
    "Q = np.ones((6, 6))\n",
    "\n",
    "# create 3 * 3 patch\n",
    "p = 2\n",
    "patchesQ = create_non_overlapping_patches(Q, p)\n",
    "\n",
    "K = np.ones((6, 6))\n",
    "K[0:3, 0:3] = 2\n",
    "\n",
    "# create 3 * 3 patch\n",
    "patchesK = create_non_overlapping_patches(K, p)\n",
    "\n",
    "# multiply Q and K\n",
    "mul = [patchQ @ patchK for patchQ, patchK in zip(patchesQ, patchesK)]\n",
    "\n",
    "print(patchesQ.shape)\n",
    "print(patchesK.shape)\n",
    "print(mul)\n"
   ]
  },
  {
   "cell_type": "code",
   "execution_count": null,
   "metadata": {},
   "outputs": [],
   "source": [
    "# mul.shape\n",
    "print(K)\n",
    "print(patchesK)"
   ]
  },
  {
   "cell_type": "code",
   "execution_count": null,
   "metadata": {},
   "outputs": [],
   "source": [
    "mul"
   ]
  }
 ],
 "metadata": {
  "kernelspec": {
   "display_name": "Python 3",
   "language": "python",
   "name": "python3"
  },
  "language_info": {
   "codemirror_mode": {
    "name": "ipython",
    "version": 3
   },
   "file_extension": ".py",
   "mimetype": "text/x-python",
   "name": "python",
   "nbconvert_exporter": "python",
   "pygments_lexer": "ipython3",
   "version": "3.7.7"
  },
  "orig_nbformat": 4
 },
 "nbformat": 4,
 "nbformat_minor": 2
}
