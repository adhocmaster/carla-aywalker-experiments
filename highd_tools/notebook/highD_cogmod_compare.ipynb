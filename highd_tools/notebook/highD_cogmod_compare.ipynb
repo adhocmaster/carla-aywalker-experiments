{
 "cells": [
  {
   "cell_type": "code",
   "execution_count": 2,
   "metadata": {},
   "outputs": [
    {
     "name": "stdout",
     "output_type": "stream",
     "text": [
      "current working dirC:\\Users\\abjawad\\Documents\\GitHub\\cogMod-driver-behavior-model\\highd_tools\n"
     ]
    }
   ],
   "source": [
    "%load_ext autoreload\n",
    "%autoreload 2\n",
    "exec(open('init_notebook.py').read())\n",
    "from matplotlib import pyplot as plt\n",
    "from highD.HighD import HighD\n",
    "from highD.Filter import Filter\n",
    "from highD.Plot import Plot\n",
    "from highD.Visualizer import GIF\n",
    "from highD.helper import *"
   ]
  },
  {
   "cell_type": "code",
   "execution_count": 57,
   "metadata": {},
   "outputs": [
    {
     "name": "stdout",
     "output_type": "stream",
     "text": [
      "Index(['scenario_id', 'exec_num', 'frame', 'scenario_status', 'ego_id', 'c_x',\n",
      "       'c_y', 'c_speed', 'c_acceleration', 'target_speed', 'c_steer',\n",
      "       'c_throttle', 'c_brake', 'perceived_c_x', 'perceived_c_y',\n",
      "       'perceived_c_speed', 'gaze_direction', 'preceding_id', 'a_x', 'a_y',\n",
      "       'a_speed'],\n",
      "      dtype='object')\n"
     ]
    }
   ],
   "source": [
    "\n",
    "import os\n",
    "\n",
    "def read_cogmod_files(file_names, COGMOD_LOGS):\n",
    "    dfs = []\n",
    "    for file_name in file_names:\n",
    "        cogmod_file_path = os.path.join(COGMOD_LOGS, file_name)\n",
    "        df = pd.read_csv(cogmod_file_path)\n",
    "        dfs.append(df)\n",
    "    return dfs\n",
    "\n",
    "file_names = [\"2023-05-28-18-42-01---0.csv\",\n",
    "              \"2023-05-28-18-57-59---0.csv\"]    \n",
    "cogmod_dfs = read_cogmod_files(file_names, COGMOD_LOGS)\n",
    "print(cogmod_dfs[0].columns)\n",
    "# cogmod_dfs[0].head()\n",
    "# Plot.plot_individual_exec_nums(cogmod_dfs[-1])\n",
    "# Plot.plot_individual_exec_nums(cogmod_dfs[-1], from_start=True)\n",
    "# Plot.plot_individual_exec_nums(cogmod_dfs[-1], only_running=True)"
   ]
  },
  {
   "cell_type": "code",
   "execution_count": null,
   "metadata": {},
   "outputs": [],
   "source": [
    "# Plot.plot_all_exec_nums(cogmod_dfs[0])\n",
    "# Plot.plot_all_exec_nums(cogmod_dfs[0])\n",
    "# Plot.plot_all_exec_nums(cogmod_dfs[-1])"
   ]
  },
  {
   "cell_type": "code",
   "execution_count": 75,
   "metadata": {},
   "outputs": [],
   "source": [
    "import numpy as np\n",
    "import matplotlib.pyplot as plt\n",
    "\n",
    "def calculate_ttc_idm_cogmod(df, cMin, cMax):\n",
    "    # Calculate distance between ego vehicle and preceding vehicle\n",
    "    distance = np.sqrt((df['c_x'] - df['a_x'])**2 + (df['c_y'] - df['a_y'])**2)\n",
    "\n",
    "    # Calculate relative speed between ego vehicle and preceding vehicle\n",
    "    relative_speed = df['c_speed'] - df['a_speed']\n",
    "\n",
    "    # Avoid division by zero when calculating TTC\n",
    "    relative_speed = np.where(relative_speed != 0, relative_speed, 1e-6)\n",
    "\n",
    "    # Calculate TTC\n",
    "    ttc = distance / relative_speed\n",
    "\n",
    "    # Filter TTC values\n",
    "    ttc = ttc[ttc < cMax]\n",
    "    ttc = ttc[ttc > cMin]\n",
    "\n",
    "    return ttc\n",
    "\n",
    "def calculate_ttc(tracks, follow_meta, cMin, cMax):\n",
    "    # Calculate distance between ego vehicle and preceding vehicle\n",
    "    ego_id = follow_meta['ego_id']\n",
    "    start_frame = follow_meta['start_frame']\n",
    "    end_frame = follow_meta['end_frame']\n",
    "\n",
    "    # Get the relevant tracks for the scenario\n",
    "    ego_tracks = tracks.loc[(tracks['id'] == ego_id) & (tracks['frame'] >= start_frame) & (tracks['frame'] < end_frame)]\n",
    "\n",
    "    # Calculate TTC for ego vehicle\n",
    "    ttc_ego = ego_tracks['ttc'].values\n",
    "    \n",
    "    ttc_ego = ttc_ego[ttc_ego < cMax]\n",
    "    ttc_ego = ttc_ego[ttc_ego > cMin]\n",
    "    \n",
    "    return ttc_ego\n",
    "\n",
    "# def calculate_and_plot_ttc_all(df1, df2, df3=None):\n",
    "#     dfs = [df1, df2]\n",
    "\n",
    "#     fig, axes = plt.subplots(nrows=1, ncols=len(dfs), figsize=(10 * len(dfs), 5))\n",
    "\n",
    "#     for i, df in enumerate(dfs):\n",
    "#         exec_nums = df['exec_num'].unique()\n",
    "#         ttc_all = []\n",
    "#         for exec_num in exec_nums:\n",
    "#             df_group = df[df['exec_num'] == exec_num]\n",
    "#             ttc = calculate_ttc(df_group)\n",
    "#             ttc_all.extend(ttc.tolist())\n",
    "\n",
    "#         # Plot the distribution of all TTC values\n",
    "#         axes[i].hist(ttc_all, bins=20, edgecolor='black', density=True)\n",
    "#         axes[i].set_xlim([0, None])\n",
    "#         axes[i].set_xlabel('TTC Values')\n",
    "#         axes[i].set_ylabel('Frequency')\n",
    "#         axes[i].set_title(f'Distribution of TTC for DataFrame {i+1}')\n",
    "\n",
    "#     plt.tight_layout()\n",
    "#     plt.show()\n",
    "\n",
    "# calculate_and_plot_ttc_all(cogmod_dfs[0], cogmod_dfs[1])\n"
   ]
  },
  {
   "cell_type": "code",
   "execution_count": 65,
   "metadata": {},
   "outputs": [],
   "source": [
    "# calculate_and_plot_ttc_all(cogmod_dfs[-1])"
   ]
  },
  {
   "cell_type": "code",
   "execution_count": 67,
   "metadata": {},
   "outputs": [
    {
     "name": "stdout",
     "output_type": "stream",
     "text": [
      "Loaded data and image for dataset 01.\n",
      "Loaded data and image for dataset 02.\n"
     ]
    }
   ],
   "source": [
    "ids = [\"01\", \"02\"]\n",
    "highD = HighD(ids, DATA_DIRECTORY)\n",
    "\n",
    "dataset_id = 1\n",
    "_, tMeta, tracks = highD.get_dataframe_tuple(dataset_id)\n",
    "df = highD.get_combined_dataframe(dataset_id)\n",
    "image = highD.get_image(dataset_id)"
   ]
  },
  {
   "cell_type": "code",
   "execution_count": 68,
   "metadata": {},
   "outputs": [
    {
     "name": "stdout",
     "output_type": "stream",
     "text": [
      "Filtering vehicle follow scenario Car Car 5 50 100\n",
      "total actors 1047, filtered actors 730, ratio 0.6972301814708691\n",
      "total actors 1047, filtered actors 730, ratio 0.6972301814708691\n",
      "total scenario 10, filtered scenario 5, ratio 0.5\n",
      "(5, 8)\n"
     ]
    },
    {
     "data": {
      "text/html": [
       "<div>\n",
       "<style scoped>\n",
       "    .dataframe tbody tr th:only-of-type {\n",
       "        vertical-align: middle;\n",
       "    }\n",
       "\n",
       "    .dataframe tbody tr th {\n",
       "        vertical-align: top;\n",
       "    }\n",
       "\n",
       "    .dataframe thead th {\n",
       "        text-align: right;\n",
       "    }\n",
       "</style>\n",
       "<table border=\"1\" class=\"dataframe\">\n",
       "  <thead>\n",
       "    <tr style=\"text-align: right;\">\n",
       "      <th></th>\n",
       "      <th>ego_id</th>\n",
       "      <th>preceding_id</th>\n",
       "      <th>start_frame</th>\n",
       "      <th>end_frame</th>\n",
       "      <th>duration</th>\n",
       "      <th>start_distance</th>\n",
       "      <th>max_distance</th>\n",
       "      <th>min_distance</th>\n",
       "    </tr>\n",
       "  </thead>\n",
       "  <tbody>\n",
       "    <tr>\n",
       "      <th>2</th>\n",
       "      <td>50</td>\n",
       "      <td>47</td>\n",
       "      <td>994</td>\n",
       "      <td>1211</td>\n",
       "      <td>8.68</td>\n",
       "      <td>61.680066</td>\n",
       "      <td>61.850137</td>\n",
       "      <td>50.781906</td>\n",
       "    </tr>\n",
       "    <tr>\n",
       "      <th>3</th>\n",
       "      <td>386</td>\n",
       "      <td>380</td>\n",
       "      <td>7878</td>\n",
       "      <td>8100</td>\n",
       "      <td>8.88</td>\n",
       "      <td>99.580025</td>\n",
       "      <td>99.580025</td>\n",
       "      <td>51.590035</td>\n",
       "    </tr>\n",
       "    <tr>\n",
       "      <th>5</th>\n",
       "      <td>680</td>\n",
       "      <td>678</td>\n",
       "      <td>14277</td>\n",
       "      <td>14510</td>\n",
       "      <td>9.32</td>\n",
       "      <td>68.200188</td>\n",
       "      <td>81.370325</td>\n",
       "      <td>68.200188</td>\n",
       "    </tr>\n",
       "    <tr>\n",
       "      <th>6</th>\n",
       "      <td>976</td>\n",
       "      <td>974</td>\n",
       "      <td>21037</td>\n",
       "      <td>21263</td>\n",
       "      <td>9.04</td>\n",
       "      <td>53.295855</td>\n",
       "      <td>56.650961</td>\n",
       "      <td>53.295855</td>\n",
       "    </tr>\n",
       "    <tr>\n",
       "      <th>7</th>\n",
       "      <td>1041</td>\n",
       "      <td>1037</td>\n",
       "      <td>22357</td>\n",
       "      <td>22539</td>\n",
       "      <td>7.28</td>\n",
       "      <td>97.970590</td>\n",
       "      <td>101.894064</td>\n",
       "      <td>97.970590</td>\n",
       "    </tr>\n",
       "  </tbody>\n",
       "</table>\n",
       "</div>"
      ],
      "text/plain": [
       "   ego_id  preceding_id  start_frame  end_frame  duration  start_distance  \\\n",
       "2      50            47          994       1211      8.68       61.680066   \n",
       "3     386           380         7878       8100      8.88       99.580025   \n",
       "5     680           678        14277      14510      9.32       68.200188   \n",
       "6     976           974        21037      21263      9.04       53.295855   \n",
       "7    1041          1037        22357      22539      7.28       97.970590   \n",
       "\n",
       "   max_distance  min_distance  \n",
       "2     61.850137     50.781906  \n",
       "3     99.580025     51.590035  \n",
       "5     81.370325     68.200188  \n",
       "6     56.650961     53.295855  \n",
       "7    101.894064     97.970590  "
      ]
     },
     "execution_count": 68,
     "metadata": {},
     "output_type": "execute_result"
    }
   ],
   "source": [
    "follow_meta = Filter.filter_vehicle_follow_scenario(df, \n",
    "                                      ego_type='Car', \n",
    "                                      preceding_type='Car',\n",
    "                                      minDuration=5, \n",
    "                                      minStartDistance=50,\n",
    "                                      maxStartDistance=100,\n",
    "                                      removeStrictDistanceInc=True)\n",
    "\n",
    "print(follow_meta.shape)\n",
    "follow_meta.head()"
   ]
  },
  {
   "cell_type": "code",
   "execution_count": 69,
   "metadata": {},
   "outputs": [
    {
     "name": "stdout",
     "output_type": "stream",
     "text": [
      "scenario id  0\n",
      "50 47 994 1211\n"
     ]
    }
   ],
   "source": [
    "scenario_id = 0\n",
    "print('scenario id ', scenario_id)\n",
    "scenario_follow_meta = follow_meta.iloc[scenario_id]\n",
    "ego_id = int(scenario_follow_meta['ego_id'])\n",
    "preceding_id = int(scenario_follow_meta['preceding_id'])\n",
    "start_frame = int(scenario_follow_meta['start_frame'])\n",
    "end_frame = int(scenario_follow_meta['end_frame'])\n",
    "print(ego_id, preceding_id, start_frame, end_frame)"
   ]
  },
  {
   "cell_type": "code",
   "execution_count": 74,
   "metadata": {},
   "outputs": [
    {
     "data": {
      "image/png": "[encoded data removed]",
      "text/plain": [
       "<Figure size 720x360 with 1 Axes>"
      ]
     },
     "metadata": {
      "needs_background": "light"
     },
     "output_type": "display_data"
    }
   ],
   "source": [
    "import numpy as np\n",
    "import matplotlib.pyplot as plt\n",
    "\n",
    "def plot_ttc(tracks, follow_meta, cMin, cMax):\n",
    "    # Extract information about the scenario from the follow_meta dataframe\n",
    "    ego_id = follow_meta['ego_id']\n",
    "    start_frame = follow_meta['start_frame']\n",
    "    end_frame = follow_meta['end_frame']\n",
    "\n",
    "    # Get the relevant tracks for the scenario\n",
    "    ego_tracks = tracks.loc[(tracks['id'] == ego_id) & (tracks['frame'] >= start_frame) & (tracks['frame'] < end_frame)]\n",
    "\n",
    "    # Calculate TTC for ego vehicle\n",
    "    ttc_ego = ego_tracks['ttc'].values\n",
    "\n",
    "    # Clip TTC values between cMin and cMax\n",
    "    ttc_ego_clipped = np.clip(ttc_ego, cMin, cMax)\n",
    "\n",
    "    # Normalize TTC values\n",
    "    ttc_ego_norm = ttc_ego_clipped \n",
    "\n",
    "    # Create a plot\n",
    "    plt.figure(figsize=(10, 5))\n",
    "\n",
    "    # Plot TTC distribution\n",
    "    ttc_ego_clipped = ttc_ego_clipped[ttc_ego_clipped != cMin]\n",
    "    ttc_ego_clipped = ttc_ego_clipped[ttc_ego_clipped != cMax]\n",
    "    plt.hist(ttc_ego_clipped, bins=20, edgecolor='black', density=True)\n",
    "    plt.xlabel('TTC Values')\n",
    "    plt.ylabel('Frequency')\n",
    "    plt.title('Distribution of TTC for Ego Vehicle')\n",
    "    plt.show()\n",
    "\n",
    "plot_ttc(df, scenario_follow_meta, 0, 200)"
   ]
  },
  {
   "cell_type": "code",
   "execution_count": 84,
   "metadata": {},
   "outputs": [
    {
     "data": {
      "image/png": "[encoded data removed]",
      "text/plain": [
       "<Figure size 1080x360 with 3 Axes>"
      ]
     },
     "metadata": {
      "needs_background": "light"
     },
     "output_type": "display_data"
    }
   ],
   "source": [
    "import numpy as np\n",
    "import matplotlib.pyplot as plt\n",
    "\n",
    "def plot_ttc_combined(df, follow_meta, df1, df2, cmin, cmax):\n",
    "    # Calculate TTCs\n",
    "    ttc_original = calculate_ttc(df, follow_meta, cmin, cmax)\n",
    "    ttc_idm = calculate_ttc_idm_cogmod(df1, cmin, cmax)\n",
    "    ttc_cogmod = calculate_ttc_idm_cogmod(df2, cmin, cmax)\n",
    "    \n",
    "    # Clip TTCs\n",
    "    ttc_original_clipped = np.clip(ttc_original, cmin, cmax)\n",
    "    ttc_idm_clipped = np.clip(ttc_idm, cmin, cmax)\n",
    "    ttc_cogmod_clipped = np.clip(ttc_cogmod, cmin, cmax)\n",
    "    \n",
    "    # Calculate maximum x-value for TTCs\n",
    "    max_ttc = max(ttc_original_clipped.max(), ttc_idm_clipped.max(), ttc_cogmod_clipped.max())\n",
    "\n",
    "    # Create subplots\n",
    "    fig, axs = plt.subplots(1, 3, figsize=(15, 5))\n",
    "\n",
    "    # Plot original scenario\n",
    "    axs[0].hist(ttc_original_clipped, bins=20, edgecolor='black', density=True)\n",
    "    axs[0].set_xlim([0, max_ttc])\n",
    "    axs[0].set_xlabel('TTC Values')\n",
    "    axs[0].set_ylabel('Frequency')\n",
    "    axs[0].set_title('Original Scenario')\n",
    "\n",
    "    # Plot scenario augmented with IDM\n",
    "    axs[1].hist(ttc_idm_clipped, bins=20, edgecolor='black', density=True)\n",
    "    axs[1].set_xlim([0, max_ttc])\n",
    "    axs[1].set_xlabel('TTC Values')\n",
    "    axs[1].set_ylabel('Frequency')\n",
    "    axs[1].set_title('Augmented using IDM')\n",
    "\n",
    "    # Plot scenario augmented with Cogmod\n",
    "    axs[2].hist(ttc_cogmod_clipped, bins=20, edgecolor='black', density=True)\n",
    "    axs[2].set_xlim([0, max_ttc])\n",
    "    axs[2].set_xlabel('TTC Values')\n",
    "    axs[2].set_ylabel('Frequency')\n",
    "    axs[2].set_title('Augmented using Cogmod')\n",
    "\n",
    "    plt.tight_layout()\n",
    "    plt.show()\n",
    "\n",
    "# Call the function with appropriate parameters\n",
    "plot_ttc_combined(df, scenario_follow_meta, cogmod_dfs[0], cogmod_dfs[1], 0, 200)\n"
   ]
  },
  {
   "cell_type": "code",
   "execution_count": null,
   "metadata": {},
   "outputs": [],
   "source": [
    "#  nCarFollow 256, filter criteria {'thw_lower_bound': 0, 'thw_upper_bound': 4, 'time_duration': 5, 'distance_threshold': 50}"
   ]
  }
 ],
 "metadata": {
  "kernelspec": {
   "display_name": "Python 3",
   "language": "python",
   "name": "python3"
  },
  "language_info": {
   "codemirror_mode": {
    "name": "ipython",
    "version": 3
   },
   "file_extension": ".py",
   "mimetype": "text/x-python",
   "name": "python",
   "nbconvert_exporter": "python",
   "pygments_lexer": "ipython3",
   "version": "3.7.11"
  },
  "orig_nbformat": 4
 },
 "nbformat": 4,
 "nbformat_minor": 2
}
