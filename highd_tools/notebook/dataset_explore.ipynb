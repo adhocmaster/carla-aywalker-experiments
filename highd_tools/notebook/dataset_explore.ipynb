{
 "cells": [
  {
   "cell_type": "code",
   "execution_count": 1,
   "metadata": {},
   "outputs": [
    {
     "name": "stdout",
     "output_type": "stream",
     "text": [
      "current working dirC:\\Users\\abjawad\\Documents\\GitHub\\cogmod-human-driver-model\\highd_tools\n"
     ]
    },
    {
     "name": "stderr",
     "output_type": "stream",
     "text": [
      "c:\\Users\\abjawad\\.conda\\envs\\carla-vehicle\\lib\\site-packages\\numpy\\_distributor_init.py:32: UserWarning: loaded more than 1 DLL from .libs:\n",
      "c:\\Users\\abjawad\\.conda\\envs\\carla-vehicle\\lib\\site-packages\\numpy\\.libs\\libopenblas.PYQHXLVVQ7VESDPUVUADXEVJOBGHJPAY.gfortran-win_amd64.dll\n",
      "c:\\Users\\abjawad\\.conda\\envs\\carla-vehicle\\lib\\site-packages\\numpy\\.libs\\libopenblas.XWYDX2IKJW2NMTWSFYNGFUWKQU3LYTCZ.gfortran-win_amd64.dll\n",
      "  stacklevel=1)\n"
     ]
    }
   ],
   "source": [
    "exec(open('init_notebook.py').read())\n",
    "import cv2\n",
    "import matplotlib.pyplot as plt\n",
    "import dill\n",
    "from highD.DataHandler import *\n",
    "from highD.PlotHelper import Histogram"
   ]
  },
  {
   "cell_type": "code",
   "execution_count": 2,
   "metadata": {},
   "outputs": [],
   "source": [
    "list_dataset = [1]\n",
    "highD_list = read_dataset(list_dataset)\n",
    "\n",
    "# highD_list[0].highD_stats.find_initial_states()\n",
    "\n",
    "# highD_list[0].highD_stats.min_velocity_distribution()\n",
    "# highD_list[0].highD_stats.max_velocity_distribution()\n",
    "# highD_list[0].highD_stats.mean_velocity_distribution()\n",
    "# highD_list[0].highD_stats.min_distance_headway()\n",
    "# highD_list[0].highD_stats.min_time_headway()\n",
    "# highD_list[0].highD_stats.min_ttc()\n"
   ]
  },
  {
   "cell_type": "code",
   "execution_count": 8,
   "metadata": {},
   "outputs": [
    {
     "name": "stdout",
     "output_type": "stream",
     "text": [
      "33\n"
     ]
    }
   ],
   "source": [
    "tracks = highD_list[0].highD_stats.data_container.tracks\n",
    "tracks.head()\n",
    "\n",
    "actor_id = 1 \n",
    "actor_tracks = tracks[tracks['id'] == actor_id]\n",
    "\n",
    "length = len(actor_tracks)\n",
    "print(length)"
   ]
  },
  {
   "cell_type": "code",
   "execution_count": 4,
   "metadata": {},
   "outputs": [
    {
     "name": "stdout",
     "output_type": "stream",
     "text": [
      "          xVelocity      0      1      2      3     4      5      6      7  \\\n",
      "xVelocity       NaN  40.85  40.87  40.88  40.89  40.9  40.92  40.93  40.94   \n",
      "xVelocity       NaN    NaN    NaN    NaN    NaN   NaN    NaN    NaN    NaN   \n",
      "xVelocity       NaN    NaN    NaN    NaN    NaN   NaN    NaN    NaN    NaN   \n",
      "xVelocity       NaN    NaN    NaN    NaN    NaN   NaN    NaN    NaN    NaN   \n",
      "xVelocity       NaN    NaN    NaN    NaN    NaN   NaN    NaN    NaN    NaN   \n",
      "...             ...    ...    ...    ...    ...   ...    ...    ...    ...   \n",
      "xVelocity       NaN    NaN    NaN    NaN    NaN   NaN    NaN    NaN    NaN   \n",
      "xVelocity       NaN    NaN    NaN    NaN    NaN   NaN    NaN    NaN    NaN   \n",
      "xVelocity       NaN    NaN    NaN    NaN    NaN   NaN    NaN    NaN    NaN   \n",
      "xVelocity       NaN    NaN    NaN    NaN    NaN   NaN    NaN    NaN    NaN   \n",
      "xVelocity       NaN    NaN    NaN    NaN    NaN   NaN    NaN    NaN    NaN   \n",
      "\n",
      "               8  ...  73415  73416  73417  73418  73419  73420  73421  73422  \\\n",
      "xVelocity  40.96  ...    NaN    NaN    NaN    NaN    NaN    NaN    NaN    NaN   \n",
      "xVelocity    NaN  ...    NaN    NaN    NaN    NaN    NaN    NaN    NaN    NaN   \n",
      "xVelocity    NaN  ...    NaN    NaN    NaN    NaN    NaN    NaN    NaN    NaN   \n",
      "xVelocity    NaN  ...    NaN    NaN    NaN    NaN    NaN    NaN    NaN    NaN   \n",
      "xVelocity    NaN  ...    NaN    NaN    NaN    NaN    NaN    NaN    NaN    NaN   \n",
      "...          ...  ...    ...    ...    ...    ...    ...    ...    ...    ...   \n",
      "xVelocity    NaN  ...    NaN    NaN    NaN    NaN    NaN    NaN    NaN    NaN   \n",
      "xVelocity    NaN  ...  40.02  40.03  40.03  40.04  40.04  40.05  40.05  40.06   \n",
      "xVelocity    NaN  ...    NaN    NaN    NaN    NaN    NaN    NaN    NaN    NaN   \n",
      "xVelocity    NaN  ...    NaN    NaN    NaN    NaN    NaN    NaN    NaN    NaN   \n",
      "xVelocity    NaN  ...    NaN    NaN    NaN    NaN    NaN    NaN    NaN    NaN   \n",
      "\n",
      "           73423  73424  \n",
      "xVelocity    NaN    NaN  \n",
      "xVelocity    NaN    NaN  \n",
      "xVelocity    NaN    NaN  \n",
      "xVelocity    NaN    NaN  \n",
      "xVelocity    NaN    NaN  \n",
      "...          ...    ...  \n",
      "xVelocity    NaN    NaN  \n",
      "xVelocity  40.06  40.07  \n",
      "xVelocity    NaN    NaN  \n",
      "xVelocity    NaN    NaN  \n",
      "xVelocity    NaN    NaN  \n",
      "\n",
      "[236 rows x 32174 columns]\n"
     ]
    }
   ],
   "source": []
  }
 ],
 "metadata": {
  "kernelspec": {
   "display_name": "carla-vehicle",
   "language": "python",
   "name": "python3"
  },
  "language_info": {
   "codemirror_mode": {
    "name": "ipython",
    "version": 3
   },
   "file_extension": ".py",
   "mimetype": "text/x-python",
   "name": "python",
   "nbconvert_exporter": "python",
   "pygments_lexer": "ipython3",
   "version": "3.7.11"
  },
  "orig_nbformat": 4,
  "vscode": {
   "interpreter": {
    "hash": "fa5f0ba12b2865ab3a23daa32f07998d8efd58032fc91693b4926503a96e5135"
   }
  }
 },
 "nbformat": 4,
 "nbformat_minor": 2
}
