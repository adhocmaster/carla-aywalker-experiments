{
 "cells": [
  {
   "cell_type": "code",
   "execution_count": 2,
   "metadata": {},
   "outputs": [
    {
     "name": "stdout",
     "output_type": "stream",
     "text": [
      "current working dirC:\\Users\\abjawad\\Documents\\GitHub\\cogMod-driver-behavior-model\\highd_tools\n"
     ]
    }
   ],
   "source": [
    "%load_ext autoreload\n",
    "%autoreload 2\n",
    "exec(open('init_notebook.py').read())\n",
    "from matplotlib import pyplot as plt\n",
    "from highD.HighD import HighD\n",
    "from highD.Filter import Filter\n",
    "from highD.Plot import Plot\n",
    "from highD.Visualizer import GIF\n",
    "from highD.helper import *"
   ]
  },
  {
   "attachments": {},
   "cell_type": "markdown",
   "metadata": {},
   "source": [
    "## Read dataset\n",
    "Read highd files from the defined `Data_directory` folder.\n",
    "\n",
    "- The function takes in `ids` which is a list of id (e.g. [\"01\", \"02\"])\n",
    "- Returns two variables: `dfs`, `images`\n",
    "- `dfs` is a tuple (recordingMeta, tracksMeta, tracks)\n",
    "- `images` is a list of highway images"
   ]
  },
  {
   "cell_type": "code",
   "execution_count": 7,
   "metadata": {},
   "outputs": [
    {
     "name": "stdout",
     "output_type": "stream",
     "text": [
      "Loaded data and image for dataset 01.\n",
      "Loaded data and image for dataset 02.\n",
      "Loaded data and image for dataset 03.\n",
      "Loaded data and image for dataset 04.\n",
      "Loaded data and image for dataset 05.\n",
      "Loaded data and image for dataset 06.\n",
      "Loaded data and image for dataset 07.\n",
      "Loaded data and image for dataset 08.\n",
      "Loaded data and image for dataset 09.\n",
      "Loaded data and image for dataset 10.\n",
      "Loaded data and image for dataset 11.\n",
      "Loaded data and image for dataset 12.\n",
      "Loaded data and image for dataset 13.\n",
      "Loaded data and image for dataset 14.\n",
      "Loaded data and image for dataset 15.\n",
      "Loaded data and image for dataset 16.\n",
      "Loaded data and image for dataset 17.\n",
      "Loaded data and image for dataset 18.\n",
      "Loaded data and image for dataset 19.\n",
      "Loaded data and image for dataset 20.\n",
      "Loaded data and image for dataset 21.\n",
      "Loaded data and image for dataset 22.\n",
      "Loaded data and image for dataset 23.\n",
      "Loaded data and image for dataset 24.\n",
      "Loaded data and image for dataset 25.\n",
      "Loaded data and image for dataset 26.\n",
      "Loaded data and image for dataset 27.\n",
      "Loaded data and image for dataset 28.\n",
      "Loaded data and image for dataset 29.\n",
      "Loaded data and image for dataset 30.\n",
      "Loaded data and image for dataset 31.\n",
      "Loaded data and image for dataset 32.\n",
      "Loaded data and image for dataset 33.\n",
      "Loaded data and image for dataset 34.\n",
      "Loaded data and image for dataset 35.\n",
      "Loaded data and image for dataset 36.\n",
      "Loaded data and image for dataset 37.\n",
      "Loaded data and image for dataset 38.\n",
      "Loaded data and image for dataset 39.\n",
      "Loaded data and image for dataset 40.\n",
      "Loaded data and image for dataset 41.\n",
      "Loaded data and image for dataset 42.\n",
      "Loaded data and image for dataset 43.\n",
      "Loaded data and image for dataset 44.\n",
      "Loaded data and image for dataset 45.\n",
      "Loaded data and image for dataset 46.\n",
      "Loaded data and image for dataset 47.\n",
      "Loaded data and image for dataset 48.\n",
      "Loaded data and image for dataset 49.\n",
      "Loaded data and image for dataset 50.\n",
      "Loaded data and image for dataset 51.\n",
      "Loaded data and image for dataset 52.\n",
      "Loaded data and image for dataset 53.\n",
      "Loaded data and image for dataset 54.\n",
      "Loaded data and image for dataset 55.\n",
      "Loaded data and image for dataset 56.\n",
      "Loaded data and image for dataset 57.\n",
      "Loaded data and image for dataset 58.\n",
      "Loaded data and image for dataset 59.\n",
      "Loaded data and image for dataset 60.\n"
     ]
    }
   ],
   "source": [
    "ids = [\"01\", \"02\", \"03\", \"04\", \"05\", \"06\", \"07\", \"08\", \"09\", \"10\", \n",
    "       \"11\", \"12\", \"13\", \"14\", \"15\", \"16\", \"17\", \"18\", \"19\", \"20\", \n",
    "       \"21\", \"22\", \"23\", \"24\", \"25\", \"26\", \"27\", \"28\", \"29\", \"30\", \n",
    "       \"31\", \"32\", \"33\", \"34\", \"35\", \"36\", \"37\", \"38\", \"39\", \"40\", \n",
    "       \"41\", \"42\", \"43\", \"44\", \"45\", \"46\", \"47\", \"48\", \"49\", \"50\", \n",
    "       \"51\", \"52\", \"53\", \"54\", \"55\", \"56\", \"57\", \"58\", \"59\", \"60\"]\n",
    "# ids = [\"01\", \"02\"]\n",
    "highD = HighD(ids, DATA_DIRECTORY)\n"
   ]
  },
  {
   "cell_type": "code",
   "execution_count": null,
   "metadata": {},
   "outputs": [],
   "source": []
  },
  {
   "cell_type": "code",
   "execution_count": 5,
   "metadata": {},
   "outputs": [
    {
     "data": {
      "text/html": [
       "<div>\n",
       "<style scoped>\n",
       "    .dataframe tbody tr th:only-of-type {\n",
       "        vertical-align: middle;\n",
       "    }\n",
       "\n",
       "    .dataframe tbody tr th {\n",
       "        vertical-align: top;\n",
       "    }\n",
       "\n",
       "    .dataframe thead th {\n",
       "        text-align: right;\n",
       "    }\n",
       "</style>\n",
       "<table border=\"1\" class=\"dataframe\">\n",
       "  <thead>\n",
       "    <tr style=\"text-align: right;\">\n",
       "      <th></th>\n",
       "      <th>id</th>\n",
       "      <th>frameRate</th>\n",
       "      <th>locationId</th>\n",
       "      <th>speedLimit</th>\n",
       "      <th>month</th>\n",
       "      <th>weekDay</th>\n",
       "      <th>startTime</th>\n",
       "      <th>duration</th>\n",
       "      <th>totalDrivenDistance</th>\n",
       "      <th>totalDrivenTime</th>\n",
       "      <th>numVehicles</th>\n",
       "      <th>numCars</th>\n",
       "      <th>numTrucks</th>\n",
       "      <th>upperLaneMarkings</th>\n",
       "      <th>lowerLaneMarkings</th>\n",
       "    </tr>\n",
       "  </thead>\n",
       "  <tbody>\n",
       "    <tr>\n",
       "      <th>0</th>\n",
       "      <td>1</td>\n",
       "      <td>25</td>\n",
       "      <td>2</td>\n",
       "      <td>-1.0</td>\n",
       "      <td>9.2017</td>\n",
       "      <td>Tue</td>\n",
       "      <td>08:38</td>\n",
       "      <td>901.56</td>\n",
       "      <td>418549.19</td>\n",
       "      <td>13908.12</td>\n",
       "      <td>1047</td>\n",
       "      <td>863</td>\n",
       "      <td>184</td>\n",
       "      <td>8.51;12.59;16.43</td>\n",
       "      <td>21.00;24.96;28.80</td>\n",
       "    </tr>\n",
       "  </tbody>\n",
       "</table>\n",
       "</div>"
      ],
      "text/plain": [
       "   id  frameRate  locationId  speedLimit   month weekDay startTime  duration  \\\n",
       "0   1         25           2        -1.0  9.2017     Tue     08:38    901.56   \n",
       "\n",
       "   totalDrivenDistance  totalDrivenTime  numVehicles  numCars  numTrucks  \\\n",
       "0            418549.19         13908.12         1047      863        184   \n",
       "\n",
       "  upperLaneMarkings  lowerLaneMarkings  \n",
       "0  8.51;12.59;16.43  21.00;24.96;28.80  "
      ]
     },
     "execution_count": 5,
     "metadata": {},
     "output_type": "execute_result"
    }
   ],
   "source": [
    "dataset_id = 1 # remember that the dataset_id is 1-based\n",
    "sceMeta, tMeta, tracks = highD.get_dataframe_tuple(dataset_id)\n",
    "df = highD.get_combined_dataframe(dataset_id)\n",
    "image = highD.get_image(dataset_id)\n",
    "sceMeta.head()"
   ]
  },
  {
   "attachments": {},
   "cell_type": "markdown",
   "metadata": {},
   "source": [
    "# Tracks Meta Distributions "
   ]
  },
  {
   "cell_type": "code",
   "execution_count": 6,
   "metadata": {},
   "outputs": [
    {
     "name": "stdout",
     "output_type": "stream",
     "text": [
      "Filtering by colName class, val Car\n",
      "Filtering by colName minTHW, val (0, 200)\n",
      "Filtering by colName minTTC, val (0, 200)\n",
      "Filtered dataframe from 1047 to 628 rows, ratio 0.5998089780324737\n"
     ]
    },
    {
     "data": {
      "image/png": "[encoded data removed]",
      "text/plain": [
       "<Figure size 1296x288 with 6 Axes>"
      ]
     },
     "metadata": {
      "needs_background": "light"
     },
     "output_type": "display_data"
    }
   ],
   "source": [
    "filtered_tMeta = Filter.filter_dataframe(tMeta, \n",
    "                                        'class', 'Car', \n",
    "                                        'minTHW', (0,200),\n",
    "                                        'minTTC', (0,200))\n",
    "Plot.plot_tMeta_distributions(filtered_tMeta, 'plotting tMeta distributions filtered by car class and minTTC (0~200)')"
   ]
  },
  {
   "attachments": {},
   "cell_type": "markdown",
   "metadata": {},
   "source": [
    "## Velocity distribution of one dataset"
   ]
  },
  {
   "cell_type": "code",
   "execution_count": null,
   "metadata": {},
   "outputs": [],
   "source": [
    "filtered_df = Filter.filter_dataframe(df, \n",
    "                                     'class', 'Car')\n",
    "Plot.plot_speed_distribution_by_lane(filtered_df, 'speed dist by car class')\n",
    "\n",
    "filtered_df = Filter.filter_dataframe(df,\n",
    "                                     'class', 'Truck')\n",
    "Plot.plot_speed_distribution_by_lane(filtered_df, 'speed dist by truck class')\n"
   ]
  },
  {
   "attachments": {},
   "cell_type": "markdown",
   "metadata": {},
   "source": [
    "### Plot distribution from tracks "
   ]
  },
  {
   "cell_type": "code",
   "execution_count": null,
   "metadata": {},
   "outputs": [],
   "source": [
    "# Call the function with a filtered DataFrame, a title, and any number of columns\n",
    "filtered_df = Filter.filter_dataframe(df,\n",
    "                                     'class', 'Car', \n",
    "                                     'ttc', (0,200))\n",
    "Plot.plot_tracks_distributions(filtered_df, 'ttc', 'thw', 'thw',\n",
    "                               title='plotting TTC, THW, DHW distributions filtered by car class')"
   ]
  },
  {
   "attachments": {},
   "cell_type": "markdown",
   "metadata": {},
   "source": [
    "### Calculated TTC == ttc in dataset\n",
    "In the helper.py has creates similar values as in the dataset"
   ]
  },
  {
   "cell_type": "code",
   "execution_count": null,
   "metadata": {},
   "outputs": [],
   "source": [
    "df_with_calc_ttc = calculate_ttc(df)\n",
    "\n",
    "filtered_df = Filter.filter_dataframe(df_with_calc_ttc,\n",
    "                                     'class', 'Car',\n",
    "                                     'ttc', (0,200),\n",
    "                                     'calculated_ttc', (0,200))\n",
    "\n",
    "print('KS test statistic: ', ks_test_ttc(filtered_df))\n",
    "Plot.plot_tracks_distributions(filtered_df, \n",
    "                              'calculated_ttc', 'ttc',\n",
    "                              title='plotting calculated TTC and TTC distributions')"
   ]
  },
  {
   "cell_type": "code",
   "execution_count": null,
   "metadata": {},
   "outputs": [],
   "source": [
    "# todo acceleration distribution"
   ]
  },
  {
   "attachments": {},
   "cell_type": "markdown",
   "metadata": {},
   "source": [
    "# Code for driving direction and lane id"
   ]
  },
  {
   "cell_type": "code",
   "execution_count": null,
   "metadata": {},
   "outputs": [],
   "source": [
    "df.columns"
   ]
  },
  {
   "cell_type": "code",
   "execution_count": null,
   "metadata": {},
   "outputs": [],
   "source": []
  }
 ],
 "metadata": {
  "kernelspec": {
   "display_name": "carla-vehicle",
   "language": "python",
   "name": "python3"
  },
  "language_info": {
   "codemirror_mode": {
    "name": "ipython",
    "version": 3
   },
   "file_extension": ".py",
   "mimetype": "text/x-python",
   "name": "python",
   "nbconvert_exporter": "python",
   "pygments_lexer": "ipython3",
   "version": "3.7.11"
  },
  "orig_nbformat": 4,
  "vscode": {
   "interpreter": {
    "hash": "fa5f0ba12b2865ab3a23daa32f07998d8efd58032fc91693b4926503a96e5135"
   }
  }
 },
 "nbformat": 4,
 "nbformat_minor": 2
}
