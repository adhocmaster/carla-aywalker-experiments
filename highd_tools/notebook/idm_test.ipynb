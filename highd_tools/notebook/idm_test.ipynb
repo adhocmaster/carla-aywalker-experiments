{
 "cells": [
  {
   "cell_type": "code",
   "execution_count": 1,
   "metadata": {},
   "outputs": [
    {
     "name": "stdout",
     "output_type": "stream",
     "text": [
      "current working dirC:\\Users\\abjaw\\Documents\\GitHub\\CogMod-driver-behavior-model\\highd_tools\n"
     ]
    }
   ],
   "source": [
    "import math\n",
    "%load_ext autoreload\n",
    "%autoreload 2\n",
    "exec(open('init_notebook.py').read())\n",
    "from matplotlib import pyplot as plt\n",
    "from highD.HighD import HighD\n",
    "from highD.Filter import Filter\n",
    "from highD.Plot import Plot\n",
    "from highD.Visualizer import GIF\n",
    "from highD.helper import *"
   ]
  },
  {
   "cell_type": "code",
   "execution_count": 2,
   "metadata": {},
   "outputs": [],
   "source": [
    "\n",
    "class IntelligentDriverModel():\n",
    "    def __init__(self, desired_velocity, safe_time_headway, max_acceleration, comfort_deceleration, acceleration_exponent, minimum_distance, vehicle_length, far_distance):\n",
    "        self.desired_velocity = desired_velocity\n",
    "        self.safe_time_headway = safe_time_headway\n",
    "        self.max_acceleration = max_acceleration\n",
    "        self.comfort_deceleration = comfort_deceleration\n",
    "        self.acceleration_exponent = acceleration_exponent\n",
    "        self.minimum_distance = minimum_distance\n",
    "        self.vehicle_length = vehicle_length\n",
    "        self.far_distance = far_distance\n",
    "\n",
    "    def update(self, ego_velocity, preceding_vehicle_velocity, distance_delta):\n",
    "        self.ego_velocity = ego_velocity\n",
    "        self.preceding_vehicle_velocity = preceding_vehicle_velocity\n",
    "        self.distance_delta = distance_delta\n",
    "        self.next_acceleration = self.calc_acceleration()\n",
    "\n",
    "    def calc_acceleration(self):\n",
    "        acceleration = math.pow((self.ego_velocity / self.desired_velocity), self.acceleration_exponent)\n",
    "        deceleration = math.pow(self.calc_desired_gap() / min(self.far_distance, self.distance_delta), 2)\n",
    "        return float(self.max_acceleration * (1 - acceleration - deceleration))\n",
    "\n",
    "    def calc_desired_gap(self):\n",
    "        del_v = (self.ego_velocity - self.preceding_vehicle_velocity)\n",
    "        ab = self.max_acceleration * self.comfort_deceleration\n",
    "        c = ((self.safe_time_headway * self.ego_velocity) + ((self.ego_velocity * del_v) / (2 * math.sqrt(ab))))\n",
    "        return float(self.minimum_distance + max(0, c))\n"
   ]
  },
  {
   "cell_type": "code",
   "execution_count": 30,
   "metadata": {},
   "outputs": [
    {
     "name": "stdout",
     "output_type": "stream",
     "text": [
      "Loaded data and image for dataset 01.\n",
      "Loaded data and image for dataset 02.\n",
      "Index(['dataset_id', 'locationId', 'frame', 'id', 'class', 'drivingDirection',\n",
      "       'laneId', 'x', 'y', 'width', 'height', 'xVelocity', 'yVelocity',\n",
      "       'xAcceleration', 'yAcceleration', 'frontSightDistance',\n",
      "       'backSightDistance', 'dhw', 'thw', 'ttc', 'precedingXVelocity',\n",
      "       'precedingId', 'followingId', 'leftPrecedingId', 'leftAlongsideId',\n",
      "       'leftFollowingId', 'rightPrecedingId', 'rightAlongsideId',\n",
      "       'rightFollowingId'],\n",
      "      dtype='object')\n"
     ]
    }
   ],
   "source": [
    "ids = [\"01\", \"02\"]\n",
    "highD = HighD(ids, DATA_DIRECTORY)\n",
    "\n",
    "dataset_id = 1\n",
    "_, tMeta, tracks = highD.get_dataframe_tuple(dataset_id)\n",
    "df = highD.get_combined_dataframe(dataset_id)\n",
    "image = highD.get_image(dataset_id)\n",
    "print(df.columns)"
   ]
  },
  {
   "cell_type": "code",
   "execution_count": 5,
   "metadata": {},
   "outputs": [
    {
     "name": "stdout",
     "output_type": "stream",
     "text": [
      "Filtering vehicle follow scenario Car Car 5 50 100\n",
      "total actors 1047, filtered actors 730, ratio 0.6972301814708691\n",
      "total actors 1047, filtered actors 730, ratio 0.6972301814708691\n",
      "total scenario 22, filtered scenario 7, ratio 0.3181818181818182\n",
      "(7, 8)\n"
     ]
    },
    {
     "data": {
      "text/html": [
       "<div>\n",
       "<style scoped>\n",
       "    .dataframe tbody tr th:only-of-type {\n",
       "        vertical-align: middle;\n",
       "    }\n",
       "\n",
       "    .dataframe tbody tr th {\n",
       "        vertical-align: top;\n",
       "    }\n",
       "\n",
       "    .dataframe thead th {\n",
       "        text-align: right;\n",
       "    }\n",
       "</style>\n",
       "<table border=\"1\" class=\"dataframe\">\n",
       "  <thead>\n",
       "    <tr style=\"text-align: right;\">\n",
       "      <th></th>\n",
       "      <th>ego_id</th>\n",
       "      <th>preceding_id</th>\n",
       "      <th>start_frame</th>\n",
       "      <th>end_frame</th>\n",
       "      <th>duration</th>\n",
       "      <th>start_distance</th>\n",
       "      <th>max_distance</th>\n",
       "      <th>min_distance</th>\n",
       "    </tr>\n",
       "  </thead>\n",
       "  <tbody>\n",
       "    <tr>\n",
       "      <th>4</th>\n",
       "      <td>50</td>\n",
       "      <td>47</td>\n",
       "      <td>994</td>\n",
       "      <td>1211</td>\n",
       "      <td>8.68</td>\n",
       "      <td>61.680066</td>\n",
       "      <td>61.850137</td>\n",
       "      <td>50.781906</td>\n",
       "    </tr>\n",
       "    <tr>\n",
       "      <th>7</th>\n",
       "      <td>386</td>\n",
       "      <td>380</td>\n",
       "      <td>7878</td>\n",
       "      <td>8100</td>\n",
       "      <td>8.88</td>\n",
       "      <td>99.580025</td>\n",
       "      <td>99.580025</td>\n",
       "      <td>51.590035</td>\n",
       "    </tr>\n",
       "    <tr>\n",
       "      <th>10</th>\n",
       "      <td>524</td>\n",
       "      <td>521</td>\n",
       "      <td>10480</td>\n",
       "      <td>10676</td>\n",
       "      <td>7.84</td>\n",
       "      <td>81.870748</td>\n",
       "      <td>108.920017</td>\n",
       "      <td>81.870748</td>\n",
       "    </tr>\n",
       "    <tr>\n",
       "      <th>13</th>\n",
       "      <td>680</td>\n",
       "      <td>678</td>\n",
       "      <td>14277</td>\n",
       "      <td>14510</td>\n",
       "      <td>9.32</td>\n",
       "      <td>68.200188</td>\n",
       "      <td>81.370325</td>\n",
       "      <td>68.200188</td>\n",
       "    </tr>\n",
       "    <tr>\n",
       "      <th>14</th>\n",
       "      <td>724</td>\n",
       "      <td>722</td>\n",
       "      <td>15243</td>\n",
       "      <td>15454</td>\n",
       "      <td>8.44</td>\n",
       "      <td>60.811251</td>\n",
       "      <td>142.144027</td>\n",
       "      <td>60.811251</td>\n",
       "    </tr>\n",
       "  </tbody>\n",
       "</table>\n",
       "</div>"
      ],
      "text/plain": [
       "    ego_id  preceding_id  start_frame  end_frame  duration  start_distance  \\\n",
       "4       50            47          994       1211      8.68       61.680066   \n",
       "7      386           380         7878       8100      8.88       99.580025   \n",
       "10     524           521        10480      10676      7.84       81.870748   \n",
       "13     680           678        14277      14510      9.32       68.200188   \n",
       "14     724           722        15243      15454      8.44       60.811251   \n",
       "\n",
       "    max_distance  min_distance  \n",
       "4      61.850137     50.781906  \n",
       "7      99.580025     51.590035  \n",
       "10    108.920017     81.870748  \n",
       "13     81.370325     68.200188  \n",
       "14    142.144027     60.811251  "
      ]
     },
     "execution_count": 5,
     "metadata": {},
     "output_type": "execute_result"
    }
   ],
   "source": [
    "follow_meta = Filter.filter_vehicle_follow_scenario(df, \n",
    "                                      ego_type='Car', \n",
    "                                      preceding_type='Car',\n",
    "                                      minDuration=5, \n",
    "                                      minStartDistance=50,\n",
    "                                      maxStartDistance=100)\n",
    "\n",
    "print(follow_meta.shape)\n",
    "follow_meta.head()"
   ]
  },
  {
   "cell_type": "code",
   "execution_count": 6,
   "metadata": {},
   "outputs": [
    {
     "name": "stdout",
     "output_type": "stream",
     "text": [
      "scenario id  0\n",
      "50 47 994 1211\n"
     ]
    }
   ],
   "source": [
    "import numpy as np\n",
    "\n",
    "scenario_id = 0\n",
    "print('scenario id ', scenario_id)\n",
    "scenario_follow_meta = follow_meta.iloc[scenario_id]\n",
    "ego_id = int(scenario_follow_meta['ego_id'])\n",
    "preceding_id = int(scenario_follow_meta['preceding_id'])\n",
    "start_frame = int(scenario_follow_meta['start_frame'])\n",
    "end_frame = int(scenario_follow_meta['end_frame'])\n",
    "print(ego_id, preceding_id, start_frame, end_frame)"
   ]
  },
  {
   "cell_type": "code",
   "execution_count": 25,
   "metadata": {},
   "outputs": [
    {
     "data": {
      "image/png": "[encoded data removed]",
      "text/plain": [
       "<Figure size 432x288 with 1 Axes>"
      ]
     },
     "metadata": {
      "needs_background": "light"
     },
     "output_type": "display_data"
    }
   ],
   "source": [
    "import pandas as pd\n",
    "import numpy as np\n",
    "from math import sqrt\n",
    "import matplotlib.pyplot as plt\n",
    "\n",
    "# Assume df is your DataFrame\n",
    "\n",
    "# get data for ego and preceding vehicle\n",
    "ego_df = df[(df['id'] == ego_id) & df['frame'].between(start_frame, end_frame)]\n",
    "prec_df = df[(df['id'] == preceding_id) & df['frame'].between(start_frame, end_frame)]\n",
    "\n",
    "# Initialize IDM with desired parameters\n",
    "desired_velocity = ego_df['xVelocity'].max() + 10  # Desired speed is 10 m/s higher\n",
    "safe_time_headway = 0.5\n",
    "max_acceleration = ego_df[ego_df['xAcceleration'] > 0]['xAcceleration'].max()\n",
    "comfort_deceleration = abs(ego_df[ego_df['xAcceleration'] < 0]['xAcceleration'].max())\n",
    "acceleration_exponent = 4.0\n",
    "minimum_distance = 1.0\n",
    "vehicle_length = prec_df.iloc[0]['width'] # assuming the width is the length of the vehicle\n",
    "far_distance = 100.0\n",
    "\n",
    "T = 0.04\n",
    "idm = IntelligentDriverModel(desired_velocity, safe_time_headway, max_acceleration, comfort_deceleration, acceleration_exponent, minimum_distance, vehicle_length, far_distance)\n",
    "\n",
    "# Create a test scenario\n",
    "ego_velocity_idm = [ego_df['xVelocity'].iloc[0]]\n",
    "ego_x = ego_df.iloc[0]['x']\n",
    "for _, prec in prec_df.iterrows():\n",
    "    prec_velocity = prec['xVelocity']\n",
    "    distance_delta = abs(ego_x - prec['x'])\n",
    "    \n",
    "    idm.update(ego_velocity_idm[-1] if ego_velocity_idm else desired_velocity, prec_velocity, distance_delta)\n",
    "    new_velocity = (ego_velocity_idm[-1] if ego_velocity_idm else desired_velocity) + idm.next_acceleration  # Calculate next velocity\n",
    "\n",
    "    # Update ego vehicle position based on new_velocity assuming moving in a straight line\n",
    "    ego_x = ego_x + new_velocity * T  # All movement is in x direction\n",
    "    ego_velocity_idm.append(new_velocity)\n",
    "\n",
    "plt.plot(ego_df.index, ego_df['xVelocity'], label='Actual')\n",
    "plt.plot(ego_df.index, ego_velocity_idm[1:], label='IDM')\n",
    "plt.legend(loc='upper right')\n",
    "plt.xlabel('Frame')\n",
    "plt.ylabel('Velocity')\n",
    "plt.title('Actual vs IDM Ego Vehicle Velocity')\n",
    "plt.show()\n"
   ]
  },
  {
   "cell_type": "code",
   "execution_count": 29,
   "metadata": {},
   "outputs": [],
   "source": [
    "# Simulation\n",
    "ego_velocity_idm = []\n",
    "ego_x = [ego_df.iloc[0]['x']]  # Initial position of ego vehicle\n",
    "prec_x = prec_df['x'].values.tolist()  # Preceding vehicle position list\n",
    "\n",
    "for i, prec_velocity in enumerate(prec_df['xVelocity']):\n",
    "    distance_delta = abs(ego_x[-1] - prec_x[i])\n",
    "\n",
    "    idm.update(ego_velocity_idm[-1] if ego_velocity_idm else desired_velocity, prec_velocity, distance_delta)\n",
    "    new_velocity = (ego_velocity_idm[-1] if ego_velocity_idm else desired_velocity) + idm.next_acceleration  # Calculate next velocity\n",
    "\n",
    "    # Update ego vehicle position based on new_velocity assuming moving in a straight line\n",
    "    ego_x.append(ego_x[-1] + new_velocity)  # All movement is in x direction\n",
    "    ego_velocity_idm.append(new_velocity)\n"
   ]
  },
  {
   "cell_type": "code",
   "execution_count": 31,
   "metadata": {},
   "outputs": [
    {
     "ename": "NameError",
     "evalue": "name 'lane_width' is not defined",
     "output_type": "error",
     "traceback": [
      "\u001b[1;31m---------------------------------------------------------------------------\u001b[0m",
      "\u001b[1;31mNameError\u001b[0m                                 Traceback (most recent call last)",
      "\u001b[1;32m<ipython-input-31-9c1b4edc6a9a>\u001b[0m in \u001b[0;36m<module>\u001b[1;34m\u001b[0m\n\u001b[0;32m      5\u001b[0m \u001b[1;31m# Assuming lane_width is a predefined constant representing the width of a lane in the image\u001b[0m\u001b[1;33m\u001b[0m\u001b[1;33m\u001b[0m\u001b[1;33m\u001b[0m\u001b[0m\n\u001b[0;32m      6\u001b[0m \u001b[0mlane_id\u001b[0m \u001b[1;33m=\u001b[0m \u001b[0mego_df\u001b[0m\u001b[1;33m.\u001b[0m\u001b[0miloc\u001b[0m\u001b[1;33m[\u001b[0m\u001b[1;36m0\u001b[0m\u001b[1;33m]\u001b[0m\u001b[1;33m[\u001b[0m\u001b[1;34m'laneId'\u001b[0m\u001b[1;33m]\u001b[0m\u001b[1;33m\u001b[0m\u001b[1;33m\u001b[0m\u001b[0m\n\u001b[1;32m----> 7\u001b[1;33m \u001b[0mlane_position\u001b[0m \u001b[1;33m=\u001b[0m \u001b[0mlane_id\u001b[0m \u001b[1;33m*\u001b[0m \u001b[0mlane_width\u001b[0m\u001b[1;33m\u001b[0m\u001b[1;33m\u001b[0m\u001b[0m\n\u001b[0m\u001b[0;32m      8\u001b[0m \u001b[1;33m\u001b[0m\u001b[0m\n\u001b[0;32m      9\u001b[0m \u001b[1;31m# Generate the frames\u001b[0m\u001b[1;33m\u001b[0m\u001b[1;33m\u001b[0m\u001b[1;33m\u001b[0m\u001b[0m\n",
      "\u001b[1;31mNameError\u001b[0m: name 'lane_width' is not defined"
     ]
    }
   ],
   "source": [
    "# Load the highway image\n",
    "highway_image = highD.get_image(dataset_id)\n",
    "\n",
    "# Calculate the lane position (y coordinate) for the ego vehicle\n",
    "# Assuming lane_width is a predefined constant representing the width of a lane in the image\n",
    "lane_id = ego_df.iloc[0]['laneId']\n",
    "lane_position = lane_id * lane_width\n",
    "\n",
    "# Generate the frames\n",
    "frames = []\n",
    "for i in range(len(ego_x)):\n",
    "    # Plot the highway image\n",
    "    fig, ax = plt.subplots(figsize=(4,20))\n",
    "    ax.imshow(highway_image)\n",
    "    \n",
    "    # Draw the ego vehicle as a rectangle\n",
    "    ego_rect = patches.Rectangle((ego_x[i], lane_position), 10, 20, facecolor='green')  \n",
    "    ax.add_patch(ego_rect)\n",
    "    \n",
    "    # Draw the preceding vehicle as a rectangle\n",
    "    # Here we assume that the preceding vehicle is always in the same lane as the ego vehicle\n",
    "    prec_rect = patches.Rectangle((prec_x[i], lane_position), 10, 20, facecolor='blue')\n",
    "    ax.add_patch(prec_rect)\n",
    "\n",
    "    # Save the current frame\n",
    "    filepath = f'frame_{i}.png'\n",
    "    plt.savefig(filepath)\n",
    "    frames.append(filepath)\n",
    "\n",
    "    plt.close(fig)\n",
    "\n",
    "# Create the gif\n",
    "images = [imageio.imread(frame) for frame in frames]\n",
    "imageio.mimsave('vehicle_movement.gif', images, fps=10)\n",
    "\n",
    "# Clean up the frames\n",
    "for frame in frames:\n",
    "    os.remove(frame)\n"
   ]
  }
 ],
 "metadata": {
  "kernelspec": {
   "display_name": "Python 3",
   "language": "python",
   "name": "python3"
  },
  "language_info": {
   "codemirror_mode": {
    "name": "ipython",
    "version": 3
   },
   "file_extension": ".py",
   "mimetype": "text/x-python",
   "name": "python",
   "nbconvert_exporter": "python",
   "pygments_lexer": "ipython3",
   "version": "3.7.7"
  },
  "orig_nbformat": 4
 },
 "nbformat": 4,
 "nbformat_minor": 2
}
