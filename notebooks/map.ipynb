{
 "cells": [
  {
   "cell_type": "code",
   "execution_count": null,
   "metadata": {},
   "outputs": [],
   "source": [
    "exec(open(\"init_notebook.py\", \"r\").read())\n",
    "\n",
    "import carla\n",
    "from lib.MapManager import MapNames, MapManager\n",
    "\n",
    "host = '127.0.0.1'\n",
    "port = 2000\n",
    "timeout=10\n",
    "\n",
    "client = carla.Client(host, port)\n",
    "client.set_timeout(timeout)\n",
    "print(f\"Client carla version: {client.get_client_version()}\")\n",
    "print(f\"Server carla version: {client.get_server_version()}\")\n"
   ]
  },
  {
   "cell_type": "code",
   "execution_count": null,
   "metadata": {},
   "outputs": [],
   "source": [
    "client.get_available_maps()"
   ]
  },
  {
   "cell_type": "code",
   "execution_count": null,
   "metadata": {},
   "outputs": [],
   "source": [
    "mapName = 'HighWay_Ring'\n",
    "\n",
    "client.load_world(mapName)\n",
    "spawnPoints = client.get_world().get_map().get_spawn_points()\n",
    "print(f\"Spawn points: {len(spawnPoints)}\")\n",
    "for sp in spawnPoints:\n",
    "    print(sp)"
   ]
  },
  {
   "cell_type": "code",
   "execution_count": null,
   "metadata": {},
   "outputs": [],
   "source": [
    "spectator = client.get_world().get_spectator()\n",
    "print(f\"Spectator: {spectator.get_transform()}\")"
   ]
  }
 ],
 "metadata": {
  "kernelspec": {
   "display_name": "Python 3.7.11 ('carla-vehicle')",
   "language": "python",
   "name": "python3"
  },
  "language_info": {
   "codemirror_mode": {
    "name": "ipython",
    "version": 3
   },
   "file_extension": ".py",
   "mimetype": "text/x-python",
   "name": "python",
   "nbconvert_exporter": "python",
   "pygments_lexer": "ipython3",
   "version": "3.7.11"
  },
  "orig_nbformat": 4,
  "vscode": {
   "interpreter": {
    "hash": "fa5f0ba12b2865ab3a23daa32f07998d8efd58032fc91693b4926503a96e5135"
   }
  }
 },
 "nbformat": 4,
 "nbformat_minor": 2
}
