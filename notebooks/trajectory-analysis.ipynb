{
 "cells": [
  {
   "cell_type": "code",
   "execution_count": 1,
   "id": "179bfb37-1cc7-46c1-8464-2c40f04cd221",
   "metadata": {},
   "outputs": [
    {
     "name": "stdout",
     "output_type": "stream",
     "text": [
      "current working dirE:\\AV\\Carla\\CARLA_0.9.13\\WindowsNoEditor\\PythonAPI\\experiments\n"
     ]
    }
   ],
   "source": [
    "exec(open(\"init_notebook.py\", \"r\").read())\n",
    "%load_ext autoreload\n",
    "%autoreload 2"
   ]
  },
  {
   "cell_type": "code",
   "execution_count": 2,
   "id": "4b890205-a543-4b97-b6b0-baf82d38ec8c",
   "metadata": {},
   "outputs": [],
   "source": [
    "import pandas as pd\n",
    "import numpy as np\n",
    "import matplotlib.pyplot as plt\n",
    "import seaborn as sns\n",
    "%matplotlib qt "
   ]
  },
  {
   "cell_type": "code",
   "execution_count": 3,
   "id": "6fa0d37f-4160-40bf-9448-282451ae9945",
   "metadata": {},
   "outputs": [],
   "source": [
    "from analysis.EpisodeParser import EpisodeParser\n",
    "from analysis.Histogram import Histogram\n",
    "from analysis.ScatterPlot import ScatterPlot"
   ]
  },
  {
   "cell_type": "code",
   "execution_count": 4,
   "id": "11011261-2c27-412e-bfff-316503343776",
   "metadata": {},
   "outputs": [
    {
     "data": {
      "text/html": [
       "<div>\n",
       "<style scoped>\n",
       "    .dataframe tbody tr th:only-of-type {\n",
       "        vertical-align: middle;\n",
       "    }\n",
       "\n",
       "    .dataframe tbody tr th {\n",
       "        vertical-align: top;\n",
       "    }\n",
       "\n",
       "    .dataframe thead th {\n",
       "        text-align: right;\n",
       "    }\n",
       "</style>\n",
       "<table border=\"1\" class=\"dataframe\">\n",
       "  <thead>\n",
       "    <tr style=\"text-align: right;\">\n",
       "      <th></th>\n",
       "      <th>episode</th>\n",
       "      <th>timestep</th>\n",
       "      <th>v_x</th>\n",
       "      <th>v_y</th>\n",
       "      <th>v_speed</th>\n",
       "      <th>w_x</th>\n",
       "      <th>w_y</th>\n",
       "      <th>w_speed</th>\n",
       "      <th>w_state</th>\n",
       "      <th>w_x_diff</th>\n",
       "      <th>w_y_diff</th>\n",
       "      <th>w_d</th>\n",
       "      <th>distance</th>\n",
       "    </tr>\n",
       "  </thead>\n",
       "  <tbody>\n",
       "    <tr>\n",
       "      <th>4866</th>\n",
       "      <td>27</td>\n",
       "      <td>169</td>\n",
       "      <td>-100.932312</td>\n",
       "      <td>-31.291105</td>\n",
       "      <td>7.666045</td>\n",
       "      <td>-109.985092</td>\n",
       "      <td>-14.666240</td>\n",
       "      <td>0.657879</td>\n",
       "      <td>CROSSING</td>\n",
       "      <td>-0.044918</td>\n",
       "      <td>-0.044918</td>\n",
       "      <td>0.063524</td>\n",
       "      <td>18.929844</td>\n",
       "    </tr>\n",
       "    <tr>\n",
       "      <th>4867</th>\n",
       "      <td>27</td>\n",
       "      <td>170</td>\n",
       "      <td>-101.131416</td>\n",
       "      <td>-31.790503</td>\n",
       "      <td>7.645376</td>\n",
       "      <td>-109.975235</td>\n",
       "      <td>-14.711485</td>\n",
       "      <td>0.662479</td>\n",
       "      <td>CROSSING</td>\n",
       "      <td>-0.045245</td>\n",
       "      <td>-0.045245</td>\n",
       "      <td>0.063986</td>\n",
       "      <td>19.232940</td>\n",
       "    </tr>\n",
       "    <tr>\n",
       "      <th>4868</th>\n",
       "      <td>27</td>\n",
       "      <td>171</td>\n",
       "      <td>-101.349472</td>\n",
       "      <td>-32.268505</td>\n",
       "      <td>7.395117</td>\n",
       "      <td>-109.965370</td>\n",
       "      <td>-14.757051</td>\n",
       "      <td>0.666910</td>\n",
       "      <td>CROSSING</td>\n",
       "      <td>-0.045566</td>\n",
       "      <td>-0.045566</td>\n",
       "      <td>0.064439</td>\n",
       "      <td>19.516269</td>\n",
       "    </tr>\n",
       "    <tr>\n",
       "      <th>4869</th>\n",
       "      <td>27</td>\n",
       "      <td>172</td>\n",
       "      <td>-101.582039</td>\n",
       "      <td>-32.719429</td>\n",
       "      <td>7.191302</td>\n",
       "      <td>-109.955566</td>\n",
       "      <td>-14.802929</td>\n",
       "      <td>0.671051</td>\n",
       "      <td>CROSSING</td>\n",
       "      <td>-0.045878</td>\n",
       "      <td>-0.045878</td>\n",
       "      <td>0.064882</td>\n",
       "      <td>19.776677</td>\n",
       "    </tr>\n",
       "    <tr>\n",
       "      <th>4870</th>\n",
       "      <td>27</td>\n",
       "      <td>173</td>\n",
       "      <td>-101.814674</td>\n",
       "      <td>-33.160671</td>\n",
       "      <td>7.103752</td>\n",
       "      <td>-109.945869</td>\n",
       "      <td>-14.849123</td>\n",
       "      <td>0.675200</td>\n",
       "      <td>CROSSING</td>\n",
       "      <td>-0.046194</td>\n",
       "      <td>-0.046194</td>\n",
       "      <td>0.065328</td>\n",
       "      <td>20.035696</td>\n",
       "    </tr>\n",
       "  </tbody>\n",
       "</table>\n",
       "</div>"
      ],
      "text/plain": [
       "      episode  timestep         v_x        v_y   v_speed         w_x  \\\n",
       "4866       27       169 -100.932312 -31.291105  7.666045 -109.985092   \n",
       "4867       27       170 -101.131416 -31.790503  7.645376 -109.975235   \n",
       "4868       27       171 -101.349472 -32.268505  7.395117 -109.965370   \n",
       "4869       27       172 -101.582039 -32.719429  7.191302 -109.955566   \n",
       "4870       27       173 -101.814674 -33.160671  7.103752 -109.945869   \n",
       "\n",
       "            w_y   w_speed   w_state  w_x_diff  w_y_diff       w_d   distance  \n",
       "4866 -14.666240  0.657879  CROSSING -0.044918 -0.044918  0.063524  18.929844  \n",
       "4867 -14.711485  0.662479  CROSSING -0.045245 -0.045245  0.063986  19.232940  \n",
       "4868 -14.757051  0.666910  CROSSING -0.045566 -0.045566  0.064439  19.516269  \n",
       "4869 -14.802929  0.671051  CROSSING -0.045878 -0.045878  0.064882  19.776677  \n",
       "4870 -14.849123  0.675200  CROSSING -0.046194 -0.046194  0.065328  20.035696  "
      ]
     },
     "execution_count": 4,
     "metadata": {},
     "output_type": "execute_result"
    }
   ],
   "source": [
    "path = \"logs/03-09-2022-trajectories-v-variable.csv\"\n",
    "df = pd.read_csv(path)\n",
    "episodeParser = EpisodeParser(df)\n",
    "episodeParser.df.tail()"
   ]
  },
  {
   "cell_type": "code",
   "execution_count": 6,
   "id": "46a3eb4f-ff6e-410b-b30a-80153bdebf3f",
   "metadata": {},
   "outputs": [
    {
     "data": {
      "text/plain": [
       "array([ 1,  2,  3,  4,  5,  6,  7,  8,  9, 10, 11, 12, 13, 14, 15, 16, 17,\n",
       "       18, 19, 20, 21, 22, 23, 24, 25, 26, 27], dtype=int64)"
      ]
     },
     "execution_count": 6,
     "metadata": {},
     "output_type": "execute_result"
    }
   ],
   "source": [
    "episodeParser.df.episode.unique()"
   ]
  },
  {
   "cell_type": "code",
   "execution_count": null,
   "id": "8a63e10f-b66c-4660-8867-8b5da6bb9dbe",
   "metadata": {},
   "outputs": [],
   "source": []
  }
 ],
 "metadata": {
  "kernelspec": {
   "display_name": "Python 3 (ipykernel)",
   "language": "python",
   "name": "python3"
  },
  "language_info": {
   "codemirror_mode": {
    "name": "ipython",
    "version": 3
   },
   "file_extension": ".py",
   "mimetype": "text/x-python",
   "name": "python",
   "nbconvert_exporter": "python",
   "pygments_lexer": "ipython3",
   "version": "3.7.11"
  }
 },
 "nbformat": 4,
 "nbformat_minor": 5
}
