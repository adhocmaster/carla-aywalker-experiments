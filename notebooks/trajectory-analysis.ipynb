{
 "cells": [
  {
   "cell_type": "code",
   "execution_count": 1,
   "id": "179bfb37-1cc7-46c1-8464-2c40f04cd221",
   "metadata": {},
   "outputs": [
    {
     "name": "stdout",
     "output_type": "stream",
     "text": [
      "current working dirC:\\Users\\ryanc\\Documents\\GitHub\\CM194\\carla-jaywalker-experiments\n"
     ]
    }
   ],
   "source": [
    "exec(open(\"init_notebook.py\", \"r\").read())\n",
    "%load_ext autoreload\n",
    "%autoreload 2"
   ]
  },
  {
   "cell_type": "code",
   "execution_count": 2,
   "id": "4b890205-a543-4b97-b6b0-baf82d38ec8c",
   "metadata": {},
   "outputs": [],
   "source": [
    "import pandas as pd\n",
    "import numpy as np\n",
    "import matplotlib.pyplot as plt\n",
    "import seaborn as sns\n",
    "%matplotlib qt "
   ]
  },
  {
   "cell_type": "code",
   "execution_count": 3,
   "id": "6fa0d37f-4160-40bf-9448-282451ae9945",
   "metadata": {},
   "outputs": [],
   "source": [
    "from analysis.EpisodeParser import EpisodeParser\n",
    "from analysis.Histogram import Histogram\n",
    "from analysis.ScatterPlot import ScatterPlot"
   ]
  },
  {
   "cell_type": "code",
   "execution_count": 4,
   "id": "11011261-2c27-412e-bfff-316503343776",
   "metadata": {},
   "outputs": [
    {
     "data": {
      "text/html": [
       "<div>\n",
       "<style scoped>\n",
       "    .dataframe tbody tr th:only-of-type {\n",
       "        vertical-align: middle;\n",
       "    }\n",
       "\n",
       "    .dataframe tbody tr th {\n",
       "        vertical-align: top;\n",
       "    }\n",
       "\n",
       "    .dataframe thead th {\n",
       "        text-align: right;\n",
       "    }\n",
       "</style>\n",
       "<table border=\"1\" class=\"dataframe\">\n",
       "  <thead>\n",
       "    <tr style=\"text-align: right;\">\n",
       "      <th></th>\n",
       "      <th>episode</th>\n",
       "      <th>timestep</th>\n",
       "      <th>v_x</th>\n",
       "      <th>v_y</th>\n",
       "      <th>v_speed</th>\n",
       "      <th>w_x</th>\n",
       "      <th>w_y</th>\n",
       "      <th>w_speed</th>\n",
       "      <th>w_state</th>\n",
       "      <th>w_x_diff</th>\n",
       "      <th>w_y_diff</th>\n",
       "      <th>w_d</th>\n",
       "      <th>distance</th>\n",
       "    </tr>\n",
       "  </thead>\n",
       "  <tbody>\n",
       "    <tr>\n",
       "      <th>3842</th>\n",
       "      <td>39</td>\n",
       "      <td>122</td>\n",
       "      <td>21.589678</td>\n",
       "      <td>191.562653</td>\n",
       "      <td>0.0</td>\n",
       "      <td>62.495518</td>\n",
       "      <td>186.521317</td>\n",
       "      <td>1.997986</td>\n",
       "      <td>CROSSING</td>\n",
       "      <td>-0.120987</td>\n",
       "      <td>-0.120987</td>\n",
       "      <td>0.171101</td>\n",
       "      <td>41.215323</td>\n",
       "    </tr>\n",
       "    <tr>\n",
       "      <th>3843</th>\n",
       "      <td>39</td>\n",
       "      <td>123</td>\n",
       "      <td>21.589678</td>\n",
       "      <td>191.562653</td>\n",
       "      <td>0.0</td>\n",
       "      <td>62.612286</td>\n",
       "      <td>186.400360</td>\n",
       "      <td>2.002344</td>\n",
       "      <td>CROSSING</td>\n",
       "      <td>-0.120956</td>\n",
       "      <td>-0.120956</td>\n",
       "      <td>0.171058</td>\n",
       "      <td>41.346144</td>\n",
       "    </tr>\n",
       "    <tr>\n",
       "      <th>3844</th>\n",
       "      <td>39</td>\n",
       "      <td>124</td>\n",
       "      <td>21.589678</td>\n",
       "      <td>191.562653</td>\n",
       "      <td>0.0</td>\n",
       "      <td>62.728935</td>\n",
       "      <td>186.279617</td>\n",
       "      <td>1.997914</td>\n",
       "      <td>CROSSING</td>\n",
       "      <td>-0.120743</td>\n",
       "      <td>-0.120743</td>\n",
       "      <td>0.170756</td>\n",
       "      <td>41.477090</td>\n",
       "    </tr>\n",
       "    <tr>\n",
       "      <th>3845</th>\n",
       "      <td>39</td>\n",
       "      <td>125</td>\n",
       "      <td>21.589678</td>\n",
       "      <td>191.562653</td>\n",
       "      <td>0.0</td>\n",
       "      <td>62.855522</td>\n",
       "      <td>186.148651</td>\n",
       "      <td>2.002344</td>\n",
       "      <td>CROSSING</td>\n",
       "      <td>-0.130966</td>\n",
       "      <td>-0.130966</td>\n",
       "      <td>0.185214</td>\n",
       "      <td>41.619482</td>\n",
       "    </tr>\n",
       "    <tr>\n",
       "      <th>3846</th>\n",
       "      <td>39</td>\n",
       "      <td>126</td>\n",
       "      <td>21.589678</td>\n",
       "      <td>191.562653</td>\n",
       "      <td>0.0</td>\n",
       "      <td>62.972080</td>\n",
       "      <td>186.027908</td>\n",
       "      <td>1.996945</td>\n",
       "      <td>CROSSING</td>\n",
       "      <td>-0.120743</td>\n",
       "      <td>-0.120743</td>\n",
       "      <td>0.170756</td>\n",
       "      <td>41.750888</td>\n",
       "    </tr>\n",
       "  </tbody>\n",
       "</table>\n",
       "</div>"
      ],
      "text/plain": [
       "      episode  timestep        v_x         v_y  v_speed        w_x  \\\n",
       "3842       39       122  21.589678  191.562653      0.0  62.495518   \n",
       "3843       39       123  21.589678  191.562653      0.0  62.612286   \n",
       "3844       39       124  21.589678  191.562653      0.0  62.728935   \n",
       "3845       39       125  21.589678  191.562653      0.0  62.855522   \n",
       "3846       39       126  21.589678  191.562653      0.0  62.972080   \n",
       "\n",
       "             w_y   w_speed   w_state  w_x_diff  w_y_diff       w_d   distance  \n",
       "3842  186.521317  1.997986  CROSSING -0.120987 -0.120987  0.171101  41.215323  \n",
       "3843  186.400360  2.002344  CROSSING -0.120956 -0.120956  0.171058  41.346144  \n",
       "3844  186.279617  1.997914  CROSSING -0.120743 -0.120743  0.170756  41.477090  \n",
       "3845  186.148651  2.002344  CROSSING -0.130966 -0.130966  0.185214  41.619482  \n",
       "3846  186.027908  1.996945  CROSSING -0.120743 -0.120743  0.170756  41.750888  "
      ]
     },
     "execution_count": 4,
     "metadata": {},
     "output_type": "execute_result"
    }
   ],
   "source": [
    "path = \"C:\\\\Users\\\\ryanc\\\\Documents\\\\GitHub\\\\CM194\\\\carla-jaywalker-experiments\\\\logs\\\\2022-06-03-00-00-trajectories.csv\"\n",
    "df = pd.read_csv(path)\n",
    "episodeParser = EpisodeParser(df)\n",
    "episodeParser.df.tail()"
   ]
  },
  {
   "cell_type": "code",
   "execution_count": 5,
   "id": "46a3eb4f-ff6e-410b-b30a-80153bdebf3f",
   "metadata": {},
   "outputs": [
    {
     "data": {
      "text/plain": [
       "array([ 1,  2,  3,  4,  5,  6,  7,  8,  9, 10, 11, 12, 13, 14, 15, 16, 17,\n",
       "       18, 19, 20, 21, 22, 23, 24, 25, 26, 27, 28, 29, 30, 31, 32, 33, 34,\n",
       "       35, 36, 37, 38, 39], dtype=int64)"
      ]
     },
     "execution_count": 5,
     "metadata": {},
     "output_type": "execute_result"
    }
   ],
   "source": [
    "episodeParser.df.episode.unique()"
   ]
  },
  {
   "cell_type": "code",
   "execution_count": null,
   "id": "8a63e10f-b66c-4660-8867-8b5da6bb9dbe",
   "metadata": {},
   "outputs": [],
   "source": []
  }
 ],
 "metadata": {
  "interpreter": {
   "hash": "077a00195bd4b81c9b30195e1129ae6b06dfd6c9e83eac42d1c7e5d8b4fbdd88"
  },
  "kernelspec": {
   "display_name": "Python 3.7.11 ('carlaEnv')",
   "language": "python",
   "name": "python3"
  },
  "language_info": {
   "codemirror_mode": {
    "name": "ipython",
    "version": 3
   },
   "file_extension": ".py",
   "mimetype": "text/x-python",
   "name": "python",
   "nbconvert_exporter": "python",
   "pygments_lexer": "ipython3",
   "version": "3.7.11"
  }
 },
 "nbformat": 4,
 "nbformat_minor": 5
}
