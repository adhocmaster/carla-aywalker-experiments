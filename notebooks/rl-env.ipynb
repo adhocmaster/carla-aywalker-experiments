{
 "cells": [
  {
   "cell_type": "code",
   "execution_count": 1,
   "metadata": {},
   "outputs": [
    {
     "name": "stdout",
     "output_type": "stream",
     "text": [
      "current working dirC:\\AV\\Carla\\CARLA_0.9.13\\WindowsNoEditor\\PythonAPI\\experiments\n"
     ]
    }
   ],
   "source": [
    "exec(open(\"init_notebook.py\", \"r\").read())\n",
    "%load_ext autoreload\n",
    "%autoreload 2"
   ]
  },
  {
   "cell_type": "code",
   "execution_count": 2,
   "metadata": {},
   "outputs": [],
   "source": [
    "import logging"
   ]
  },
  {
   "cell_type": "code",
   "execution_count": 3,
   "metadata": {},
   "outputs": [
    {
     "name": "stderr",
     "output_type": "stream",
     "text": [
      "2022-12-29 13:50:30,569 - Research1v1 - WARNING - Starting simulation in synchronous mode\n"
     ]
    },
    {
     "name": "stdout",
     "output_type": "stream",
     "text": [
      "research chosen : R1v1 with host: 127.0.0.1, port: 2000, log level: 30, output directory: logs\n"
     ]
    },
    {
     "name": "stderr",
     "output_type": "stream",
     "text": [
      "C:\\Users\\adhocmaster\\anaconda3\\envs\\carla37\\lib\\site-packages\\gym\\spaces\\box.py:74: UserWarning: \u001b[33mWARN: Box bound precision lowered by casting to float32\u001b[0m\n",
      "  \"Box bound precision lowered by casting to {}\".format(self.dtype)\n",
      "2022-12-29 13:50:32,991 - PedestrianFactory - WARNING - Internation factor path is None. Using the default at (settings/internal_factors_default.yaml)\n",
      "WARNING:PedestrianFactory:Internation factor path is None. Using the default at (settings/internal_factors_default.yaml)\n",
      "2022-12-29 13:50:32,996 - SingleOncomingVehicleLocalPlanner 276 - WARNING - remembering 40 tick locations\n",
      "WARNING:SingleOncomingVehicleLocalPlanner 276:remembering 40 tick locations\n",
      "2022-12-29 13:50:33,010 - Research1v1 - WARNING - started episode 1\n",
      "WARNING:Research1v1:started episode 1\n"
     ]
    },
    {
     "name": "stdout",
     "output_type": "stream",
     "text": [
      "Utils->draw_trace_route: length of trace route 46\n"
     ]
    }
   ],
   "source": [
    "from research.adversaries.EnvironmentFactory import EnvironmentFactory, AvailableEnvironments\n",
    "env = EnvironmentFactory.create(AvailableEnvironments.R1V1Env1)"
   ]
  },
  {
   "cell_type": "code",
   "execution_count": 4,
   "metadata": {},
   "outputs": [
    {
     "data": {
      "text/plain": [
       "19"
      ]
     },
     "execution_count": 4,
     "metadata": {},
     "output_type": "execute_result"
    }
   ],
   "source": [
    "env.getActionTicks('a')"
   ]
  },
  {
   "cell_type": "code",
   "execution_count": 5,
   "metadata": {},
   "outputs": [],
   "source": [
    "# env.research.getWalkerAgent().updateLogLevel(logging.INFO)"
   ]
  },
  {
   "cell_type": "code",
   "execution_count": 6,
   "metadata": {},
   "outputs": [
    {
     "name": "stderr",
     "output_type": "stream",
     "text": [
      "2022-12-29 13:50:34,651 - PedestrianFactory - WARNING - Internation factor path is None. Using the default at (settings/internal_factors_default.yaml)\n",
      "WARNING:PedestrianFactory:Internation factor path is None. Using the default at (settings/internal_factors_default.yaml)\n",
      "2022-12-29 13:50:34,655 - SingleOncomingVehicleLocalPlanner 281 - WARNING - remembering 40 tick locations\n",
      "WARNING:SingleOncomingVehicleLocalPlanner 281:remembering 40 tick locations\n",
      "2022-12-29 13:50:34,669 - Research1v1 - WARNING - started episode 2\n",
      "WARNING:Research1v1:started episode 2\n"
     ]
    },
    {
     "name": "stdout",
     "output_type": "stream",
     "text": [
      "Utils->draw_trace_route: length of trace route 53\n"
     ]
    },
    {
     "data": {
      "text/plain": [
       "{'pedestrian': {'position': array([0., 0.]),\n",
       "  'source': array([-113.,   -3.]),\n",
       "  'dest': array([-113.,  -14.]),\n",
       "  'relaxation_time': 0.5,\n",
       "  'risk_level': 'risky',\n",
       "  'velocity': array([0., 0.])},\n",
       " 'vehicle': {'position': <carla.libcarla.Vector3D at 0x215775a79b0>,\n",
       "  'velocity': array([113.,   3.])},\n",
       " 'road': {'nLanes': 2}}"
      ]
     },
     "execution_count": 6,
     "metadata": {},
     "output_type": "execute_result"
    }
   ],
   "source": [
    "# env.reset()"
   ]
  },
  {
   "cell_type": "code",
   "execution_count": 7,
   "metadata": {},
   "outputs": [
    {
     "name": "stderr",
     "output_type": "stream",
     "text": [
      "2022-12-29 13:50:39,622 - SingleOncomingVehicleLocalPlanner 281 - WARNING - Finished. no new control\n",
      "WARNING:SingleOncomingVehicleLocalPlanner 281:Finished. no new control\n"
     ]
    },
    {
     "name": "stdout",
     "output_type": "stream",
     "text": [
      "Utils->draw_trace_route: length of trace route 54\n"
     ]
    },
    {
     "name": "stderr",
     "output_type": "stream",
     "text": [
      "2022-12-29 13:50:41,232 - PedestrianFactory - WARNING - Internation factor path is None. Using the default at (settings/internal_factors_default.yaml)\n",
      "WARNING:PedestrianFactory:Internation factor path is None. Using the default at (settings/internal_factors_default.yaml)\n",
      "2022-12-29 13:50:41,235 - SingleOncomingVehicleLocalPlanner 286 - WARNING - remembering 40 tick locations\n",
      "WARNING:SingleOncomingVehicleLocalPlanner 286:remembering 40 tick locations\n",
      "2022-12-29 13:50:41,253 - Research1v1 - WARNING - started episode 3\n",
      "WARNING:Research1v1:started episode 3\n"
     ]
    }
   ],
   "source": [
    "# take 5 actions which should run 5 seconds of simulation\n",
    "for _ in range(5):\n",
    "    state, reward, done, _ = env.step('sa')\n",
    "    if done:\n",
    "        env.reset()"
   ]
  },
  {
   "cell_type": "code",
   "execution_count": 8,
   "metadata": {},
   "outputs": [
    {
     "name": "stderr",
     "output_type": "stream",
     "text": [
      "2022-12-29 13:50:41,328 - Research1v1 - WARNING - Saving tracks to logs\\2022-12-29-00-00-tracks.csv\n",
      "WARNING:Research1v1:Saving tracks to logs\\2022-12-29-00-00-tracks.csv\n",
      "2022-12-29 13:50:41,331 - Research1v1 - WARNING - Empty stats. It means no episode was completed in this run\n",
      "WARNING:Research1v1:Empty stats. It means no episode was completed in this run\n",
      "2022-12-29 13:50:42,725 - PedestrianFactory - WARNING - Internation factor path is None. Using the default at (settings/internal_factors_default.yaml)\n",
      "WARNING:PedestrianFactory:Internation factor path is None. Using the default at (settings/internal_factors_default.yaml)\n",
      "2022-12-29 13:50:42,728 - SingleOncomingVehicleLocalPlanner 291 - WARNING - remembering 40 tick locations\n",
      "WARNING:SingleOncomingVehicleLocalPlanner 291:remembering 40 tick locations\n",
      "2022-12-29 13:50:42,742 - Research1v1 - WARNING - started episode 4\n",
      "WARNING:Research1v1:started episode 4\n"
     ]
    },
    {
     "name": "stdout",
     "output_type": "stream",
     "text": [
      "Utils->draw_trace_route: length of trace route 54\n"
     ]
    }
   ],
   "source": [
    "env.close()"
   ]
  },
  {
   "cell_type": "code",
   "execution_count": 12,
   "metadata": {},
   "outputs": [
    {
     "data": {
      "text/plain": [
       "{2: <lib.EpisodeTrajectoryRecorder.EpisodeTrajectoryRecorder at 0x2157a6c85c8>}"
      ]
     },
     "execution_count": 12,
     "metadata": {},
     "output_type": "execute_result"
    }
   ],
   "source": [
    "env.research.episodeTrajectoryRecorders"
   ]
  },
  {
   "cell_type": "code",
   "execution_count": 9,
   "metadata": {},
   "outputs": [],
   "source": [
    "recorder = env.research.episodeTrajectoryRecorders[2]"
   ]
  },
  {
   "cell_type": "code",
   "execution_count": 10,
   "metadata": {},
   "outputs": [
    {
     "data": {
      "text/plain": [
       "{281: <lib.Trajectory.Trajectory at 0x215776c5708>,\n",
       " 280: <lib.Trajectory.Trajectory at 0x2157a6c8b88>}"
      ]
     },
     "execution_count": 10,
     "metadata": {},
     "output_type": "execute_result"
    }
   ],
   "source": [
    "recorder.trajectories"
   ]
  },
  {
   "cell_type": "code",
   "execution_count": 11,
   "metadata": {},
   "outputs": [
    {
     "data": {
      "text/html": [
       "<div>\n",
       "<style scoped>\n",
       "    .dataframe tbody tr th:only-of-type {\n",
       "        vertical-align: middle;\n",
       "    }\n",
       "\n",
       "    .dataframe tbody tr th {\n",
       "        vertical-align: top;\n",
       "    }\n",
       "\n",
       "    .dataframe thead th {\n",
       "        text-align: right;\n",
       "    }\n",
       "</style>\n",
       "<table border=\"1\" class=\"dataframe\">\n",
       "  <thead>\n",
       "    <tr style=\"text-align: right;\">\n",
       "      <th></th>\n",
       "      <th>frame</th>\n",
       "      <th>mapX</th>\n",
       "      <th>mapY</th>\n",
       "      <th>episode</th>\n",
       "    </tr>\n",
       "  </thead>\n",
       "  <tbody>\n",
       "    <tr>\n",
       "      <th>0</th>\n",
       "      <td>1</td>\n",
       "      <td>-113.000000</td>\n",
       "      <td>-3.000000</td>\n",
       "      <td>2</td>\n",
       "    </tr>\n",
       "    <tr>\n",
       "      <th>1</th>\n",
       "      <td>2</td>\n",
       "      <td>-113.000000</td>\n",
       "      <td>-3.000000</td>\n",
       "      <td>2</td>\n",
       "    </tr>\n",
       "    <tr>\n",
       "      <th>2</th>\n",
       "      <td>3</td>\n",
       "      <td>-113.000000</td>\n",
       "      <td>-3.000000</td>\n",
       "      <td>2</td>\n",
       "    </tr>\n",
       "    <tr>\n",
       "      <th>3</th>\n",
       "      <td>4</td>\n",
       "      <td>-113.000000</td>\n",
       "      <td>-3.000000</td>\n",
       "      <td>2</td>\n",
       "    </tr>\n",
       "    <tr>\n",
       "      <th>4</th>\n",
       "      <td>5</td>\n",
       "      <td>-113.000000</td>\n",
       "      <td>-3.000000</td>\n",
       "      <td>2</td>\n",
       "    </tr>\n",
       "    <tr>\n",
       "      <th>...</th>\n",
       "      <td>...</td>\n",
       "      <td>...</td>\n",
       "      <td>...</td>\n",
       "      <td>...</td>\n",
       "    </tr>\n",
       "    <tr>\n",
       "      <th>175</th>\n",
       "      <td>86</td>\n",
       "      <td>-125.669151</td>\n",
       "      <td>-6.809796</td>\n",
       "      <td>2</td>\n",
       "    </tr>\n",
       "    <tr>\n",
       "      <th>176</th>\n",
       "      <td>87</td>\n",
       "      <td>-125.293076</td>\n",
       "      <td>-6.812643</td>\n",
       "      <td>2</td>\n",
       "    </tr>\n",
       "    <tr>\n",
       "      <th>177</th>\n",
       "      <td>88</td>\n",
       "      <td>-124.920860</td>\n",
       "      <td>-6.815843</td>\n",
       "      <td>2</td>\n",
       "    </tr>\n",
       "    <tr>\n",
       "      <th>178</th>\n",
       "      <td>89</td>\n",
       "      <td>-124.553047</td>\n",
       "      <td>-6.818622</td>\n",
       "      <td>2</td>\n",
       "    </tr>\n",
       "    <tr>\n",
       "      <th>179</th>\n",
       "      <td>90</td>\n",
       "      <td>-124.189537</td>\n",
       "      <td>-6.821757</td>\n",
       "      <td>2</td>\n",
       "    </tr>\n",
       "  </tbody>\n",
       "</table>\n",
       "<p>180 rows × 4 columns</p>\n",
       "</div>"
      ],
      "text/plain": [
       "     frame        mapX      mapY  episode\n",
       "0        1 -113.000000 -3.000000        2\n",
       "1        2 -113.000000 -3.000000        2\n",
       "2        3 -113.000000 -3.000000        2\n",
       "3        4 -113.000000 -3.000000        2\n",
       "4        5 -113.000000 -3.000000        2\n",
       "..     ...         ...       ...      ...\n",
       "175     86 -125.669151 -6.809796        2\n",
       "176     87 -125.293076 -6.812643        2\n",
       "177     88 -124.920860 -6.815843        2\n",
       "178     89 -124.553047 -6.818622        2\n",
       "179     90 -124.189537 -6.821757        2\n",
       "\n",
       "[180 rows x 4 columns]"
      ]
     },
     "execution_count": 11,
     "metadata": {},
     "output_type": "execute_result"
    }
   ],
   "source": [
    "env.research.episodeTrajectoryRecorders[2].getAsDataFrame()"
   ]
  },
  {
   "cell_type": "code",
   "execution_count": null,
   "metadata": {},
   "outputs": [],
   "source": []
  }
 ],
 "metadata": {
  "interpreter": {
   "hash": "c41efe7cc2f3c8a3ce9b519e40ef040a56d286a1ae6cf399c12879848c67d057"
  },
  "kernelspec": {
   "display_name": "Python 3 (ipykernel)",
   "language": "python",
   "name": "python3"
  },
  "language_info": {
   "codemirror_mode": {
    "name": "ipython",
    "version": 3
   },
   "file_extension": ".py",
   "mimetype": "text/x-python",
   "name": "python",
   "nbconvert_exporter": "python",
   "pygments_lexer": "ipython3",
   "version": "3.7.11"
  }
 },
 "nbformat": 4,
 "nbformat_minor": 4
}
