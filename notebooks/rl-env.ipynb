{
 "cells": [
  {
   "cell_type": "code",
   "execution_count": 1,
   "metadata": {},
   "outputs": [
    {
     "name": "stdout",
     "output_type": "stream",
     "text": [
      "current working dirC:\\AV\\Carla\\CARLA_0.9.13\\WindowsNoEditor\\PythonAPI\\experiments\n"
     ]
    }
   ],
   "source": [
    "exec(open(\"init_notebook.py\", \"r\").read())\n",
    "%load_ext autoreload\n",
    "%autoreload 2"
   ]
  },
  {
   "cell_type": "code",
   "execution_count": 2,
   "metadata": {},
   "outputs": [],
   "source": [
    "import logging"
   ]
  },
  {
   "cell_type": "code",
   "execution_count": 3,
   "metadata": {},
   "outputs": [
    {
     "name": "stderr",
     "output_type": "stream",
     "text": [
      "2022-12-29 13:50:06,715 - Research1v1 - WARNING - Starting simulation in synchronous mode\n"
     ]
    },
    {
     "name": "stdout",
     "output_type": "stream",
     "text": [
      "research chosen : R1v1 with host: 127.0.0.1, port: 2000, log level: 30, output directory: logs\n"
     ]
    },
    {
     "name": "stderr",
     "output_type": "stream",
     "text": [
      "C:\\Users\\adhocmaster\\anaconda3\\envs\\carla37\\lib\\site-packages\\gym\\spaces\\box.py:74: UserWarning: \u001b[33mWARN: Box bound precision lowered by casting to float32\u001b[0m\n",
      "  \"Box bound precision lowered by casting to {}\".format(self.dtype)\n",
      "2022-12-29 13:50:09,135 - PedestrianFactory - WARNING - Internation factor path is None. Using the default at (settings/internal_factors_default.yaml)\n",
      "WARNING:PedestrianFactory:Internation factor path is None. Using the default at (settings/internal_factors_default.yaml)\n",
      "2022-12-29 13:50:09,139 - SingleOncomingVehicleLocalPlanner 261 - WARNING - remembering 40 tick locations\n",
      "WARNING:SingleOncomingVehicleLocalPlanner 261:remembering 40 tick locations\n",
      "2022-12-29 13:50:09,153 - Research1v1 - WARNING - started episode 1\n",
      "WARNING:Research1v1:started episode 1\n"
     ]
    },
    {
     "name": "stdout",
     "output_type": "stream",
     "text": [
      "Utils->draw_trace_route: length of trace route 54\n"
     ]
    }
   ],
   "source": [
    "from research.adversaries.EnvironmentFactory import EnvironmentFactory, AvailableEnvironments\n",
    "env = EnvironmentFactory.create(AvailableEnvironments.R1V1Env1)"
   ]
  },
  {
   "cell_type": "code",
   "execution_count": 4,
   "metadata": {},
   "outputs": [
    {
     "data": {
      "text/plain": [
       "19"
      ]
     },
     "execution_count": 4,
     "metadata": {},
     "output_type": "execute_result"
    }
   ],
   "source": [
    "env.getActionTicks('a')"
   ]
  },
  {
   "cell_type": "code",
   "execution_count": 5,
   "metadata": {},
   "outputs": [],
   "source": [
    "# env.research.getWalkerAgent().updateLogLevel(logging.INFO)"
   ]
  },
  {
   "cell_type": "code",
   "execution_count": 6,
   "metadata": {},
   "outputs": [
    {
     "name": "stderr",
     "output_type": "stream",
     "text": [
      "2022-12-29 13:50:10,786 - PedestrianFactory - WARNING - Internation factor path is None. Using the default at (settings/internal_factors_default.yaml)\n",
      "WARNING:PedestrianFactory:Internation factor path is None. Using the default at (settings/internal_factors_default.yaml)\n",
      "2022-12-29 13:50:10,790 - SingleOncomingVehicleLocalPlanner 266 - WARNING - remembering 40 tick locations\n",
      "WARNING:SingleOncomingVehicleLocalPlanner 266:remembering 40 tick locations\n",
      "2022-12-29 13:50:10,805 - Research1v1 - WARNING - started episode 2\n",
      "WARNING:Research1v1:started episode 2\n"
     ]
    },
    {
     "name": "stdout",
     "output_type": "stream",
     "text": [
      "Utils->draw_trace_route: length of trace route 45\n"
     ]
    },
    {
     "data": {
      "text/plain": [
       "{'pedestrian': {'position': array([0., 0.]),\n",
       "  'source': array([-113.,   -3.]),\n",
       "  'dest': array([-113.,  -14.]),\n",
       "  'relaxation_time': 0.5,\n",
       "  'risk_level': 'risky',\n",
       "  'velocity': array([0., 0.])},\n",
       " 'vehicle': {'position': <carla.libcarla.Vector3D at 0x199ac637af0>,\n",
       "  'velocity': array([113.,   3.])},\n",
       " 'road': {'nLanes': 2}}"
      ]
     },
     "execution_count": 6,
     "metadata": {},
     "output_type": "execute_result"
    }
   ],
   "source": [
    "env.reset()"
   ]
  },
  {
   "cell_type": "code",
   "execution_count": null,
   "metadata": {},
   "outputs": [
    {
     "name": "stderr",
     "output_type": "stream",
     "text": [
      "2022-12-29 13:50:10,882 - Research1v1 - WARNING - recordTrajectoryTimeStep\n",
      "WARNING:Research1v1:recordTrajectoryTimeStep\n",
      "2022-12-29 13:50:10,937 - Research1v1 - WARNING - recordTrajectoryTimeStep\n",
      "WARNING:Research1v1:recordTrajectoryTimeStep\n",
      "2022-12-29 13:50:10,992 - Research1v1 - WARNING - recordTrajectoryTimeStep\n",
      "WARNING:Research1v1:recordTrajectoryTimeStep\n",
      "2022-12-29 13:50:11,047 - Research1v1 - WARNING - recordTrajectoryTimeStep\n",
      "WARNING:Research1v1:recordTrajectoryTimeStep\n",
      "2022-12-29 13:50:11,101 - Research1v1 - WARNING - recordTrajectoryTimeStep\n",
      "WARNING:Research1v1:recordTrajectoryTimeStep\n",
      "2022-12-29 13:50:11,155 - Research1v1 - WARNING - recordTrajectoryTimeStep\n",
      "WARNING:Research1v1:recordTrajectoryTimeStep\n",
      "2022-12-29 13:50:11,210 - Research1v1 - WARNING - recordTrajectoryTimeStep\n",
      "WARNING:Research1v1:recordTrajectoryTimeStep\n",
      "2022-12-29 13:50:11,266 - Research1v1 - WARNING - recordTrajectoryTimeStep\n",
      "WARNING:Research1v1:recordTrajectoryTimeStep\n",
      "2022-12-29 13:50:11,321 - Research1v1 - WARNING - recordTrajectoryTimeStep\n",
      "WARNING:Research1v1:recordTrajectoryTimeStep\n",
      "2022-12-29 13:50:11,375 - Research1v1 - WARNING - recordTrajectoryTimeStep\n",
      "WARNING:Research1v1:recordTrajectoryTimeStep\n",
      "2022-12-29 13:50:11,430 - Research1v1 - WARNING - recordTrajectoryTimeStep\n",
      "WARNING:Research1v1:recordTrajectoryTimeStep\n",
      "2022-12-29 13:50:11,486 - Research1v1 - WARNING - recordTrajectoryTimeStep\n",
      "WARNING:Research1v1:recordTrajectoryTimeStep\n",
      "2022-12-29 13:50:11,540 - Research1v1 - WARNING - recordTrajectoryTimeStep\n",
      "WARNING:Research1v1:recordTrajectoryTimeStep\n",
      "2022-12-29 13:50:11,596 - Research1v1 - WARNING - recordTrajectoryTimeStep\n",
      "WARNING:Research1v1:recordTrajectoryTimeStep\n",
      "2022-12-29 13:50:11,651 - Research1v1 - WARNING - recordTrajectoryTimeStep\n",
      "WARNING:Research1v1:recordTrajectoryTimeStep\n",
      "2022-12-29 13:50:11,705 - Research1v1 - WARNING - recordTrajectoryTimeStep\n",
      "WARNING:Research1v1:recordTrajectoryTimeStep\n",
      "2022-12-29 13:50:11,760 - Research1v1 - WARNING - recordTrajectoryTimeStep\n",
      "WARNING:Research1v1:recordTrajectoryTimeStep\n",
      "2022-12-29 13:50:11,815 - Research1v1 - WARNING - recordTrajectoryTimeStep\n",
      "WARNING:Research1v1:recordTrajectoryTimeStep\n",
      "2022-12-29 13:50:11,869 - Research1v1 - WARNING - recordTrajectoryTimeStep\n",
      "WARNING:Research1v1:recordTrajectoryTimeStep\n",
      "2022-12-29 13:50:11,924 - Research1v1 - WARNING - recordTrajectoryTimeStep\n",
      "WARNING:Research1v1:recordTrajectoryTimeStep\n",
      "2022-12-29 13:50:11,981 - Research1v1 - WARNING - recordTrajectoryTimeStep\n",
      "WARNING:Research1v1:recordTrajectoryTimeStep\n",
      "2022-12-29 13:50:12,037 - Research1v1 - WARNING - recordTrajectoryTimeStep\n",
      "WARNING:Research1v1:recordTrajectoryTimeStep\n",
      "2022-12-29 13:50:12,094 - Research1v1 - WARNING - recordTrajectoryTimeStep\n",
      "WARNING:Research1v1:recordTrajectoryTimeStep\n",
      "2022-12-29 13:50:12,150 - Research1v1 - WARNING - recordTrajectoryTimeStep\n",
      "WARNING:Research1v1:recordTrajectoryTimeStep\n",
      "2022-12-29 13:50:12,206 - Research1v1 - WARNING - recordTrajectoryTimeStep\n",
      "WARNING:Research1v1:recordTrajectoryTimeStep\n",
      "2022-12-29 13:50:12,262 - Research1v1 - WARNING - recordTrajectoryTimeStep\n",
      "WARNING:Research1v1:recordTrajectoryTimeStep\n",
      "2022-12-29 13:50:12,326 - Research1v1 - WARNING - recordTrajectoryTimeStep\n",
      "WARNING:Research1v1:recordTrajectoryTimeStep\n",
      "2022-12-29 13:50:12,385 - Research1v1 - WARNING - recordTrajectoryTimeStep\n",
      "WARNING:Research1v1:recordTrajectoryTimeStep\n",
      "2022-12-29 13:50:12,440 - Research1v1 - WARNING - recordTrajectoryTimeStep\n",
      "WARNING:Research1v1:recordTrajectoryTimeStep\n",
      "2022-12-29 13:50:12,498 - Research1v1 - WARNING - recordTrajectoryTimeStep\n",
      "WARNING:Research1v1:recordTrajectoryTimeStep\n",
      "2022-12-29 13:50:12,553 - Research1v1 - WARNING - recordTrajectoryTimeStep\n",
      "WARNING:Research1v1:recordTrajectoryTimeStep\n"
     ]
    }
   ],
   "source": [
    "# take 5 actions which should run 5 seconds of simulation\n",
    "for _ in range(5):\n",
    "    state, reward, done, _ = env.step('sa')\n",
    "    if done:\n",
    "        env.reset()"
   ]
  },
  {
   "cell_type": "code",
   "execution_count": null,
   "metadata": {},
   "outputs": [],
   "source": [
    "env.close()"
   ]
  },
  {
   "cell_type": "code",
   "execution_count": null,
   "metadata": {},
   "outputs": [],
   "source": [
    "recorder = env.research.episodeTrajectoryRecorders[2]"
   ]
  },
  {
   "cell_type": "code",
   "execution_count": null,
   "metadata": {},
   "outputs": [],
   "source": [
    "recorder.trajectories"
   ]
  },
  {
   "cell_type": "code",
   "execution_count": null,
   "metadata": {},
   "outputs": [],
   "source": [
    "env.research.episodeTrajectoryRecorders[2].getAsDataFrame()"
   ]
  },
  {
   "cell_type": "code",
   "execution_count": null,
   "metadata": {},
   "outputs": [],
   "source": []
  }
 ],
 "metadata": {
  "interpreter": {
   "hash": "c41efe7cc2f3c8a3ce9b519e40ef040a56d286a1ae6cf399c12879848c67d057"
  },
  "kernelspec": {
   "display_name": "Python 3 (ipykernel)",
   "language": "python",
   "name": "python3"
  },
  "language_info": {
   "codemirror_mode": {
    "name": "ipython",
    "version": 3
   },
   "file_extension": ".py",
   "mimetype": "text/x-python",
   "name": "python",
   "nbconvert_exporter": "python",
   "pygments_lexer": "ipython3",
   "version": "3.7.11"
  }
 },
 "nbformat": 4,
 "nbformat_minor": 4
}
