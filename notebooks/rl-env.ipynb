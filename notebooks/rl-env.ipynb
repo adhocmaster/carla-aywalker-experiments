{
 "cells": [
  {
   "cell_type": "code",
   "execution_count": 1,
   "metadata": {},
   "outputs": [
    {
     "name": "stdout",
     "output_type": "stream",
     "text": [
      "current working dirE:\\AV\\Carla\\CARLA_0.9.13\\WindowsNoEditor\\PythonAPI\\experiments\n"
     ]
    }
   ],
   "source": [
    "exec(open(\"init_notebook.py\", \"r\").read())\n",
    "%load_ext autoreload\n",
    "%autoreload 2"
   ]
  },
  {
   "cell_type": "code",
   "execution_count": 2,
   "metadata": {},
   "outputs": [],
   "source": [
    "import logging\n",
    "from tqdm import tqdm"
   ]
  },
  {
   "cell_type": "code",
   "execution_count": 3,
   "metadata": {},
   "outputs": [
    {
     "name": "stdout",
     "output_type": "stream",
     "text": [
      "research chosen : R1v1 with host: 127.0.0.1, port: 2000, log level: 40, output directory: X:/AV/DataSetExploration/jaywalker\n"
     ]
    },
    {
     "name": "stderr",
     "output_type": "stream",
     "text": [
      "E:\\AV\\Carla\\CARLA_0.9.13\\WindowsNoEditor\\PythonAPI\\experiments\\research\\BaseResearch.py:51: DeprecationWarning: The 'warn' method is deprecated, use 'warning' instead\n",
      "  self.logger.warn(f\"Starting simulation in synchronous mode\")\n",
      "C:\\Users\\adhocmaster\\.conda\\envs\\carla37\\lib\\site-packages\\gym\\spaces\\box.py:84: UserWarning: \u001b[33mWARN: Box bound precision lowered by casting to float32\u001b[0m\n",
      "  logger.warn(f\"Box bound precision lowered by casting to {self.dtype}\")\n",
      "E:\\AV\\Carla\\CARLA_0.9.13\\WindowsNoEditor\\PythonAPI\\experiments\\agents\\pedestrians\\PedestrianFactory.py:125: DeprecationWarning: The 'warn' method is deprecated, use 'warning' instead\n",
      "  self.logger.warn(f\"Internation factor path is None. Using the default at ({PedestrianFactory.internalFactorPath})\")\n",
      "E:\\AV\\Carla\\CARLA_0.9.13\\WindowsNoEditor\\PythonAPI\\experiments\\agents\\pedestrians\\planner\\PedestrianPlanner.py:42: DeprecationWarning: The 'warn' method is deprecated, use 'warning' instead\n",
      "  self.logger.warn(f\"remembering {deqLength} tick locations\")\n",
      "E:\\AV\\Carla\\CARLA_0.9.13\\WindowsNoEditor\\PythonAPI\\experiments\\research\\Research1v1.py:151: DeprecationWarning: The 'warn' method is deprecated, use 'warning' instead\n",
      "  self.logger.warn(f\"started episode {self.episodeNumber}\")\n"
     ]
    }
   ],
   "source": [
    "from research.adversaries.EnvironmentFactory import EnvironmentFactory, AvailableEnvironments\n",
    "# dataDir = \"D:/AV/DataSetExploration/jaywalker\"\n",
    "dataDir = \"X:/AV/DataSetExploration/jaywalker\"\n",
    "env = EnvironmentFactory.create(\n",
    "    AvailableEnvironments.R1V1Env1, \n",
    "    defaultLogLevel=logging.ERROR,\n",
    "    output_dir=dataDir\n",
    ")"
   ]
  },
  {
   "cell_type": "code",
   "execution_count": 4,
   "metadata": {},
   "outputs": [
    {
     "data": {
      "text/plain": [
       "25"
      ]
     },
     "execution_count": 4,
     "metadata": {},
     "output_type": "execute_result"
    }
   ],
   "source": [
    "env.getActionTicks('a')"
   ]
  },
  {
   "cell_type": "code",
   "execution_count": 5,
   "metadata": {},
   "outputs": [],
   "source": [
    "# env.research.getWalkerAgent().updateLogLevel(logging.WARN)"
   ]
  },
  {
   "cell_type": "code",
   "execution_count": 6,
   "metadata": {},
   "outputs": [],
   "source": [
    "# env.reset()"
   ]
  },
  {
   "cell_type": "code",
   "execution_count": 7,
   "metadata": {},
   "outputs": [
    {
     "name": "stderr",
     "output_type": "stream",
     "text": [
      "Steps:   0%|▎                                                                         | 7/1500 [00:10<39:05,  1.57s/it]E:\\AV\\Carla\\CARLA_0.9.13\\WindowsNoEditor\\PythonAPI\\experiments\\agents\\pedestrians\\planner\\SingleOncomingVehicleLocalPlanner.py:112: DeprecationWarning: The 'warn' method is deprecated, use 'warning' instead\n",
      "  self.logger.warn(f\"Finished. no new control\")\n",
      "Steps:  24%|█████████████████▍                                                      | 364/1500 [10:06<30:07,  1.59s/it]E:\\AV\\Carla\\CARLA_0.9.13\\WindowsNoEditor\\PythonAPI\\experiments\\agents\\pedestrians\\PedestrianAgent.py:261: DeprecationWarning: The 'warn' method is deprecated, use 'warning' instead\n",
      "  self.logger.warn(f\"Distance to sidewalk is none!\")\n",
      "Steps: 100%|███████████████████████████████████████████████████████████████████████| 1500/1500 [41:30<00:00,  1.66s/it]\n"
     ]
    }
   ],
   "source": [
    "# take 5 actions which should run 5 seconds of simulation\n",
    "for _ in tqdm(range(1500), desc=\"Steps\"):\n",
    "    state, reward, done, _ = env.step('sa')\n",
    "    if done:\n",
    "        env.reset()"
   ]
  },
  {
   "cell_type": "code",
   "execution_count": 8,
   "metadata": {},
   "outputs": [],
   "source": [
    "env.close()"
   ]
  },
  {
   "cell_type": "code",
   "execution_count": 9,
   "metadata": {},
   "outputs": [],
   "source": [
    "# env.research.episodeTrajectoryRecorders"
   ]
  },
  {
   "cell_type": "code",
   "execution_count": 10,
   "metadata": {},
   "outputs": [],
   "source": [
    "recorder = env.research.episodeTrajectoryRecorders[1]"
   ]
  },
  {
   "cell_type": "code",
   "execution_count": 11,
   "metadata": {},
   "outputs": [
    {
     "data": {
      "text/plain": [
       "{986: <lib.Trajectory.Trajectory at 0x245e12052c8>,\n",
       " 985: <lib.Trajectory.Trajectory at 0x245e1205308>}"
      ]
     },
     "execution_count": 11,
     "metadata": {},
     "output_type": "execute_result"
    }
   ],
   "source": [
    "recorder.trajectories"
   ]
  },
  {
   "cell_type": "code",
   "execution_count": 12,
   "metadata": {},
   "outputs": [
    {
     "data": {
      "text/html": [
       "<div>\n",
       "<style scoped>\n",
       "    .dataframe tbody tr th:only-of-type {\n",
       "        vertical-align: middle;\n",
       "    }\n",
       "\n",
       "    .dataframe tbody tr th {\n",
       "        vertical-align: top;\n",
       "    }\n",
       "\n",
       "    .dataframe thead th {\n",
       "        text-align: right;\n",
       "    }\n",
       "</style>\n",
       "<table border=\"1\" class=\"dataframe\">\n",
       "  <thead>\n",
       "    <tr style=\"text-align: right;\">\n",
       "      <th></th>\n",
       "      <th>frame</th>\n",
       "      <th>mapX</th>\n",
       "      <th>mapY</th>\n",
       "      <th>recordingId</th>\n",
       "      <th>trackId</th>\n",
       "      <th>class</th>\n",
       "    </tr>\n",
       "  </thead>\n",
       "  <tbody>\n",
       "    <tr>\n",
       "      <th>0</th>\n",
       "      <td>1</td>\n",
       "      <td>-113.000000</td>\n",
       "      <td>-3.000000</td>\n",
       "      <td>1</td>\n",
       "      <td>986</td>\n",
       "      <td>pedestrian</td>\n",
       "    </tr>\n",
       "    <tr>\n",
       "      <th>1</th>\n",
       "      <td>2</td>\n",
       "      <td>-113.000000</td>\n",
       "      <td>-3.000000</td>\n",
       "      <td>1</td>\n",
       "      <td>986</td>\n",
       "      <td>pedestrian</td>\n",
       "    </tr>\n",
       "    <tr>\n",
       "      <th>2</th>\n",
       "      <td>3</td>\n",
       "      <td>-113.000000</td>\n",
       "      <td>-3.000000</td>\n",
       "      <td>1</td>\n",
       "      <td>986</td>\n",
       "      <td>pedestrian</td>\n",
       "    </tr>\n",
       "    <tr>\n",
       "      <th>3</th>\n",
       "      <td>4</td>\n",
       "      <td>-113.000000</td>\n",
       "      <td>-3.000000</td>\n",
       "      <td>1</td>\n",
       "      <td>986</td>\n",
       "      <td>pedestrian</td>\n",
       "    </tr>\n",
       "    <tr>\n",
       "      <th>4</th>\n",
       "      <td>5</td>\n",
       "      <td>-113.000000</td>\n",
       "      <td>-3.000000</td>\n",
       "      <td>1</td>\n",
       "      <td>986</td>\n",
       "      <td>pedestrian</td>\n",
       "    </tr>\n",
       "    <tr>\n",
       "      <th>...</th>\n",
       "      <td>...</td>\n",
       "      <td>...</td>\n",
       "      <td>...</td>\n",
       "      <td>...</td>\n",
       "      <td>...</td>\n",
       "      <td>...</td>\n",
       "    </tr>\n",
       "    <tr>\n",
       "      <th>357</th>\n",
       "      <td>177</td>\n",
       "      <td>-109.966095</td>\n",
       "      <td>-8.336323</td>\n",
       "      <td>1</td>\n",
       "      <td>985</td>\n",
       "      <td>vehicle</td>\n",
       "    </tr>\n",
       "    <tr>\n",
       "      <th>358</th>\n",
       "      <td>178</td>\n",
       "      <td>-109.716431</td>\n",
       "      <td>-8.435649</td>\n",
       "      <td>1</td>\n",
       "      <td>985</td>\n",
       "      <td>vehicle</td>\n",
       "    </tr>\n",
       "    <tr>\n",
       "      <th>359</th>\n",
       "      <td>179</td>\n",
       "      <td>-109.466415</td>\n",
       "      <td>-8.536391</td>\n",
       "      <td>1</td>\n",
       "      <td>985</td>\n",
       "      <td>vehicle</td>\n",
       "    </tr>\n",
       "    <tr>\n",
       "      <th>360</th>\n",
       "      <td>180</td>\n",
       "      <td>-109.214958</td>\n",
       "      <td>-8.638528</td>\n",
       "      <td>1</td>\n",
       "      <td>985</td>\n",
       "      <td>vehicle</td>\n",
       "    </tr>\n",
       "    <tr>\n",
       "      <th>361</th>\n",
       "      <td>181</td>\n",
       "      <td>-108.963272</td>\n",
       "      <td>-8.745334</td>\n",
       "      <td>1</td>\n",
       "      <td>985</td>\n",
       "      <td>vehicle</td>\n",
       "    </tr>\n",
       "  </tbody>\n",
       "</table>\n",
       "<p>362 rows × 6 columns</p>\n",
       "</div>"
      ],
      "text/plain": [
       "     frame        mapX      mapY  recordingId  trackId       class\n",
       "0        1 -113.000000 -3.000000            1      986  pedestrian\n",
       "1        2 -113.000000 -3.000000            1      986  pedestrian\n",
       "2        3 -113.000000 -3.000000            1      986  pedestrian\n",
       "3        4 -113.000000 -3.000000            1      986  pedestrian\n",
       "4        5 -113.000000 -3.000000            1      986  pedestrian\n",
       "..     ...         ...       ...          ...      ...         ...\n",
       "357    177 -109.966095 -8.336323            1      985     vehicle\n",
       "358    178 -109.716431 -8.435649            1      985     vehicle\n",
       "359    179 -109.466415 -8.536391            1      985     vehicle\n",
       "360    180 -109.214958 -8.638528            1      985     vehicle\n",
       "361    181 -108.963272 -8.745334            1      985     vehicle\n",
       "\n",
       "[362 rows x 6 columns]"
      ]
     },
     "execution_count": 12,
     "metadata": {},
     "output_type": "execute_result"
    }
   ],
   "source": [
    "recorder.getAsDataFrame()"
   ]
  },
  {
   "cell_type": "code",
   "execution_count": 13,
   "metadata": {},
   "outputs": [
    {
     "data": {
      "text/plain": [
       "25.0"
      ]
     },
     "execution_count": 13,
     "metadata": {},
     "output_type": "execute_result"
    }
   ],
   "source": [
    "recorder.fps"
   ]
  },
  {
   "cell_type": "code",
   "execution_count": 14,
   "metadata": {},
   "outputs": [
    {
     "data": {
      "text/plain": [
       "25.0"
      ]
     },
     "execution_count": 14,
     "metadata": {},
     "output_type": "execute_result"
    }
   ],
   "source": [
    "1 / env.research.time_delta"
   ]
  },
  {
   "cell_type": "code",
   "execution_count": 15,
   "metadata": {},
   "outputs": [],
   "source": [
    "vehicle = env.research.vehicle\n",
    "walker = env.research.walker"
   ]
  },
  {
   "cell_type": "code",
   "execution_count": 16,
   "metadata": {},
   "outputs": [],
   "source": [
    "from lib.VehicleUtils import VehicleUtils"
   ]
  },
  {
   "cell_type": "code",
   "execution_count": 17,
   "metadata": {},
   "outputs": [],
   "source": [
    "contour = VehicleUtils.getYANGContour(vehicle)"
   ]
  },
  {
   "cell_type": "code",
   "execution_count": 18,
   "metadata": {},
   "outputs": [
    {
     "data": {
      "image/svg+xml": [
       "<svg xmlns=\"http://www.w3.org/2000/svg\" xmlns:xlink=\"http://www.w3.org/1999/xlink\" width=\"100.0\" height=\"100.0\" viewBox=\"-139.12717964037435 -7.984517396100157 6.721261572115537 2.53311340698216\" preserveAspectRatio=\"xMinYMin meet\"><g transform=\"matrix(1,0,0,-1,0,-13.435921385218155)\"><path fill-rule=\"evenodd\" fill=\"#66cc99\" stroke=\"#555555\" stroke-width=\"0.13442523144231075\" opacity=\"0.6\" d=\"M -138.86220920922455,-5.700339602900054 L -133.73997757452716,-5.741529111061762 L -132.65485368204088,-6.747345746652441 L -133.7560123918949,-7.735581782318101 L -138.87824402659228,-7.694392274156392 L -138.86220920922455,-5.700339602900054 z\" /></g></svg>"
      ],
      "text/plain": [
       "<shapely.geometry.polygon.Polygon at 0x245ea8b01c8>"
      ]
     },
     "execution_count": 18,
     "metadata": {},
     "output_type": "execute_result"
    }
   ],
   "source": [
    "contour"
   ]
  },
  {
   "cell_type": "code",
   "execution_count": 19,
   "metadata": {},
   "outputs": [
    {
     "name": "stdout",
     "output_type": "stream",
     "text": [
      "POINT (-132.65485368204088 -6.747345746652441)\n",
      "POINT (-113 -3)\n",
      "Location(x=-113.000000, y=-3.000000, z=1.103900)\n"
     ]
    }
   ],
   "source": [
    "from shapely.ops import nearest_points\n",
    "from shapely.geometry import Point\n",
    "points = nearest_points(contour, Point(walker.get_location().x, walker.get_location().y))\n",
    "for point in points:\n",
    "    print(point)\n",
    "\n",
    "print(walker.get_location())"
   ]
  },
  {
   "cell_type": "code",
   "execution_count": 20,
   "metadata": {},
   "outputs": [
    {
     "name": "stdout",
     "output_type": "stream",
     "text": [
      "array('d', [-138.86220920922455, -133.73997757452716, -132.65485368204088, -133.7560123918949, -138.87824402659228, -138.86220920922455]) array('d', [-5.700339602900054, -5.741529111061762, -6.747345746652441, -7.735581782318101, -7.694392274156392, -5.700339602900054])\n",
      "(-138.86220920922455, -5.700339602900054)\n",
      "(-133.73997757452716, -5.741529111061762)\n",
      "(-132.65485368204088, -6.747345746652441)\n",
      "(-133.7560123918949, -7.735581782318101)\n",
      "(-138.87824402659228, -7.694392274156392)\n",
      "(-138.86220920922455, -5.700339602900054)\n"
     ]
    }
   ],
   "source": [
    "X = contour.exterior.xy[0]\n",
    "Y = contour.exterior.xy[1]\n",
    "print(X, Y)\n",
    "for point in zip(X, Y):\n",
    "    print(point)"
   ]
  },
  {
   "cell_type": "code",
   "execution_count": 21,
   "metadata": {},
   "outputs": [],
   "source": [
    "# visualizer = env.research.visualizer\n",
    "# for _ in tqdm(range(5), desc=\"Steps\"):\n",
    "#     state, reward, done, _ = env.step('sa')\n",
    "#     if done:\n",
    "#         env.reset()\n",
    "#     else:\n",
    "#         vehicle = env.research.vehicle\n",
    "#         contour = VehicleUtils.getYANGContour(vehicle)\n",
    "#         visualizer.drawShaplyPolygon(contour, color=(0, 0, 255,0), life_time=1.0, z=1.5)"
   ]
  },
  {
   "cell_type": "code",
   "execution_count": null,
   "metadata": {},
   "outputs": [],
   "source": []
  }
 ],
 "metadata": {
  "interpreter": {
   "hash": "c41efe7cc2f3c8a3ce9b519e40ef040a56d286a1ae6cf399c12879848c67d057"
  },
  "kernelspec": {
   "display_name": "Python 3 (ipykernel)",
   "language": "python",
   "name": "python3"
  },
  "language_info": {
   "codemirror_mode": {
    "name": "ipython",
    "version": 3
   },
   "file_extension": ".py",
   "mimetype": "text/x-python",
   "name": "python",
   "nbconvert_exporter": "python",
   "pygments_lexer": "ipython3",
   "version": "3.7.11"
  }
 },
 "nbformat": 4,
 "nbformat_minor": 4
}
