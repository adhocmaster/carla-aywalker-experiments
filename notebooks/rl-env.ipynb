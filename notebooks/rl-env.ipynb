{
 "cells": [
  {
   "cell_type": "code",
   "execution_count": 1,
   "metadata": {},
   "outputs": [
    {
     "name": "stdout",
     "output_type": "stream",
     "text": [
      "current working dirC:\\AV\\Carla\\CARLA_0.9.13\\WindowsNoEditor\\PythonAPI\\experiments\n"
     ]
    }
   ],
   "source": [
    "exec(open(\"init_notebook.py\", \"r\").read())\n",
    "%load_ext autoreload\n",
    "%autoreload 2"
   ]
  },
  {
   "cell_type": "code",
   "execution_count": 2,
   "metadata": {},
   "outputs": [],
   "source": [
    "import logging"
   ]
  },
  {
   "cell_type": "code",
   "execution_count": 3,
   "metadata": {},
   "outputs": [
    {
     "name": "stderr",
     "output_type": "stream",
     "text": [
      "2022-12-29 13:52:24,426 - Research1v1 - WARNING - Starting simulation in synchronous mode\n"
     ]
    },
    {
     "name": "stdout",
     "output_type": "stream",
     "text": [
      "research chosen : R1v1 with host: 127.0.0.1, port: 2000, log level: 30, output directory: logs\n"
     ]
    },
    {
     "name": "stderr",
     "output_type": "stream",
     "text": [
      "C:\\Users\\adhocmaster\\anaconda3\\envs\\carla37\\lib\\site-packages\\gym\\spaces\\box.py:74: UserWarning: \u001b[33mWARN: Box bound precision lowered by casting to float32\u001b[0m\n",
      "  \"Box bound precision lowered by casting to {}\".format(self.dtype)\n",
      "2022-12-29 13:52:26,843 - PedestrianFactory - WARNING - Internation factor path is None. Using the default at (settings/internal_factors_default.yaml)\n",
      "WARNING:PedestrianFactory:Internation factor path is None. Using the default at (settings/internal_factors_default.yaml)\n",
      "2022-12-29 13:52:26,846 - SingleOncomingVehicleLocalPlanner 296 - WARNING - remembering 40 tick locations\n",
      "WARNING:SingleOncomingVehicleLocalPlanner 296:remembering 40 tick locations\n",
      "2022-12-29 13:52:26,861 - Research1v1 - WARNING - started episode 1\n",
      "WARNING:Research1v1:started episode 1\n"
     ]
    },
    {
     "name": "stdout",
     "output_type": "stream",
     "text": [
      "Utils->draw_trace_route: length of trace route 46\n"
     ]
    }
   ],
   "source": [
    "from research.adversaries.EnvironmentFactory import EnvironmentFactory, AvailableEnvironments\n",
    "env = EnvironmentFactory.create(AvailableEnvironments.R1V1Env1)"
   ]
  },
  {
   "cell_type": "code",
   "execution_count": 4,
   "metadata": {},
   "outputs": [
    {
     "data": {
      "text/plain": [
       "19"
      ]
     },
     "execution_count": 4,
     "metadata": {},
     "output_type": "execute_result"
    }
   ],
   "source": [
    "env.getActionTicks('a')"
   ]
  },
  {
   "cell_type": "code",
   "execution_count": 5,
   "metadata": {},
   "outputs": [],
   "source": [
    "# env.research.getWalkerAgent().updateLogLevel(logging.INFO)"
   ]
  },
  {
   "cell_type": "code",
   "execution_count": 6,
   "metadata": {},
   "outputs": [],
   "source": [
    "# env.reset()"
   ]
  },
  {
   "cell_type": "code",
   "execution_count": 7,
   "metadata": {},
   "outputs": [
    {
     "name": "stderr",
     "output_type": "stream",
     "text": [
      "2022-12-29 13:52:31,836 - SingleOncomingVehicleLocalPlanner 296 - WARNING - Finished. no new control\n",
      "WARNING:SingleOncomingVehicleLocalPlanner 296:Finished. no new control\n"
     ]
    },
    {
     "name": "stdout",
     "output_type": "stream",
     "text": [
      "Utils->draw_trace_route: length of trace route 57\n"
     ]
    },
    {
     "name": "stderr",
     "output_type": "stream",
     "text": [
      "2022-12-29 13:52:33,436 - PedestrianFactory - WARNING - Internation factor path is None. Using the default at (settings/internal_factors_default.yaml)\n",
      "WARNING:PedestrianFactory:Internation factor path is None. Using the default at (settings/internal_factors_default.yaml)\n",
      "2022-12-29 13:52:33,440 - SingleOncomingVehicleLocalPlanner 301 - WARNING - remembering 40 tick locations\n",
      "WARNING:SingleOncomingVehicleLocalPlanner 301:remembering 40 tick locations\n",
      "2022-12-29 13:52:33,453 - Research1v1 - WARNING - started episode 2\n",
      "WARNING:Research1v1:started episode 2\n"
     ]
    }
   ],
   "source": [
    "# take 5 actions which should run 5 seconds of simulation\n",
    "for _ in range(5):\n",
    "    state, reward, done, _ = env.step('sa')\n",
    "    if done:\n",
    "        env.reset()"
   ]
  },
  {
   "cell_type": "code",
   "execution_count": 8,
   "metadata": {},
   "outputs": [
    {
     "name": "stderr",
     "output_type": "stream",
     "text": [
      "2022-12-29 13:52:33,528 - Research1v1 - WARNING - Saving tracks to logs\\2022-12-29-00-00-tracks.csv\n",
      "WARNING:Research1v1:Saving tracks to logs\\2022-12-29-00-00-tracks.csv\n",
      "2022-12-29 13:52:33,531 - Research1v1 - WARNING - Empty stats. It means no episode was completed in this run\n",
      "WARNING:Research1v1:Empty stats. It means no episode was completed in this run\n",
      "2022-12-29 13:52:34,913 - PedestrianFactory - WARNING - Internation factor path is None. Using the default at (settings/internal_factors_default.yaml)\n",
      "WARNING:PedestrianFactory:Internation factor path is None. Using the default at (settings/internal_factors_default.yaml)\n",
      "2022-12-29 13:52:34,918 - SingleOncomingVehicleLocalPlanner 306 - WARNING - remembering 40 tick locations\n",
      "WARNING:SingleOncomingVehicleLocalPlanner 306:remembering 40 tick locations\n",
      "2022-12-29 13:52:34,930 - Research1v1 - WARNING - started episode 3\n",
      "WARNING:Research1v1:started episode 3\n"
     ]
    },
    {
     "name": "stdout",
     "output_type": "stream",
     "text": [
      "Utils->draw_trace_route: length of trace route 55\n"
     ]
    }
   ],
   "source": [
    "env.close()"
   ]
  },
  {
   "cell_type": "code",
   "execution_count": 9,
   "metadata": {},
   "outputs": [
    {
     "data": {
      "text/plain": [
       "{1: <lib.EpisodeTrajectoryRecorder.EpisodeTrajectoryRecorder at 0x21178a011c8>}"
      ]
     },
     "execution_count": 9,
     "metadata": {},
     "output_type": "execute_result"
    }
   ],
   "source": [
    "env.research.episodeTrajectoryRecorders"
   ]
  },
  {
   "cell_type": "code",
   "execution_count": 11,
   "metadata": {},
   "outputs": [],
   "source": [
    "recorder = env.research.episodeTrajectoryRecorders[1]"
   ]
  },
  {
   "cell_type": "code",
   "execution_count": null,
   "metadata": {},
   "outputs": [],
   "source": [
    "recorder.trajectories"
   ]
  },
  {
   "cell_type": "code",
   "execution_count": 12,
   "metadata": {},
   "outputs": [
    {
     "data": {
      "text/html": [
       "<div>\n",
       "<style scoped>\n",
       "    .dataframe tbody tr th:only-of-type {\n",
       "        vertical-align: middle;\n",
       "    }\n",
       "\n",
       "    .dataframe tbody tr th {\n",
       "        vertical-align: top;\n",
       "    }\n",
       "\n",
       "    .dataframe thead th {\n",
       "        text-align: right;\n",
       "    }\n",
       "</style>\n",
       "<table border=\"1\" class=\"dataframe\">\n",
       "  <thead>\n",
       "    <tr style=\"text-align: right;\">\n",
       "      <th></th>\n",
       "      <th>frame</th>\n",
       "      <th>mapX</th>\n",
       "      <th>mapY</th>\n",
       "      <th>episode</th>\n",
       "    </tr>\n",
       "  </thead>\n",
       "  <tbody>\n",
       "    <tr>\n",
       "      <th>0</th>\n",
       "      <td>1</td>\n",
       "      <td>-113.000000</td>\n",
       "      <td>-3.000000</td>\n",
       "      <td>1</td>\n",
       "    </tr>\n",
       "    <tr>\n",
       "      <th>1</th>\n",
       "      <td>2</td>\n",
       "      <td>-113.000000</td>\n",
       "      <td>-3.000000</td>\n",
       "      <td>1</td>\n",
       "    </tr>\n",
       "    <tr>\n",
       "      <th>2</th>\n",
       "      <td>3</td>\n",
       "      <td>-113.000000</td>\n",
       "      <td>-3.000000</td>\n",
       "      <td>1</td>\n",
       "    </tr>\n",
       "    <tr>\n",
       "      <th>3</th>\n",
       "      <td>4</td>\n",
       "      <td>-113.000000</td>\n",
       "      <td>-3.000000</td>\n",
       "      <td>1</td>\n",
       "    </tr>\n",
       "    <tr>\n",
       "      <th>4</th>\n",
       "      <td>5</td>\n",
       "      <td>-113.000000</td>\n",
       "      <td>-3.000000</td>\n",
       "      <td>1</td>\n",
       "    </tr>\n",
       "    <tr>\n",
       "      <th>...</th>\n",
       "      <td>...</td>\n",
       "      <td>...</td>\n",
       "      <td>...</td>\n",
       "      <td>...</td>\n",
       "    </tr>\n",
       "    <tr>\n",
       "      <th>167</th>\n",
       "      <td>82</td>\n",
       "      <td>-115.396873</td>\n",
       "      <td>-7.102549</td>\n",
       "      <td>1</td>\n",
       "    </tr>\n",
       "    <tr>\n",
       "      <th>168</th>\n",
       "      <td>83</td>\n",
       "      <td>-115.042732</td>\n",
       "      <td>-7.131674</td>\n",
       "      <td>1</td>\n",
       "    </tr>\n",
       "    <tr>\n",
       "      <th>169</th>\n",
       "      <td>84</td>\n",
       "      <td>-114.691734</td>\n",
       "      <td>-7.172200</td>\n",
       "      <td>1</td>\n",
       "    </tr>\n",
       "    <tr>\n",
       "      <th>170</th>\n",
       "      <td>85</td>\n",
       "      <td>-114.345787</td>\n",
       "      <td>-7.219173</td>\n",
       "      <td>1</td>\n",
       "    </tr>\n",
       "    <tr>\n",
       "      <th>171</th>\n",
       "      <td>86</td>\n",
       "      <td>-114.004990</td>\n",
       "      <td>-7.269314</td>\n",
       "      <td>1</td>\n",
       "    </tr>\n",
       "  </tbody>\n",
       "</table>\n",
       "<p>172 rows × 4 columns</p>\n",
       "</div>"
      ],
      "text/plain": [
       "     frame        mapX      mapY  episode\n",
       "0        1 -113.000000 -3.000000        1\n",
       "1        2 -113.000000 -3.000000        1\n",
       "2        3 -113.000000 -3.000000        1\n",
       "3        4 -113.000000 -3.000000        1\n",
       "4        5 -113.000000 -3.000000        1\n",
       "..     ...         ...       ...      ...\n",
       "167     82 -115.396873 -7.102549        1\n",
       "168     83 -115.042732 -7.131674        1\n",
       "169     84 -114.691734 -7.172200        1\n",
       "170     85 -114.345787 -7.219173        1\n",
       "171     86 -114.004990 -7.269314        1\n",
       "\n",
       "[172 rows x 4 columns]"
      ]
     },
     "execution_count": 12,
     "metadata": {},
     "output_type": "execute_result"
    }
   ],
   "source": [
    "recorder.getAsDataFrame()"
   ]
  },
  {
   "cell_type": "code",
   "execution_count": null,
   "metadata": {},
   "outputs": [],
   "source": []
  }
 ],
 "metadata": {
  "interpreter": {
   "hash": "c41efe7cc2f3c8a3ce9b519e40ef040a56d286a1ae6cf399c12879848c67d057"
  },
  "kernelspec": {
   "display_name": "Python 3 (ipykernel)",
   "language": "python",
   "name": "python3"
  },
  "language_info": {
   "codemirror_mode": {
    "name": "ipython",
    "version": 3
   },
   "file_extension": ".py",
   "mimetype": "text/x-python",
   "name": "python",
   "nbconvert_exporter": "python",
   "pygments_lexer": "ipython3",
   "version": "3.7.11"
  }
 },
 "nbformat": 4,
 "nbformat_minor": 4
}
