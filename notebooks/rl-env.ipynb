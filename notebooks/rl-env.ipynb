{
 "cells": [
  {
   "cell_type": "code",
   "execution_count": 1,
   "metadata": {},
   "outputs": [
    {
     "name": "stdout",
     "output_type": "stream",
     "text": [
      "current working dirC:\\AV\\Carla\\CARLA_0.9.13\\WindowsNoEditor\\PythonAPI\\experiments\n"
     ]
    }
   ],
   "source": [
    "exec(open(\"init_notebook.py\", \"r\").read())\n",
    "%load_ext autoreload\n",
    "%autoreload 2"
   ]
  },
  {
   "cell_type": "code",
   "execution_count": 2,
   "metadata": {},
   "outputs": [],
   "source": [
    "import logging"
   ]
  },
  {
   "cell_type": "code",
   "execution_count": 3,
   "metadata": {},
   "outputs": [
    {
     "name": "stderr",
     "output_type": "stream",
     "text": [
      "2022-12-30 14:15:09,980 - Research1v1 - WARNING - Starting simulation in synchronous mode\n"
     ]
    },
    {
     "name": "stdout",
     "output_type": "stream",
     "text": [
      "research chosen : R1v1 with host: 127.0.0.1, port: 2000, log level: 30, output directory: D:/AV/DataSetExploration/jaywalker\n"
     ]
    },
    {
     "name": "stderr",
     "output_type": "stream",
     "text": [
      "C:\\Users\\adhocmaster\\anaconda3\\envs\\carla37\\lib\\site-packages\\gym\\spaces\\box.py:74: UserWarning: \u001b[33mWARN: Box bound precision lowered by casting to float32\u001b[0m\n",
      "  \"Box bound precision lowered by casting to {}\".format(self.dtype)\n",
      "2022-12-30 14:15:12,595 - PedestrianFactory - WARNING - Internation factor path is None. Using the default at (settings/internal_factors_default.yaml)\n",
      "WARNING:PedestrianFactory:Internation factor path is None. Using the default at (settings/internal_factors_default.yaml)\n",
      "2022-12-30 14:15:12,601 - SingleOncomingVehicleLocalPlanner 431 - WARNING - remembering 50 tick locations\n",
      "WARNING:SingleOncomingVehicleLocalPlanner 431:remembering 50 tick locations\n",
      "2022-12-30 14:15:12,618 - Research1v1 - WARNING - started episode 1\n",
      "WARNING:Research1v1:started episode 1\n"
     ]
    },
    {
     "name": "stdout",
     "output_type": "stream",
     "text": [
      "Utils->draw_trace_route: length of trace route 46\n"
     ]
    }
   ],
   "source": [
    "from research.adversaries.EnvironmentFactory import EnvironmentFactory, AvailableEnvironments\n",
    "dataDir = \"D:/AV/DataSetExploration/jaywalker\"\n",
    "env = EnvironmentFactory.create(\n",
    "    AvailableEnvironments.R1V1Env1, \n",
    "    defaultLogLevel=logging.ERROR,\n",
    "    output_dir=dataDir\n",
    ")"
   ]
  },
  {
   "cell_type": "code",
   "execution_count": 4,
   "metadata": {},
   "outputs": [
    {
     "data": {
      "text/plain": [
       "24"
      ]
     },
     "execution_count": 4,
     "metadata": {},
     "output_type": "execute_result"
    }
   ],
   "source": [
    "env.getActionTicks('a')"
   ]
  },
  {
   "cell_type": "code",
   "execution_count": 5,
   "metadata": {},
   "outputs": [],
   "source": [
    "# env.research.getWalkerAgent().updateLogLevel(logging.INFO)"
   ]
  },
  {
   "cell_type": "code",
   "execution_count": 6,
   "metadata": {},
   "outputs": [],
   "source": [
    "# env.reset()"
   ]
  },
  {
   "cell_type": "code",
   "execution_count": 7,
   "metadata": {},
   "outputs": [
    {
     "name": "stdout",
     "output_type": "stream",
     "text": [
      "Episodic Simulator: world ticks 100\n"
     ]
    }
   ],
   "source": [
    "# take 5 actions which should run 5 seconds of simulation\n",
    "for _ in range(5):\n",
    "    state, reward, done, _ = env.step('sa')\n",
    "    if done:\n",
    "        env.reset()"
   ]
  },
  {
   "cell_type": "code",
   "execution_count": 8,
   "metadata": {},
   "outputs": [
    {
     "name": "stderr",
     "output_type": "stream",
     "text": [
      "2022-12-30 14:15:19,610 - Research1v1 - WARNING - Saving tracks to D:/AV/DataSetExploration/jaywalker\\2022-12-30-00-00-tracks.csv\n",
      "WARNING:Research1v1:Saving tracks to D:/AV/DataSetExploration/jaywalker\\2022-12-30-00-00-tracks.csv\n",
      "2022-12-30 14:15:19,621 - Research1v1 - WARNING - Empty stats. It means no episode was completed in this run\n",
      "WARNING:Research1v1:Empty stats. It means no episode was completed in this run\n"
     ]
    },
    {
     "name": "stdout",
     "output_type": "stream",
     "text": [
      "Utils->draw_trace_route: length of trace route 53\n"
     ]
    },
    {
     "name": "stderr",
     "output_type": "stream",
     "text": [
      "2022-12-30 14:15:21,170 - PedestrianFactory - WARNING - Internation factor path is None. Using the default at (settings/internal_factors_default.yaml)\n",
      "WARNING:PedestrianFactory:Internation factor path is None. Using the default at (settings/internal_factors_default.yaml)\n",
      "2022-12-30 14:15:21,174 - SingleOncomingVehicleLocalPlanner 436 - WARNING - remembering 50 tick locations\n",
      "WARNING:SingleOncomingVehicleLocalPlanner 436:remembering 50 tick locations\n",
      "2022-12-30 14:15:21,189 - Research1v1 - WARNING - started episode 2\n",
      "WARNING:Research1v1:started episode 2\n"
     ]
    }
   ],
   "source": [
    "env.close()"
   ]
  },
  {
   "cell_type": "code",
   "execution_count": 9,
   "metadata": {},
   "outputs": [
    {
     "data": {
      "text/plain": [
       "{1: <lib.EpisodeTrajectoryRecorder.EpisodeTrajectoryRecorder at 0x152af972908>}"
      ]
     },
     "execution_count": 9,
     "metadata": {},
     "output_type": "execute_result"
    }
   ],
   "source": [
    "env.research.episodeTrajectoryRecorders"
   ]
  },
  {
   "cell_type": "code",
   "execution_count": 10,
   "metadata": {},
   "outputs": [],
   "source": [
    "recorder = env.research.episodeTrajectoryRecorders[1]"
   ]
  },
  {
   "cell_type": "code",
   "execution_count": 11,
   "metadata": {},
   "outputs": [
    {
     "data": {
      "text/plain": [
       "{431: <lib.Trajectory.Trajectory at 0x152af9765c8>,\n",
       " 430: <lib.Trajectory.Trajectory at 0x152af976608>}"
      ]
     },
     "execution_count": 11,
     "metadata": {},
     "output_type": "execute_result"
    }
   ],
   "source": [
    "recorder.trajectories"
   ]
  },
  {
   "cell_type": "code",
   "execution_count": 12,
   "metadata": {},
   "outputs": [
    {
     "data": {
      "text/html": [
       "<div>\n",
       "<style scoped>\n",
       "    .dataframe tbody tr th:only-of-type {\n",
       "        vertical-align: middle;\n",
       "    }\n",
       "\n",
       "    .dataframe tbody tr th {\n",
       "        vertical-align: top;\n",
       "    }\n",
       "\n",
       "    .dataframe thead th {\n",
       "        text-align: right;\n",
       "    }\n",
       "</style>\n",
       "<table border=\"1\" class=\"dataframe\">\n",
       "  <thead>\n",
       "    <tr style=\"text-align: right;\">\n",
       "      <th></th>\n",
       "      <th>frame</th>\n",
       "      <th>mapX</th>\n",
       "      <th>mapY</th>\n",
       "      <th>recordingId</th>\n",
       "      <th>trackId</th>\n",
       "      <th>class</th>\n",
       "    </tr>\n",
       "  </thead>\n",
       "  <tbody>\n",
       "    <tr>\n",
       "      <th>0</th>\n",
       "      <td>1</td>\n",
       "      <td>-113.000000</td>\n",
       "      <td>-3.000000</td>\n",
       "      <td>1</td>\n",
       "      <td>431</td>\n",
       "      <td>pedestrian</td>\n",
       "    </tr>\n",
       "    <tr>\n",
       "      <th>1</th>\n",
       "      <td>2</td>\n",
       "      <td>-113.000000</td>\n",
       "      <td>-3.000000</td>\n",
       "      <td>1</td>\n",
       "      <td>431</td>\n",
       "      <td>pedestrian</td>\n",
       "    </tr>\n",
       "    <tr>\n",
       "      <th>2</th>\n",
       "      <td>3</td>\n",
       "      <td>-113.000000</td>\n",
       "      <td>-3.000000</td>\n",
       "      <td>1</td>\n",
       "      <td>431</td>\n",
       "      <td>pedestrian</td>\n",
       "    </tr>\n",
       "    <tr>\n",
       "      <th>3</th>\n",
       "      <td>4</td>\n",
       "      <td>-113.000000</td>\n",
       "      <td>-3.000000</td>\n",
       "      <td>1</td>\n",
       "      <td>431</td>\n",
       "      <td>pedestrian</td>\n",
       "    </tr>\n",
       "    <tr>\n",
       "      <th>4</th>\n",
       "      <td>5</td>\n",
       "      <td>-113.000000</td>\n",
       "      <td>-3.000000</td>\n",
       "      <td>1</td>\n",
       "      <td>431</td>\n",
       "      <td>pedestrian</td>\n",
       "    </tr>\n",
       "    <tr>\n",
       "      <th>...</th>\n",
       "      <td>...</td>\n",
       "      <td>...</td>\n",
       "      <td>...</td>\n",
       "      <td>...</td>\n",
       "      <td>...</td>\n",
       "      <td>...</td>\n",
       "    </tr>\n",
       "    <tr>\n",
       "      <th>235</th>\n",
       "      <td>116</td>\n",
       "      <td>-118.950630</td>\n",
       "      <td>-6.862401</td>\n",
       "      <td>1</td>\n",
       "      <td>430</td>\n",
       "      <td>vehicle</td>\n",
       "    </tr>\n",
       "    <tr>\n",
       "      <th>236</th>\n",
       "      <td>117</td>\n",
       "      <td>-118.950836</td>\n",
       "      <td>-6.862399</td>\n",
       "      <td>1</td>\n",
       "      <td>430</td>\n",
       "      <td>vehicle</td>\n",
       "    </tr>\n",
       "    <tr>\n",
       "      <th>237</th>\n",
       "      <td>118</td>\n",
       "      <td>-118.948647</td>\n",
       "      <td>-6.862418</td>\n",
       "      <td>1</td>\n",
       "      <td>430</td>\n",
       "      <td>vehicle</td>\n",
       "    </tr>\n",
       "    <tr>\n",
       "      <th>238</th>\n",
       "      <td>119</td>\n",
       "      <td>-118.940887</td>\n",
       "      <td>-6.862483</td>\n",
       "      <td>1</td>\n",
       "      <td>430</td>\n",
       "      <td>vehicle</td>\n",
       "    </tr>\n",
       "    <tr>\n",
       "      <th>239</th>\n",
       "      <td>120</td>\n",
       "      <td>-118.927147</td>\n",
       "      <td>-6.862530</td>\n",
       "      <td>1</td>\n",
       "      <td>430</td>\n",
       "      <td>vehicle</td>\n",
       "    </tr>\n",
       "  </tbody>\n",
       "</table>\n",
       "<p>240 rows × 6 columns</p>\n",
       "</div>"
      ],
      "text/plain": [
       "     frame        mapX      mapY  recordingId  trackId       class\n",
       "0        1 -113.000000 -3.000000            1      431  pedestrian\n",
       "1        2 -113.000000 -3.000000            1      431  pedestrian\n",
       "2        3 -113.000000 -3.000000            1      431  pedestrian\n",
       "3        4 -113.000000 -3.000000            1      431  pedestrian\n",
       "4        5 -113.000000 -3.000000            1      431  pedestrian\n",
       "..     ...         ...       ...          ...      ...         ...\n",
       "235    116 -118.950630 -6.862401            1      430     vehicle\n",
       "236    117 -118.950836 -6.862399            1      430     vehicle\n",
       "237    118 -118.948647 -6.862418            1      430     vehicle\n",
       "238    119 -118.940887 -6.862483            1      430     vehicle\n",
       "239    120 -118.927147 -6.862530            1      430     vehicle\n",
       "\n",
       "[240 rows x 6 columns]"
      ]
     },
     "execution_count": 12,
     "metadata": {},
     "output_type": "execute_result"
    }
   ],
   "source": [
    "recorder.getAsDataFrame()"
   ]
  },
  {
   "cell_type": "code",
   "execution_count": 13,
   "metadata": {},
   "outputs": [
    {
     "data": {
      "text/plain": [
       "25.0"
      ]
     },
     "execution_count": 13,
     "metadata": {},
     "output_type": "execute_result"
    }
   ],
   "source": [
    "recorder.fps"
   ]
  },
  {
   "cell_type": "code",
   "execution_count": null,
   "metadata": {},
   "outputs": [],
   "source": []
  }
 ],
 "metadata": {
  "interpreter": {
   "hash": "c41efe7cc2f3c8a3ce9b519e40ef040a56d286a1ae6cf399c12879848c67d057"
  },
  "kernelspec": {
   "display_name": "Python 3 (ipykernel)",
   "language": "python",
   "name": "python3"
  },
  "language_info": {
   "codemirror_mode": {
    "name": "ipython",
    "version": 3
   },
   "file_extension": ".py",
   "mimetype": "text/x-python",
   "name": "python",
   "nbconvert_exporter": "python",
   "pygments_lexer": "ipython3",
   "version": "3.7.11"
  }
 },
 "nbformat": 4,
 "nbformat_minor": 4
}
