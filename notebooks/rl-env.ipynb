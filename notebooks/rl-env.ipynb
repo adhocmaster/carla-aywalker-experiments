{
 "cells": [
  {
   "cell_type": "code",
   "execution_count": 1,
   "metadata": {},
   "outputs": [
    {
     "name": "stdout",
     "output_type": "stream",
     "text": [
      "current working dirC:\\AV\\Carla\\CARLA_0.9.13\\WindowsNoEditor\\PythonAPI\\experiments\n"
     ]
    }
   ],
   "source": [
    "exec(open(\"init_notebook.py\", \"r\").read())\n",
    "%load_ext autoreload\n",
    "%autoreload 2"
   ]
  },
  {
   "cell_type": "code",
   "execution_count": 2,
   "metadata": {},
   "outputs": [],
   "source": [
    "import logging"
   ]
  },
  {
   "cell_type": "code",
   "execution_count": 3,
   "metadata": {},
   "outputs": [
    {
     "name": "stderr",
     "output_type": "stream",
     "text": [
      "2022-12-23 12:32:13,592 - Research1v1 - WARNING - Starting simulation in synchronous mode\n"
     ]
    },
    {
     "name": "stdout",
     "output_type": "stream",
     "text": [
      "research chosen : R1v1 with host: 127.0.0.1, port: 2000, log level: 30, output directory: logs\n",
      "MapManager: setting spectator position to (-126.68757247924805, -12.168962478637695, 89.32942495007721)\n",
      "setting log level 30 for SimulationVisualization from default level\n",
      "setting log level 30 for PedestrianFactory from default level\n",
      "setting log level 30 for VehicleFactory from default level\n"
     ]
    },
    {
     "name": "stderr",
     "output_type": "stream",
     "text": [
      "C:\\Users\\adhocmaster\\anaconda3\\envs\\carla37\\lib\\site-packages\\gym\\spaces\\box.py:74: UserWarning: \u001b[33mWARN: Box bound precision lowered by casting to float32\u001b[0m\n",
      "  \"Box bound precision lowered by casting to {}\".format(self.dtype)\n",
      "2022-12-23 12:32:15,089 - Vehicle-LocalPlanner - WARNING - Len of waypoint queue at _init_controller = 0\n",
      "2022-12-23 12:32:15,102 - PedestrianFactory - WARNING - Internation factor path is None. Using the default at (settings/internal_factors_default.yaml)\n",
      "2022-12-23 12:32:15,105 - SingleOncomingVehicleLocalPlanner 74 - WARNING - remembering 40 tick locations\n"
     ]
    },
    {
     "name": "stdout",
     "output_type": "stream",
     "text": [
      "MapManager: setting spectator position to (-126.68757247924805, -12.168962478637695, 89.32942495007721)\n",
      "setting log level 30 for Vehicle-BasicAgent from default level\n",
      "setting log level 30 for Vehicle-LocalPlanner from default level\n",
      "setting log level 30 for Vehicle-GlobalRoutePlanner from default level\n",
      "Utils->draw_trace_route: length of trace route 53\n",
      "setting log level 30 for PedestrianAgent #74\n",
      "setting log level 30 for ActorManager #74\n",
      "setting log level 30 for ObstacleManager #74 from default level\n",
      "setting log level 30 for SingleOncomingVehicleLocalPlanner 74\n",
      "setting log level 30 for ModelFactory 74 from default level\n",
      "setting log level 30 for BrewerGapModel #74 from default level\n",
      "setting log level 30 for BrewerGapModel #74 from default level\n",
      "setting log level 30 for StopGoModel #74 from default level\n",
      "LINESTRING (-125.13218687199335 -13.180108514560352, -108.7328698966166 -14.723839848135388)\n",
      "setting log level 30 for Simulator from default level\n"
     ]
    }
   ],
   "source": [
    "from research.adversaries.EnvironmentFactory import EnvironmentFactory, AvailableEnvironments\n",
    "env = EnvironmentFactory.create(AvailableEnvironments.R1V1Env1)"
   ]
  },
  {
   "cell_type": "code",
   "execution_count": 4,
   "metadata": {},
   "outputs": [
    {
     "data": {
      "text/plain": [
       "19"
      ]
     },
     "execution_count": 4,
     "metadata": {},
     "output_type": "execute_result"
    }
   ],
   "source": [
    "env.getActionTicks('a')"
   ]
  },
  {
   "cell_type": "code",
   "execution_count": 8,
   "metadata": {},
   "outputs": [
    {
     "name": "stderr",
     "output_type": "stream",
     "text": [
      "2022-12-23 12:33:18,152 - PedestrianAgent #89 - WARNING - Updating PedestrianAgent #89 log level: 20\n"
     ]
    },
    {
     "name": "stdout",
     "output_type": "stream",
     "text": [
      "setting log level 20 for PedestrianAgent #89\n"
     ]
    }
   ],
   "source": [
    "env.research.getWalkerAgent().updateLogLevel(logging.INFO)"
   ]
  },
  {
   "cell_type": "code",
   "execution_count": 9,
   "metadata": {},
   "outputs": [
    {
     "data": {
      "text/plain": [
       "100"
      ]
     },
     "execution_count": 9,
     "metadata": {},
     "output_type": "execute_result"
    }
   ],
   "source": [
    "env.reward()"
   ]
  },
  {
   "cell_type": "code",
   "execution_count": 25,
   "metadata": {},
   "outputs": [
    {
     "name": "stderr",
     "output_type": "stream",
     "text": [
      "2022-12-23 14:01:10,786 - Research1v1 - WARNING - Updating behavior\n",
      "2022-12-23 14:01:11,821 - Research1v1 - WARNING - Updating behavior\n",
      "2022-12-23 14:01:12,856 - Research1v1 - WARNING - Updating behavior\n",
      "2022-12-23 14:01:13,890 - Research1v1 - WARNING - Updating behavior\n",
      "2022-12-23 14:01:14,916 - Research1v1 - WARNING - Updating behavior\n",
      "2022-12-23 14:01:14,973 - SingleOncomingVehicleLocalPlanner 154 - WARNING - Reached destination 0.1949883600369199\n",
      "2022-12-23 14:01:14,973 - SingleOncomingVehicleLocalPlanner 154 - WARNING - Planner is done. changing agent state to finished\n",
      "2022-12-23 14:01:14,974 - SingleOncomingVehicleLocalPlanner 154 - WARNING - Finished. no new control\n",
      "2022-12-23 14:01:15,028 - Research1v1 - WARNING - Walker 154 reached destination\n",
      "2022-12-23 14:01:15,029 - SingleOncomingVehicleLocalPlanner 154 - WARNING - Planner is done. changing agent state to finished\n",
      "2022-12-23 14:01:15,029 - SingleOncomingVehicleLocalPlanner 154 - WARNING - Finished. no new control\n",
      "2022-12-23 14:01:15,083 - Research1v1 - WARNING - Walker 154 reached destination\n",
      "2022-12-23 14:01:15,084 - SingleOncomingVehicleLocalPlanner 154 - WARNING - Planner is done. changing agent state to finished\n",
      "2022-12-23 14:01:15,084 - SingleOncomingVehicleLocalPlanner 154 - WARNING - Finished. no new control\n",
      "2022-12-23 14:01:15,137 - Research1v1 - WARNING - Walker 154 reached destination\n",
      "2022-12-23 14:01:15,138 - SingleOncomingVehicleLocalPlanner 154 - WARNING - Planner is done. changing agent state to finished\n",
      "2022-12-23 14:01:15,138 - SingleOncomingVehicleLocalPlanner 154 - WARNING - Finished. no new control\n",
      "2022-12-23 14:01:15,191 - Research1v1 - WARNING - Walker 154 reached destination\n",
      "2022-12-23 14:01:15,192 - SingleOncomingVehicleLocalPlanner 154 - WARNING - Planner is done. changing agent state to finished\n",
      "2022-12-23 14:01:15,192 - SingleOncomingVehicleLocalPlanner 154 - WARNING - Finished. no new control\n",
      "2022-12-23 14:01:15,245 - Research1v1 - WARNING - Walker 154 reached destination\n",
      "2022-12-23 14:01:15,246 - SingleOncomingVehicleLocalPlanner 154 - WARNING - Planner is done. changing agent state to finished\n",
      "2022-12-23 14:01:15,246 - SingleOncomingVehicleLocalPlanner 154 - WARNING - Finished. no new control\n",
      "2022-12-23 14:01:15,300 - Research1v1 - WARNING - Walker 154 reached destination\n",
      "2022-12-23 14:01:15,301 - SingleOncomingVehicleLocalPlanner 154 - WARNING - Planner is done. changing agent state to finished\n",
      "2022-12-23 14:01:15,301 - SingleOncomingVehicleLocalPlanner 154 - WARNING - Finished. no new control\n"
     ]
    },
    {
     "name": "stdout",
     "output_type": "stream",
     "text": [
      "Episodic Simulator: world ticks 100\n"
     ]
    },
    {
     "name": "stderr",
     "output_type": "stream",
     "text": [
      "2022-12-23 14:01:15,354 - Research1v1 - WARNING - Walker 154 reached destination\n",
      "2022-12-23 14:01:15,355 - SingleOncomingVehicleLocalPlanner 154 - WARNING - Planner is done. changing agent state to finished\n",
      "2022-12-23 14:01:15,355 - SingleOncomingVehicleLocalPlanner 154 - WARNING - Finished. no new control\n",
      "2022-12-23 14:01:15,408 - Research1v1 - WARNING - Walker 154 reached destination\n",
      "2022-12-23 14:01:15,409 - SingleOncomingVehicleLocalPlanner 154 - WARNING - Planner is done. changing agent state to finished\n",
      "2022-12-23 14:01:15,409 - SingleOncomingVehicleLocalPlanner 154 - WARNING - Finished. no new control\n",
      "2022-12-23 14:01:15,462 - Research1v1 - WARNING - Walker 154 reached destination\n",
      "2022-12-23 14:01:15,463 - SingleOncomingVehicleLocalPlanner 154 - WARNING - Planner is done. changing agent state to finished\n",
      "2022-12-23 14:01:15,463 - SingleOncomingVehicleLocalPlanner 154 - WARNING - Finished. no new control\n",
      "2022-12-23 14:01:15,517 - Research1v1 - WARNING - Walker 154 reached destination\n",
      "2022-12-23 14:01:15,518 - SingleOncomingVehicleLocalPlanner 154 - WARNING - Planner is done. changing agent state to finished\n",
      "2022-12-23 14:01:15,518 - SingleOncomingVehicleLocalPlanner 154 - WARNING - Finished. no new control\n",
      "2022-12-23 14:01:15,571 - Research1v1 - WARNING - Walker 154 reached destination\n",
      "2022-12-23 14:01:15,572 - SingleOncomingVehicleLocalPlanner 154 - WARNING - Planner is done. changing agent state to finished\n",
      "2022-12-23 14:01:15,572 - SingleOncomingVehicleLocalPlanner 154 - WARNING - Finished. no new control\n",
      "2022-12-23 14:01:15,625 - Research1v1 - WARNING - Walker 154 reached destination\n",
      "2022-12-23 14:01:15,626 - SingleOncomingVehicleLocalPlanner 154 - WARNING - Planner is done. changing agent state to finished\n",
      "2022-12-23 14:01:15,627 - SingleOncomingVehicleLocalPlanner 154 - WARNING - Finished. no new control\n",
      "2022-12-23 14:01:15,681 - Research1v1 - WARNING - Walker 154 reached destination\n",
      "2022-12-23 14:01:15,682 - SingleOncomingVehicleLocalPlanner 154 - WARNING - Planner is done. changing agent state to finished\n",
      "2022-12-23 14:01:15,682 - SingleOncomingVehicleLocalPlanner 154 - WARNING - Finished. no new control\n",
      "2022-12-23 14:01:15,735 - Research1v1 - WARNING - Walker 154 reached destination\n",
      "2022-12-23 14:01:15,736 - SingleOncomingVehicleLocalPlanner 154 - WARNING - Planner is done. changing agent state to finished\n",
      "2022-12-23 14:01:15,736 - SingleOncomingVehicleLocalPlanner 154 - WARNING - Finished. no new control\n",
      "2022-12-23 14:01:15,789 - Research1v1 - WARNING - Walker 154 reached destination\n",
      "2022-12-23 14:01:15,790 - SingleOncomingVehicleLocalPlanner 154 - WARNING - Planner is done. changing agent state to finished\n",
      "2022-12-23 14:01:15,790 - SingleOncomingVehicleLocalPlanner 154 - WARNING - Finished. no new control\n",
      "2022-12-23 14:01:15,843 - Research1v1 - WARNING - Walker 154 reached destination\n",
      "2022-12-23 14:01:15,844 - SingleOncomingVehicleLocalPlanner 154 - WARNING - Planner is done. changing agent state to finished\n",
      "2022-12-23 14:01:15,844 - SingleOncomingVehicleLocalPlanner 154 - WARNING - Finished. no new control\n",
      "2022-12-23 14:01:15,898 - Research1v1 - WARNING - Walker 154 reached destination\n",
      "2022-12-23 14:01:15,898 - SingleOncomingVehicleLocalPlanner 154 - WARNING - Planner is done. changing agent state to finished\n",
      "2022-12-23 14:01:15,899 - SingleOncomingVehicleLocalPlanner 154 - WARNING - Finished. no new control\n",
      "2022-12-23 14:01:17,192 - Vehicle-LocalPlanner - WARNING - Len of waypoint queue at _init_controller = 0\n",
      "2022-12-23 14:01:17,192 - Vehicle-LocalPlanner - WARNING - Len of waypoint queue at _init_controller = 0\n",
      "2022-12-23 14:01:17,192 - Vehicle-LocalPlanner - WARNING - Len of waypoint queue at _init_controller = 0\n",
      "2022-12-23 14:01:17,192 - Vehicle-LocalPlanner - WARNING - Len of waypoint queue at _init_controller = 0\n",
      "2022-12-23 14:01:17,192 - Vehicle-LocalPlanner - WARNING - Len of waypoint queue at _init_controller = 0\n",
      "2022-12-23 14:01:17,192 - Vehicle-LocalPlanner - WARNING - Len of waypoint queue at _init_controller = 0\n",
      "2022-12-23 14:01:17,192 - Vehicle-LocalPlanner - WARNING - Len of waypoint queue at _init_controller = 0\n",
      "2022-12-23 14:01:17,192 - Vehicle-LocalPlanner - WARNING - Len of waypoint queue at _init_controller = 0\n",
      "2022-12-23 14:01:17,192 - Vehicle-LocalPlanner - WARNING - Len of waypoint queue at _init_controller = 0\n",
      "2022-12-23 14:01:17,192 - Vehicle-LocalPlanner - WARNING - Len of waypoint queue at _init_controller = 0\n",
      "2022-12-23 14:01:17,192 - Vehicle-LocalPlanner - WARNING - Len of waypoint queue at _init_controller = 0\n",
      "2022-12-23 14:01:17,192 - Vehicle-LocalPlanner - WARNING - Len of waypoint queue at _init_controller = 0\n",
      "2022-12-23 14:01:17,192 - Vehicle-LocalPlanner - WARNING - Len of waypoint queue at _init_controller = 0\n",
      "2022-12-23 14:01:17,192 - Vehicle-LocalPlanner - WARNING - Len of waypoint queue at _init_controller = 0\n",
      "2022-12-23 14:01:17,192 - Vehicle-LocalPlanner - WARNING - Len of waypoint queue at _init_controller = 0\n",
      "2022-12-23 14:01:17,192 - Vehicle-LocalPlanner - WARNING - Len of waypoint queue at _init_controller = 0\n",
      "2022-12-23 14:01:17,192 - Vehicle-LocalPlanner - WARNING - Len of waypoint queue at _init_controller = 0\n",
      "2022-12-23 14:01:17,192 - Vehicle-LocalPlanner - WARNING - Len of waypoint queue at _init_controller = 0\n",
      "2022-12-23 14:01:17,353 - PedestrianFactory - WARNING - Internation factor path is None. Using the default at (settings/internal_factors_default.yaml)\n",
      "2022-12-23 14:01:17,356 - SingleOncomingVehicleLocalPlanner 159 - WARNING - remembering 40 tick locations\n"
     ]
    },
    {
     "name": "stdout",
     "output_type": "stream",
     "text": [
      "MapManager: setting spectator position to (-126.68757247924805, -12.168962478637695, 89.32942495007721)\n",
      "setting log level 30 for Vehicle-BasicAgent from default level\n",
      "setting log level 30 for Vehicle-LocalPlanner from default level\n",
      "setting log level 30 for Vehicle-GlobalRoutePlanner from default level\n",
      "Utils->draw_trace_route: length of trace route 56\n",
      "setting log level 30 for PedestrianAgent #159\n",
      "setting log level 30 for ActorManager #159\n",
      "setting log level 30 for ObstacleManager #159 from default level\n",
      "setting log level 30 for SingleOncomingVehicleLocalPlanner 159\n",
      "setting log level 30 for ModelFactory 159 from default level\n",
      "setting log level 30 for BrewerGapModel #159 from default level\n",
      "setting log level 30 for BrewerGapModel #159 from default level\n",
      "setting log level 30 for StopGoModel #159 from default level\n",
      "LINESTRING (-125.13218687199335 -13.180108514560352, -108.7328698966166 -14.723839848135388)\n",
      "setting log level 30 for Simulator from default level\n"
     ]
    }
   ],
   "source": [
    "# take 5 actions which should run 5 seconds of simulation\n",
    "for _ in range(5):\n",
    "    state, reward, done, _ = env.step('sa')\n",
    "    if done:\n",
    "        env.reset()"
   ]
  },
  {
   "cell_type": "code",
   "execution_count": null,
   "metadata": {},
   "outputs": [],
   "source": []
  },
  {
   "cell_type": "code",
   "execution_count": null,
   "metadata": {},
   "outputs": [],
   "source": []
  }
 ],
 "metadata": {
  "interpreter": {
   "hash": "c41efe7cc2f3c8a3ce9b519e40ef040a56d286a1ae6cf399c12879848c67d057"
  },
  "kernelspec": {
   "display_name": "Python 3 (ipykernel)",
   "language": "python",
   "name": "python3"
  },
  "language_info": {
   "codemirror_mode": {
    "name": "ipython",
    "version": 3
   },
   "file_extension": ".py",
   "mimetype": "text/x-python",
   "name": "python",
   "nbconvert_exporter": "python",
   "pygments_lexer": "ipython3",
   "version": "3.7.11"
  }
 },
 "nbformat": 4,
 "nbformat_minor": 4
}
