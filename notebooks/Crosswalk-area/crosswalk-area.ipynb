{
 "cells": [
  {
   "cell_type": "code",
   "execution_count": 115,
   "id": "590eb99a-e0da-46c0-82b4-a3dd308f923e",
   "metadata": {},
   "outputs": [],
   "source": [
    "from shapely.geometry import Polygon, Point, LineString\n",
    "from shapely import affinity\n",
    "import matplotlib.pyplot as plt\n",
    "import random"
   ]
  },
  {
   "cell_type": "code",
   "execution_count": 116,
   "id": "2fcb4e2c-22f6-40c9-93e8-9f610053f4f3",
   "metadata": {},
   "outputs": [],
   "source": [
    "# Create crosswalk area, start point, and end point\n",
    "\n",
    "# Road specification:\n",
    "# width: 6m - 20m\n",
    "# Crosswalk specification:\n",
    "# width: 1.8m - ?\n",
    "\n",
    "# Create crosswalk area as Polygons\n",
    "crosswalk = Polygon([(0.4, 0), (0.4, 3), (0, 6), (2.2, 6), (1.8, 3), (1.8, 0)])\n",
    "\n",
    "# Create start point and end point.\n",
    "start = Point((1, 0))\n",
    "end = Point((1.2, 6))\n",
    "side = LineString([(0, 6), (2.2, 6)])"
   ]
  },
  {
   "cell_type": "code",
   "execution_count": 117,
   "id": "39805268-1400-4dd6-b100-dfd53eba45d2",
   "metadata": {},
   "outputs": [],
   "source": [
    "# Functions that might be useful\n",
    "\n",
    "# Find m and b\n",
    "def fx(p1, p2):\n",
    "    # m = (y1 - y2) / (x1 - x2)\n",
    "    if (p1.x - p2.x) != 0:\n",
    "        m = (p1.y - p2.y) / (p1.x - p2.x)\n",
    "    else:\n",
    "        m = 0\n",
    "    print(\"m =\", m)\n",
    "    # b = y - mx\n",
    "    b = p1.y - (m * p1.x)\n",
    "    print(\"b =\", b)\n",
    "\n",
    "    return m, b\n",
    "\n",
    "# Find distance from point to line\n",
    "# Equations to find point to line:\n",
    "# +=d = (mx3 - y3 + C) / ((m^2 + 1)) ^ 0.5\n",
    "def distance(point, m, b):\n",
    "    x = point.x\n",
    "    y = point.y\n",
    "    d = (m * x - y + b) / ((m ** 2 + 1)) ** 0.5\n",
    "    return d\n",
    "\n",
    "# Find a random side given a polygon\n",
    "def randSide(polygon):\n",
    "    x,y = polygon.exterior.xy\n",
    "    n = len(x) - 1\n",
    "    index = random.randint(-1, n-1)\n",
    "    pointA = Point((x[index], y[index]))\n",
    "    pointB = Point((x[index+1], y[index+1]))\n",
    "    return LineString([pointA, pointB])"
   ]
  },
  {
   "cell_type": "code",
   "execution_count": 118,
   "id": "16c7c993-08a8-4fc1-be67-ccb57b687316",
   "metadata": {},
   "outputs": [],
   "source": [
    "# Generate intermediate points given start and end point.\n",
    "def pointsOnLine(start, end, n):\n",
    "    pointsOL = [start]\n",
    "    line = LineString([start, end])\n",
    "    gap = 1 / (n + 1)\n",
    "    d = gap\n",
    "    for i in range(n):\n",
    "        point = line.interpolate(d, normalized=True)\n",
    "        d = d + gap\n",
    "        pointsOL.append(point)\n",
    "    pointsOL.append(end)\n",
    "    return pointsOL"
   ]
  },
  {
   "cell_type": "code",
   "execution_count": 119,
   "id": "a41ce893-28ac-41be-8b76-4e08beee60ad",
   "metadata": {},
   "outputs": [],
   "source": [
    "# Rotate points +-90 degrees\n",
    "def pointRotate(origin, end, degree=90, d=0.1):\n",
    "    line = LineString([origin, end])\n",
    "    point = line.interpolate(d, normalized=True)\n",
    "    rotated_point = affinity.rotate(point, degree, origin=origin)\n",
    "    return rotated_point"
   ]
  },
  {
   "cell_type": "code",
   "execution_count": 147,
   "id": "b72b5b58-96ab-418f-a627-48defa04ecb9",
   "metadata": {},
   "outputs": [],
   "source": [
    "def closestEnd(point, side):\n",
    "    d = side.project(point)\n",
    "    end = side.interpolate(d)\n",
    "    return end"
   ]
  },
  {
   "cell_type": "code",
   "execution_count": 198,
   "id": "f5bc3a43-d86a-4c95-8ec7-5ecbba165fc8",
   "metadata": {},
   "outputs": [],
   "source": [
    "def shiftedPoints(start, end, crosswalk, side, n=3, d=1.2):\n",
    "    new_points = [start]\n",
    "    pointsOL = pointsOnLine(start, end, n)\n",
    "\n",
    "    for i in range(len(pointsOL) - 1):\n",
    "        rot_origin = pointsOL[1]\n",
    "        rot_end = pointsOL[2]\n",
    "        done = False\n",
    "        while done == False:\n",
    "            chance = random.random()\n",
    "            if chance > 0.5:\n",
    "                new_point = pointRotate(rot_origin, rot_end, degree=90, d=random.random())\n",
    "                if crosswalk.contains(new_point):\n",
    "                    segment = LineString([rot_origin, rot_end])\n",
    "                    line = LineString([new_point, new_points[-1]])\n",
    "                    if line.length <= segment.length*d:\n",
    "                        new_points.append(new_point)\n",
    "                        done = True\n",
    "            else:\n",
    "                new_point = pointRotate(rot_origin, rot_end, degree=-90, d=random.random())\n",
    "                if crosswalk.contains(new_point):\n",
    "                    segment = LineString([rot_origin, rot_end])\n",
    "                    line = LineString([new_point, new_points[-1]])\n",
    "                    if line.length <= segment.length*d:\n",
    "                        new_points.append(new_point)\n",
    "                        done = True\n",
    "\n",
    "        start = new_point\n",
    "        end = closestEnd(start, side)\n",
    "        \n",
    "        pointsOL = pointsOnLine(start, end, n-i)\n",
    "\n",
    "    new_end = closestEnd(new_points[-1], side)\n",
    "    new_points.append(new_end)\n",
    "                    \n",
    "    return new_points"
   ]
  },
  {
   "cell_type": "code",
   "execution_count": 205,
   "id": "186180c6-146c-43d5-8645-05537d7ba69d",
   "metadata": {},
   "outputs": [
    {
     "name": "stdout",
     "output_type": "stream",
     "text": [
      "visualization:\n",
      "POINT (1 0)\n",
      "POINT (1.2353391526467161 1.4938220282451093)\n",
      "POINT (1.1080830068535281 2.620366521183832)\n",
      "POINT (1.2098156011574686 3.7469110141225546)\n",
      "POINT (0.937863572200416 4.873455507061277)\n",
      "POINT (0.937863572200416 6)\n",
      "visualization:\n",
      "POINT (1 0)\n",
      "POINT (0.5710166477856111 1.5159661117404797)\n",
      "POINT (0.6894090707737406 2.63697458380536)\n",
      "POINT (0.4979253418906917 3.75798305587024)\n",
      "POINT (0.1538452028672959 4.878991527935121)\n",
      "POINT (0.1538452028672959 6)\n",
      "visualization:\n",
      "POINT (1 0)\n",
      "POINT (0.9954712141088535 1.5018176261963716)\n",
      "POINT (1.0045880582469762 2.6263632196472786)\n",
      "POINT (0.669266298315577 3.7509088130981856)\n",
      "POINT (0.5545309291544891 4.875454406549093)\n",
      "POINT (0.5545309291544892 6)\n"
     ]
    },
    {
     "data": {
      "image/png": "[encoded data removed]",
      "text/plain": [
       "<Figure size 432x288 with 1 Axes>"
      ]
     },
     "metadata": {
      "needs_background": "light"
     },
     "output_type": "display_data"
    }
   ],
   "source": [
    "# Plot polygons and points\n",
    "x,y = crosswalk.exterior.xy\n",
    "plt.plot(x,y)\n",
    "plt.scatter(end.x, end.y, s=15, color='red')\n",
    "\n",
    "for i in range(3):\n",
    "    line_x = []\n",
    "    line_y = []\n",
    "\n",
    "    new_points = shiftedPoints(start, end, crosswalk, side, d=1.05)\n",
    "    print(\"visualization:\")\n",
    "\n",
    "    for i in range(len(new_points)):\n",
    "        line_x.append(new_points[i].x)\n",
    "        line_y.append(new_points[i].y)\n",
    "        print(new_points[i])\n",
    "        plt.scatter(new_points[i].x, new_points[i].y, s=10, color='grey')\n",
    "\n",
    "    plt.plot(line_x, line_y)\n",
    "plt.xlim(0, 6)\n",
    "plt.savefig('trial.png')"
   ]
  },
  {
   "cell_type": "code",
   "execution_count": null,
   "id": "eabcd22c-f713-4f16-aa68-c72a231dbb90",
   "metadata": {},
   "outputs": [],
   "source": []
  }
 ],
 "metadata": {
  "kernelspec": {
   "display_name": "Python 3 (ipykernel)",
   "language": "python",
   "name": "python3"
  },
  "language_info": {
   "codemirror_mode": {
    "name": "ipython",
    "version": 3
   },
   "file_extension": ".py",
   "mimetype": "text/x-python",
   "name": "python",
   "nbconvert_exporter": "python",
   "pygments_lexer": "ipython3",
   "version": "3.7.11"
  }
 },
 "nbformat": 4,
 "nbformat_minor": 5
}
