{
 "cells": [
  {
   "cell_type": "code",
   "execution_count": 1,
   "id": "590eb99a-e0da-46c0-82b4-a3dd308f923e",
   "metadata": {},
   "outputs": [],
   "source": [
    "from shapely.geometry import Polygon, Point, LineString\n",
    "from shapely import affinity\n",
    "import matplotlib.pyplot as plt\n",
    "import random"
   ]
  },
  {
   "cell_type": "code",
   "execution_count": 2,
   "id": "2fcb4e2c-22f6-40c9-93e8-9f610053f4f3",
   "metadata": {},
   "outputs": [],
   "source": [
    "# Create polygons and points\n",
    "polygon = Polygon([(10, 0), (10, 100), (0, 200), (60, 200), (50, 100), (50, 0)])\n",
    "# TODO: Randomize start and end point on the bound\n",
    "start = Point((20, 0))\n",
    "end = Point((30, 200))"
   ]
  },
  {
   "cell_type": "code",
   "execution_count": 3,
   "id": "bc2eb635-4860-4c1f-be42-8cf03b82d418",
   "metadata": {},
   "outputs": [],
   "source": [
    "# Find m and b\n",
    "def fx(p1, p2):\n",
    "    # m = (y1 - y2) / (x1 - x2)\n",
    "    if (p1.x - p2.x) != 0:\n",
    "        m = (p1.y - p2.y) / (p1.x - p2.x)\n",
    "    else:\n",
    "        m = 0\n",
    "    print(\"m =\", m)\n",
    "    # b = y - mx\n",
    "    b = p1.y - (m * p1.x)\n",
    "    print(\"b =\", b)\n",
    "\n",
    "    return m, b\n"
   ]
  },
  {
   "cell_type": "code",
   "execution_count": 4,
   "id": "ad628cc7-0a1b-4723-9047-e09585f1da7f",
   "metadata": {},
   "outputs": [],
   "source": [
    "# Find distance from point to line\n",
    "# Equations to find point to line:\n",
    "# +=d = (mx3 - y3 + C) / ((m^2 + 1)) ^ 0.5\n",
    "def distance(point, m, b):\n",
    "    x = point.x\n",
    "    y = point.y\n",
    "    d = (m * x - y + b) / ((m ** 2 + 1)) ** 0.5\n",
    "    return d"
   ]
  },
  {
   "cell_type": "code",
   "execution_count": 5,
   "id": "16c7c993-08a8-4fc1-be67-ccb57b687316",
   "metadata": {},
   "outputs": [],
   "source": [
    "# D = sqrt((start.x - point.x)^2 + (start.y - point.y)^2)\n",
    "def pointsOnLine(start, end, n):\n",
    "    pointsOL = []\n",
    "    line = LineString([start, end])\n",
    "    gap = 1 / (n + 1)\n",
    "    d = gap\n",
    "    for i in range(n):\n",
    "        point = line.interpolate(d, normalized=True)\n",
    "        d = d + gap\n",
    "        pointsOL.append(point)\n",
    "    pointsOL.append(end)\n",
    "    return pointsOL\n",
    "    "
   ]
  },
  {
   "cell_type": "code",
   "execution_count": 6,
   "id": "a41ce893-28ac-41be-8b76-4e08beee60ad",
   "metadata": {},
   "outputs": [],
   "source": [
    "# Rotate points +-90 degrees\n",
    "def pointRotate(origin, end, degree=90, d=0.1):\n",
    "    line = LineString([origin, end])\n",
    "    point = line.interpolate(d, normalized=True)\n",
    "    rotated_point = affinity.rotate(point, degree, origin=origin)\n",
    "    return rotated_point"
   ]
  },
  {
   "cell_type": "code",
   "execution_count": 7,
   "id": "ff379d1f-0307-4195-b6f8-2ee5206c454c",
   "metadata": {},
   "outputs": [],
   "source": [
    "#def shiftedPoints(polygon, start, end, n):\n",
    "#    points = pointsOnLine(start, end, n)\n",
    "#    print(len(points))\n",
    "#    # rotate points[]\n",
    "#    new_points = []\n",
    "#    for i in range(len(points)):\n",
    "#        if i == len(points) - 1:\n",
    "#            new_point = pointRotate(points[i], points[i-1], degree=-90, d=0.05*i**1.3)\n",
    "#            print(0.1*i**1.2)\n",
    "#            new_points.append(new_point)\n",
    "#        else:\n",
    "#            new_point = pointRotate(points[i], points[i+1], d=0.05*i**1.3)\n",
    "#            print(0.1*i**1.2)\n",
    "#            new_points.append(new_point)\n",
    "#    return new_points\n",
    "    "
   ]
  },
  {
   "cell_type": "code",
   "execution_count": 8,
   "id": "c882dad6-6c8b-4eca-9b18-0d1d0c7e0e8c",
   "metadata": {},
   "outputs": [],
   "source": [
    "def shiftedPoints(start, line, polygon, n):\n",
    "    d = random.random()\n",
    "    end = line.interpolate(d, normalized=True)\n",
    "    points = pointsOnLine(start, end, n)\n",
    "    print(len(points))\n",
    "    # rotate points[]\n",
    "    new_points = []\n",
    "    for i in range(len(points)):\n",
    "        chance = random.random()\n",
    "        if chance >= 0.5:\n",
    "            if i == len(points) - 1:\n",
    "                new_point = pointRotate(points[i], points[i-1], degree=90, d=0.05*i**1.3)\n",
    "                print(0.1*i**(1+chance))\n",
    "                if polygon.contains(new_point):\n",
    "                    new_points.append(new_point)\n",
    "            else:\n",
    "                new_point = pointRotate(points[i], points[i+1], d=0.05*i**1.3)\n",
    "                print(0.1*i**(1+chance))\n",
    "                if polygon.contains(new_point):\n",
    "                    new_points.append(new_point)\n",
    "        else:\n",
    "            if i == len(points) - 1:\n",
    "                new_point = pointRotate(points[i], points[i-1], degree=-90, d=0.05*i**1.3)\n",
    "                print(0.1*i**1.2)\n",
    "                if polygon.contains(new_point):\n",
    "                    new_points.append(new_point)\n",
    "            else:\n",
    "                new_point = pointRotate(points[i], points[i+1], degree = -90, d=0.05*i**1.3)\n",
    "                print(0.1*i**1.2)\n",
    "                if polygon.contains(new_point):\n",
    "                    new_points.append(new_point)\n",
    "    return new_points, end"
   ]
  },
  {
   "cell_type": "code",
   "execution_count": 9,
   "id": "514946aa-8ceb-45f8-8cfd-b9167ec21163",
   "metadata": {},
   "outputs": [],
   "source": [
    "def randSide(polygon):\n",
    "    x,y = polygon.exterior.xy\n",
    "    n = len(x) - 1\n",
    "    index = random.randint(-1, n-1)\n",
    "    pointA = Point((x[index], y[index]))\n",
    "    pointB = Point((x[index+1], y[index+1]))\n",
    "    return LineString([pointA, pointB])"
   ]
  },
  {
   "cell_type": "code",
   "execution_count": 48,
   "id": "b72b5b58-96ab-418f-a627-48defa04ecb9",
   "metadata": {},
   "outputs": [],
   "source": [
    "def closestEnd(points, side):\n",
    "    p = points[-1]\n",
    "    d = side.project(p)\n",
    "    end = side.interpolate(d)\n",
    "    return end"
   ]
  },
  {
   "cell_type": "code",
   "execution_count": 68,
   "id": "186180c6-146c-43d5-8645-05537d7ba69d",
   "metadata": {},
   "outputs": [
    {
     "name": "stdout",
     "output_type": "stream",
     "text": [
      "10.0 0.0 10.0 0.0\n",
      "10.0 0.0 10.0 100.0\n",
      "11\n",
      "0.0\n",
      "0.1\n",
      "0.303550067033218\n",
      "0.3737192818846552\n",
      "0.5278031643091577\n",
      "0.6898648307306074\n",
      "2.835087508269486\n",
      "1.0330412131161866\n",
      "5.511859059578345\n",
      "1.3966610165238236\n",
      "5.263300532441177\n"
     ]
    },
    {
     "data": {
      "text/plain": [
       "[<matplotlib.lines.Line2D at 0x1dea3330708>]"
      ]
     },
     "execution_count": 68,
     "metadata": {},
     "output_type": "execute_result"
    },
    {
     "data": {
      "image/png": "[encoded data removed]",
      "text/plain": [
       "<Figure size 432x288 with 1 Axes>"
      ]
     },
     "metadata": {
      "needs_background": "light"
     },
     "output_type": "display_data"
    }
   ],
   "source": [
    "# Plot polygons and points\n",
    "x,y = polygon.exterior.xy\n",
    "plt.plot(x,y)\n",
    "line_x = [start.x]\n",
    "line_y = [start.y]\n",
    "\n",
    "# Make sure the side isn't the same as the start point\n",
    "condition = True\n",
    "while condition == True:\n",
    "    side = randSide(polygon)\n",
    "    minx, miny, maxx, maxy = side.bounds\n",
    "    print(minx, miny, maxx, maxy)\n",
    "    if miny != maxy or miny != start.y or maxy != start.y:\n",
    "        condition = False\n",
    "    \n",
    "\n",
    "\n",
    "new_points, end = shiftedPoints(start, side, polygon, 10)\n",
    "plt.scatter(end.x, end.y, s=10, color='red')\n",
    "\n",
    "newEnd = closestEnd(new_points, side)\n",
    "plt.scatter(newEnd.x, newEnd.y, s=10, color='green')\n",
    "\n",
    "for i in range(len(new_points)):\n",
    "    line_x.append(new_points[i].x)\n",
    "    line_y.append(new_points[i].y)\n",
    "    plt.scatter(new_points[i].x, new_points[i].y, s=10, color='grey')\n",
    "\n",
    "plt.scatter(start.x, start.y, s=10, color='yellow')        \n",
    "line_x.append(newEnd.x)\n",
    "line_y.append(newEnd.y)\n",
    "plt.plot(line_x, line_y, color='grey')"
   ]
  },
  {
   "cell_type": "code",
   "execution_count": 15,
   "id": "b5e1e8b7-7912-4294-9f26-f05d2d466a08",
   "metadata": {},
   "outputs": [
    {
     "name": "stdout",
     "output_type": "stream",
     "text": [
      "10.0\n",
      "array('d', [0.0, 100.0, 200.0, 200.0, 100.0, 0.0, 0.0])\n",
      "7\n"
     ]
    }
   ],
   "source": [
    "x, y = polygon.exterior.xy\n",
    "print(x[0])\n",
    "print(y)\n",
    "print(len(x))"
   ]
  },
  {
   "cell_type": "code",
   "execution_count": null,
   "id": "4e93d686-d159-40ed-9346-616f8d726833",
   "metadata": {},
   "outputs": [],
   "source": []
  }
 ],
 "metadata": {
  "kernelspec": {
   "display_name": "Python 3 (ipykernel)",
   "language": "python",
   "name": "python3"
  },
  "language_info": {
   "codemirror_mode": {
    "name": "ipython",
    "version": 3
   },
   "file_extension": ".py",
   "mimetype": "text/x-python",
   "name": "python",
   "nbconvert_exporter": "python",
   "pygments_lexer": "ipython3",
   "version": "3.7.11"
  }
 },
 "nbformat": 4,
 "nbformat_minor": 5
}
