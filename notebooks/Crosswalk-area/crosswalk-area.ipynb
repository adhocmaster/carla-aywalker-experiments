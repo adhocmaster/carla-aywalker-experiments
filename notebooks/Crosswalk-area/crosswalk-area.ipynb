{
 "cells": [
  {
   "cell_type": "code",
   "execution_count": 3,
   "id": "590eb99a-e0da-46c0-82b4-a3dd308f923e",
   "metadata": {},
   "outputs": [],
   "source": [
    "from shapely.geometry import Polygon, Point, LineString\n",
    "from shapely import affinity\n",
    "import matplotlib.pyplot as plt\n",
    "import random"
   ]
  },
  {
   "cell_type": "code",
   "execution_count": 4,
   "id": "2fcb4e2c-22f6-40c9-93e8-9f610053f4f3",
   "metadata": {},
   "outputs": [],
   "source": [
    "# Create polygons and points\n",
    "polygon = Polygon([(10, 0), (10, 100), (0, 200), (60, 200), (50, 100), (50, 0)])\n",
    "# TODO: Randomize start and end point on the bound\n",
    "start = Point((20, 0))\n",
    "end = Point((30, 200))"
   ]
  },
  {
   "cell_type": "code",
   "execution_count": 5,
   "id": "bc2eb635-4860-4c1f-be42-8cf03b82d418",
   "metadata": {},
   "outputs": [],
   "source": [
    "# Find m and b\n",
    "def fx(p1, p2):\n",
    "    # m = (y1 - y2) / (x1 - x2)\n",
    "    if (p1.x - p2.x) != 0:\n",
    "        m = (p1.y - p2.y) / (p1.x - p2.x)\n",
    "    else:\n",
    "        m = 0\n",
    "    print(\"m =\", m)\n",
    "    # b = y - mx\n",
    "    b = p1.y - (m * p1.x)\n",
    "    print(\"b =\", b)\n",
    "\n",
    "    return m, b\n"
   ]
  },
  {
   "cell_type": "code",
   "execution_count": 6,
   "id": "ad628cc7-0a1b-4723-9047-e09585f1da7f",
   "metadata": {},
   "outputs": [],
   "source": [
    "# Find distance from point to line\n",
    "# Equations to find point to line:\n",
    "# +=d = (mx3 - y3 + C) / ((m^2 + 1)) ^ 0.5\n",
    "def distance(point, m, b):\n",
    "    x = point.x\n",
    "    y = point.y\n",
    "    d = (m * x - y + b) / ((m ** 2 + 1)) ** 0.5\n",
    "    return d"
   ]
  },
  {
   "cell_type": "code",
   "execution_count": 7,
   "id": "16c7c993-08a8-4fc1-be67-ccb57b687316",
   "metadata": {},
   "outputs": [],
   "source": [
    "# D = sqrt((start.x - point.x)^2 + (start.y - point.y)^2)\n",
    "def pointsOnLine(start, end, n):\n",
    "    pointsOL = []\n",
    "    line = LineString([start, end])\n",
    "    gap = 1 / (n + 1)\n",
    "    d = gap\n",
    "    for i in range(n):\n",
    "        point = line.interpolate(d, normalized=True)\n",
    "        d = d + gap\n",
    "        pointsOL.append(point)\n",
    "    return pointsOL\n",
    "    "
   ]
  },
  {
   "cell_type": "code",
   "execution_count": 67,
   "id": "a41ce893-28ac-41be-8b76-4e08beee60ad",
   "metadata": {},
   "outputs": [],
   "source": [
    "# Rotate points +-90 degrees\n",
    "def pointRotate(origin, end, degree=90, d=1):\n",
    "    line = LineString([origin, end])\n",
    "    point = line.interpolate(d, normalized=True)\n",
    "    rotated_point = affinity.rotate(point, degree, origin=origin)\n",
    "    return rotated_point"
   ]
  },
  {
   "cell_type": "code",
   "execution_count": 60,
   "id": "186180c6-146c-43d5-8645-05537d7ba69d",
   "metadata": {},
   "outputs": [
    {
     "data": {
      "text/plain": [
       "[<matplotlib.lines.Line2D at 0x1d8a46fcf88>]"
      ]
     },
     "execution_count": 60,
     "metadata": {},
     "output_type": "execute_result"
    },
    {
     "data": {
      "image/png": "[encoded data removed]",
      "text/plain": [
       "<Figure size 432x288 with 1 Axes>"
      ]
     },
     "metadata": {
      "needs_background": "light"
     },
     "output_type": "display_data"
    }
   ],
   "source": [
    "points = pointsOnLine(start, end, 10)\n",
    "# Plot polygons and points\n",
    "x,y = polygon.exterior.xy\n",
    "plt.plot(x,y)\n",
    "line_x = [start.x]\n",
    "line_y = [start.y]\n",
    "for i in range(len(points)):\n",
    "    line_x.append(points[i].x)\n",
    "    line_y.append(points[i].y)\n",
    "    plt.scatter(points[i].x, points[i].y, s=10, color='grey')\n",
    "\n",
    "plt.scatter(start.x, start.y, s=10, color='yellow')        \n",
    "plt.scatter(end.x, end.y, s=10, color='green')\n",
    "line_x.append(end.x)\n",
    "line_y.append(end.y)\n",
    "plt.plot(line_x, line_y, color='grey')"
   ]
  },
  {
   "cell_type": "code",
   "execution_count": 78,
   "id": "f899fb98-5b23-4182-9e48-6d8a31d10413",
   "metadata": {},
   "outputs": [
    {
     "data": {
      "image/png": "[encoded data removed]",
      "text/plain": [
       "<Figure size 432x288 with 1 Axes>"
      ]
     },
     "metadata": {
      "needs_background": "light"
     },
     "output_type": "display_data"
    }
   ],
   "source": [
    "# testing pointRotate()\n",
    "point_a = points[0]\n",
    "point_b = points[1]\n",
    "plt.scatter(start.x, start.y, s=10, color='yellow')\n",
    "plt.scatter(end.x, end.y, s=10, color='green')\n",
    "plt.scatter(point_a.x, point_a.y, s=10, color='grey')\n",
    "plt.scatter(point_b.x, point_b.y, s=10, color='red')\n",
    "for i in range(12):\n",
    "    rotated_a = pointRotate(point_a, point_b, degree=i*15)\n",
    "    plt.scatter(rotated_a.x, rotated_a.y, s=5, color='red')"
   ]
  },
  {
   "cell_type": "code",
   "execution_count": 15,
   "id": "b5e1e8b7-7912-4294-9f26-f05d2d466a08",
   "metadata": {},
   "outputs": [
    {
     "data": {
      "text/plain": [
       "3"
      ]
     },
     "execution_count": 15,
     "metadata": {},
     "output_type": "execute_result"
    }
   ],
   "source": []
  },
  {
   "cell_type": "code",
   "execution_count": null,
   "id": "4e93d686-d159-40ed-9346-616f8d726833",
   "metadata": {},
   "outputs": [],
   "source": []
  }
 ],
 "metadata": {
  "kernelspec": {
   "display_name": "Python 3 (ipykernel)",
   "language": "python",
   "name": "python3"
  },
  "language_info": {
   "codemirror_mode": {
    "name": "ipython",
    "version": 3
   },
   "file_extension": ".py",
   "mimetype": "text/x-python",
   "name": "python",
   "nbconvert_exporter": "python",
   "pygments_lexer": "ipython3",
   "version": "3.7.11"
  }
 },
 "nbformat": 4,
 "nbformat_minor": 5
}
