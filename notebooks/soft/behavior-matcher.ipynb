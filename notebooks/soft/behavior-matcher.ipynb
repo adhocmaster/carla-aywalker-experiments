{
 "cells": [
  {
   "cell_type": "code",
   "execution_count": 1,
   "id": "590eb99a-e0da-46c0-82b4-a3dd308f923e",
   "metadata": {},
   "outputs": [
    {
     "name": "stdout",
     "output_type": "stream",
     "text": [
      "current working dirC:\\AV\\Carla\\CARLA_0.9.13\\WindowsNoEditor\\PythonAPI\\experiments\n"
     ]
    }
   ],
   "source": [
    "exec(open(\"init_notebook.py\", \"r\").read())\n",
    "%load_ext autoreload\n",
    "%autoreload 2"
   ]
  },
  {
   "cell_type": "code",
   "execution_count": 2,
   "id": "e702b340-ecfa-4861-add8-e18a19624e1e",
   "metadata": {},
   "outputs": [],
   "source": [
    "from shapely.geometry import Polygon, Point, LineString\n",
    "from shapely import affinity\n",
    "import matplotlib.pyplot as plt\n",
    "import math\n",
    "import random\n",
    "from agents.pedestrians.soft import *"
   ]
  },
  {
   "cell_type": "code",
   "execution_count": 3,
   "id": "eabcd22c-f713-4f16-aa68-c72a231dbb90",
   "metadata": {},
   "outputs": [],
   "source": [
    "point1 = NavPoint(\n",
    "    laneId=-1,\n",
    "    laneSection=LaneSection.LEFT,\n",
    "    distanceToEgo=24.0, \n",
    "    speed=1,\n",
    "    direction=Direction.RL\n",
    ")\n",
    "point2 = NavPoint(\n",
    "    laneId=-1,\n",
    "    laneSection=LaneSection.MIDDLE,\n",
    "    distanceToEgo=7.0, \n",
    "    speed=0.5,\n",
    "    direction=Direction.RL\n",
    ")\n",
    "\n",
    "point3 = NavPoint(\n",
    "    laneId=-1,\n",
    "    laneSection=LaneSection.MIDDLE,\n",
    "    distanceToEgo=1.0, \n",
    "    speed=0.1,\n",
    "    direction=Direction.RL\n",
    ")\n",
    "\n",
    "\n",
    "point4 = NavPoint(\n",
    "    laneId=0,\n",
    "    laneSection=LaneSection.LEFT,\n",
    "    distanceToEgo=-1, \n",
    "    speed=1,\n",
    "    direction=Direction.RL\n",
    ")\n",
    "\n",
    "navPath = NavPath(\n",
    "    roadWidth=2 * 3.5,\n",
    "    path=[point1, point2, point3, point4],\n",
    "    nEgoDirectionLanes=1,\n",
    "    nEgoOppositeDirectionLanes=1,\n",
    "    avgSpeed=0.5,\n",
    "    maxSpeed=1.5,\n",
    "    minSpeed=0.0\n",
    ")\n"
   ]
  },
  {
   "cell_type": "code",
   "execution_count": 4,
   "id": "f22b71aa-b7f0-4c1a-be16-b220fc503d08",
   "metadata": {},
   "outputs": [
    {
     "name": "stdout",
     "output_type": "stream",
     "text": [
      "1 slowing down. need to check orientation\n",
      "on ego's left\n"
     ]
    }
   ],
   "source": [
    "matcher = BehaviorMatcher()\n",
    "matcher.tagNavPoints(navPath)"
   ]
  },
  {
   "cell_type": "code",
   "execution_count": 5,
   "id": "946e65a0-f188-454c-9dd2-f81b464652d5",
   "metadata": {},
   "outputs": [],
   "source": [
    "import matplotlib.pyplot as plt\n",
    "from matplotlib.patches import Rectangle"
   ]
  },
  {
   "cell_type": "code",
   "execution_count": 6,
   "id": "4760e052-f569-4f55-a761-8f799734f93e",
   "metadata": {},
   "outputs": [
    {
     "data": {
      "image/png": "[encoded data removed]",
      "text/plain": [
       "<Figure size 432x288 with 1 Axes>"
      ]
     },
     "metadata": {
      "needs_background": "light"
     },
     "output_type": "display_data"
    }
   ],
   "source": [
    "#define Matplotlib figure and axis\n",
    "fig, ax = plt.subplots()\n",
    "\n",
    "#create simple line plot\n",
    "ax.plot([0, 10],[0, 10])\n",
    "\n",
    "#add rectangle to plot\n",
    "ax.add_patch(Rectangle((1, 1), 2, 6))\n",
    "\n",
    "#display plot\n",
    "plt.show()"
   ]
  },
  {
   "cell_type": "code",
   "execution_count": 7,
   "id": "52147608-9868-48b6-8ea0-c710dfcd974b",
   "metadata": {},
   "outputs": [
    {
     "data": {
      "text/plain": [
       "matplotlib.axes._subplots.AxesSubplot"
      ]
     },
     "execution_count": 7,
     "metadata": {},
     "output_type": "execute_result"
    }
   ],
   "source": [
    "type(ax)"
   ]
  },
  {
   "cell_type": "code",
   "execution_count": 9,
   "id": "b686cfc9-5cc0-43ce-8da3-14a657aa870d",
   "metadata": {},
   "outputs": [
    {
     "name": "stdout",
     "output_type": "stream",
     "text": [
      "2.1 14.4\n",
      "0.9 0.9\n"
     ]
    },
    {
     "data": {
      "image/png": "[encoded data removed]",
      "text/plain": [
       "<Figure size 210x1440 with 1 Axes>"
      ]
     },
     "metadata": {
      "needs_background": "light"
     },
     "output_type": "display_data"
    }
   ],
   "source": [
    "visualizer = SoftVisualizer()\n",
    "visualizer.visualizeNavPath(navPath)"
   ]
  },
  {
   "cell_type": "code",
   "execution_count": null,
   "id": "9f745525-82a7-4945-a7b4-8a84fac8816f",
   "metadata": {},
   "outputs": [],
   "source": []
  }
 ],
 "metadata": {
  "kernelspec": {
   "display_name": "Python 3 (ipykernel)",
   "language": "python",
   "name": "python3"
  },
  "language_info": {
   "codemirror_mode": {
    "name": "ipython",
    "version": 3
   },
   "file_extension": ".py",
   "mimetype": "text/x-python",
   "name": "python",
   "nbconvert_exporter": "python",
   "pygments_lexer": "ipython3",
   "version": "3.7.11"
  },
  "vscode": {
   "interpreter": {
    "hash": "077a00195bd4b81c9b30195e1129ae6b06dfd6c9e83eac42d1c7e5d8b4fbdd88"
   }
  }
 },
 "nbformat": 4,
 "nbformat_minor": 5
}
